{
 "cells": [
  {
   "cell_type": "markdown",
   "id": "3b54d1a7-7f2f-4c78-afa3-577cc2e02935",
   "metadata": {},
   "source": [
    "### DSC 630 Week  : \n",
    "#### Activity 10.2 \n",
    "#### Author: Brian Reppeto 11/2/2024"
   ]
  },
  {
   "cell_type": "markdown",
   "id": "42c4169c-1222-4283-ae40-69ab95951014",
   "metadata": {},
   "source": [
    "###  Import libraries"
   ]
  },
  {
   "cell_type": "code",
   "execution_count": 61,
   "id": "a719e15b-ed50-4030-ac97-e434938c50a3",
   "metadata": {},
   "outputs": [],
   "source": [
    "# import libraries\n",
    "\n",
    "import pandas as pd\n",
    "from sklearn.metrics.pairwise import cosine_similarity\n",
    "import re"
   ]
  },
  {
   "cell_type": "markdown",
   "id": "d56647a3-2c3d-4374-aa62-348dd29786ec",
   "metadata": {},
   "source": [
    "### Load and clean data"
   ]
  },
  {
   "cell_type": "code",
   "execution_count": 62,
   "id": "e1e7b014-da3a-48a6-9916-402e32502442",
   "metadata": {},
   "outputs": [],
   "source": [
    "# load datasets\n",
    "\n",
    "movies_df = pd.read_csv('ml-latest-small/movies.csv')\n",
    "ratings_df = pd.read_csv('ml-latest-small/ratings.csv')"
   ]
  },
  {
   "cell_type": "markdown",
   "id": "22bccb14-3ba2-48ae-8643-5c77f1e7ef05",
   "metadata": {},
   "source": [
    "###  Create user-movie matrix"
   ]
  },
  {
   "cell_type": "code",
   "execution_count": 63,
   "id": "538e4585-1e5f-46b2-a70f-0d22e5ab071e",
   "metadata": {},
   "outputs": [],
   "source": [
    "# Create a user-movie matrix with users as rows, movies as columns, and ratings as values\n",
    "\n",
    "user_movie_matrix = ratings_df.pivot(index='userId', columns='movieId', values='rating')\n",
    "user_movie_matrix = user_movie_matrix.fillna(0)  # Fill missing values with 0"
   ]
  },
  {
   "cell_type": "markdown",
   "id": "07e495b1-bbf1-405a-acb1-ead23d3a2879",
   "metadata": {},
   "source": [
    "### Calculate cosine similarity between movies"
   ]
  },
  {
   "cell_type": "code",
   "execution_count": 70,
   "id": "00b1b5f1-5ca7-41fa-8dd5-42700798c910",
   "metadata": {},
   "outputs": [],
   "source": [
    "# Calculate cosine similarity on the complete user-movie matrix.. this creates a # bewteen -1 and 1 with 1 being the most similar\n",
    "\n",
    "movie_similarity = cosine_similarity(user_movie_matrix.T)\n",
    "movie_similarity_df = pd.DataFrame(movie_similarity, index=user_movie_matrix.columns, columns=user_movie_matrix.columns)"
   ]
  },
  {
   "cell_type": "markdown",
   "id": "85266729-2aa6-4e6a-882e-b04e8dbfed98",
   "metadata": {},
   "source": [
    "###  Clean the titles to make searching more flexible (remove year)"
   ]
  },
  {
   "cell_type": "code",
   "execution_count": 73,
   "id": "bd9d8824-01a4-4233-976e-6592acdb6af7",
   "metadata": {},
   "outputs": [],
   "source": [
    "# Function to extract movie title without year using the regular expression library.  When testing I did not always know the year\n",
    "# so I removed as I would assume most would not\n",
    "\n",
    "def clean_movie_title(title):\n",
    "    # Remove the year in parentheses, if present\n",
    "    return re.sub(r'\\s*\\(\\d{4}\\)$', '', title).strip().lower()"
   ]
  },
  {
   "cell_type": "markdown",
   "id": "f120234b-2d03-4ba5-9bdb-ed34e0f49c36",
   "metadata": {},
   "source": [
    "###  Function to get top 10 similar movies for a given movie title"
   ]
  },
  {
   "cell_type": "code",
   "execution_count": 72,
   "id": "27bd37b8-bd80-4a4f-8dec-848bdbc5a1fe",
   "metadata": {},
   "outputs": [],
   "source": [
    "# Function cleans the movie title, finds matching movies for the top 10 movies\n",
    "\n",
    "def recommend_movies(movie_title, movies_df, movie_similarity_df, top_n=10):\n",
    "    # Clean the input movie title to ignore the year\n",
    "    cleaned_title = clean_movie_title(movie_title)\n",
    "    \n",
    "    # Find movieId for movies matching the cleaned title\n",
    "    movie_ids = movies_df[movies_df['title'].str.lower().apply(clean_movie_title) == cleaned_title]['movieId'].values\n",
    "    if len(movie_ids) == 0:\n",
    "        return f\"Movie '{movie_title}' not found in the dataset.\"\n",
    "\n",
    "    # Use the first matching movieId for recommendations\n",
    "    movie_id = movie_ids[0]\n",
    "    \n",
    "    # Get similarity scores for the given movie\n",
    "    similar_movies = movie_similarity_df[movie_id].sort_values(ascending=False)[1:top_n+1]\n",
    "    \n",
    "    # Get movie titles for the recommended movies\n",
    "    recommended_titles = movies_df[movies_df['movieId'].isin(similar_movies.index)]['title'].values\n",
    "    return recommended_titles\n"
   ]
  },
  {
   "cell_type": "markdown",
   "id": "5764b46a-cf72-4bcd-a411-d7b6d616efa4",
   "metadata": {},
   "source": [
    "### Recommendation without using the year in the title"
   ]
  },
  {
   "cell_type": "code",
   "execution_count": 69,
   "id": "e20fd3b8-a064-42d1-a6f6-3669196f880a",
   "metadata": {},
   "outputs": [
    {
     "data": {
      "text/plain": [
       "array(['E.T. the Extra-Terrestrial (1982)', 'Aliens (1986)',\n",
       "       'Terminator, The (1984)', 'Highlander (1986)',\n",
       "       'Star Trek II: The Wrath of Khan (1982)',\n",
       "       'Indiana Jones and the Temple of Doom (1984)',\n",
       "       'Planet of the Apes (1968)', 'Superman II (1980)',\n",
       "       'RoboCop (1987)', 'Predator (1987)'], dtype=object)"
      ]
     },
     "execution_count": 69,
     "metadata": {},
     "output_type": "execute_result"
    }
   ],
   "source": [
    "# Enter the name of the movie in quotes below (note that this dataset is small and all movies might not be in the dataset)\n",
    "\n",
    "recommend_movies(\"superman\", movies_df, movie_similarity_df)"
   ]
  },
  {
   "cell_type": "markdown",
   "id": "02cdcb05-c61d-4e09-9850-8107792098e4",
   "metadata": {},
   "source": [
    "##  Recommender System Overview\n",
    "The recommender system suggests ten movies similar to a user specified movie. The recommender provides recommendations even if the input movie has only a few ratings.\n",
    "\n",
    "Steps:\n",
    "\n",
    "Data Loading: \n",
    "Load movie and rating data, focusing on movies (with movieId and title) and user ratings.\n",
    "\n",
    "User-Movie Matrix: \n",
    "A user-movie matrix is created, where each row represents a user, each column a movie, and each cell the user’s rating for that movie. Missing ratings are set to zero.\n",
    "\n",
    "Movie Similarity Calculation: \n",
    "Cosine similarity is computed across movies in the matrix, generating a similarity matrix that quantifies how closely movies are rated alike by users.\n",
    "\n",
    "Title Cleaning: \n",
    "A function strips years from titles to allow users to input movie names without needing the release year (Toy Story instead of Toy Story (1995).\n",
    "\n",
    "Recommendation Function: The main function finds similar movies based on the similarity matrix, sorts them, and returns the top ten."
   ]
  },
  {
   "cell_type": "code",
   "execution_count": null,
   "id": "dd615860-9591-4038-a68d-489aa4549691",
   "metadata": {},
   "outputs": [],
   "source": []
  }
 ],
 "metadata": {
  "kernelspec": {
   "display_name": "Python 3 (ipykernel)",
   "language": "python",
   "name": "python3"
  },
  "language_info": {
   "codemirror_mode": {
    "name": "ipython",
    "version": 3
   },
   "file_extension": ".py",
   "mimetype": "text/x-python",
   "name": "python",
   "nbconvert_exporter": "python",
   "pygments_lexer": "ipython3",
   "version": "3.11.9"
  }
 },
 "nbformat": 4,
 "nbformat_minor": 5
}
