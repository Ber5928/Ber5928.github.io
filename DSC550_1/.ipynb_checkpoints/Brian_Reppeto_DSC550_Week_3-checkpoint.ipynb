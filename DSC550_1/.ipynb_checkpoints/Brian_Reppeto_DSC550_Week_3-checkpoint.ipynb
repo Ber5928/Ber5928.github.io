{
 "cells": [
  {
   "cell_type": "markdown",
   "id": "4a95b5ab",
   "metadata": {},
   "source": [
    "### DSC 550 Week  : \n",
    "#### Activity 3.2 \n",
    "#### Author: Brian Reppeto 3/25/2024"
   ]
  },
  {
   "cell_type": "code",
   "execution_count": 55,
   "id": "28cbb841",
   "metadata": {},
   "outputs": [],
   "source": [
    "# import libraries\n",
    "\n",
    "import pandas as pd\n",
    "from textblob import TextBlob\n",
    "import re\n",
    "import nltk\n",
    "from nltk.corpus import stopwords\n",
    "from nltk.tokenize import word_tokenize\n",
    "from nltk.stem import PorterStemmer\n",
    "from sklearn.feature_extraction.text import CountVectorizer\n",
    "from sklearn.feature_extraction.text import TfidfVectorizer\n",
    "from vaderSentiment.vaderSentiment import SentimentIntensityAnalyzer\n",
    "from sklearn.metrics import accuracy_score"
   ]
  },
  {
   "cell_type": "code",
   "execution_count": 5,
   "id": "4ca38a8d",
   "metadata": {},
   "outputs": [],
   "source": [
    "# import movie file\n",
    "\n",
    "data_path='labeledTrainData.tsv'\n",
    "movie_df=pd.read_csv(data_path, delimiter='\\t')"
   ]
  },
  {
   "cell_type": "code",
   "execution_count": 6,
   "id": "4b073e15",
   "metadata": {},
   "outputs": [
    {
     "data": {
      "text/html": [
       "<div>\n",
       "<style scoped>\n",
       "    .dataframe tbody tr th:only-of-type {\n",
       "        vertical-align: middle;\n",
       "    }\n",
       "\n",
       "    .dataframe tbody tr th {\n",
       "        vertical-align: top;\n",
       "    }\n",
       "\n",
       "    .dataframe thead th {\n",
       "        text-align: right;\n",
       "    }\n",
       "</style>\n",
       "<table border=\"1\" class=\"dataframe\">\n",
       "  <thead>\n",
       "    <tr style=\"text-align: right;\">\n",
       "      <th></th>\n",
       "      <th>id</th>\n",
       "      <th>sentiment</th>\n",
       "      <th>review</th>\n",
       "    </tr>\n",
       "  </thead>\n",
       "  <tbody>\n",
       "    <tr>\n",
       "      <th>0</th>\n",
       "      <td>5814_8</td>\n",
       "      <td>1</td>\n",
       "      <td>With all this stuff going down at the moment w...</td>\n",
       "    </tr>\n",
       "    <tr>\n",
       "      <th>1</th>\n",
       "      <td>2381_9</td>\n",
       "      <td>1</td>\n",
       "      <td>\\The Classic War of the Worlds\\\" by Timothy Hi...</td>\n",
       "    </tr>\n",
       "    <tr>\n",
       "      <th>2</th>\n",
       "      <td>7759_3</td>\n",
       "      <td>0</td>\n",
       "      <td>The film starts with a manager (Nicholas Bell)...</td>\n",
       "    </tr>\n",
       "    <tr>\n",
       "      <th>3</th>\n",
       "      <td>3630_4</td>\n",
       "      <td>0</td>\n",
       "      <td>It must be assumed that those who praised this...</td>\n",
       "    </tr>\n",
       "    <tr>\n",
       "      <th>4</th>\n",
       "      <td>9495_8</td>\n",
       "      <td>1</td>\n",
       "      <td>Superbly trashy and wondrously unpretentious 8...</td>\n",
       "    </tr>\n",
       "  </tbody>\n",
       "</table>\n",
       "</div>"
      ],
      "text/plain": [
       "       id  sentiment                                             review\n",
       "0  5814_8          1  With all this stuff going down at the moment w...\n",
       "1  2381_9          1  \\The Classic War of the Worlds\\\" by Timothy Hi...\n",
       "2  7759_3          0  The film starts with a manager (Nicholas Bell)...\n",
       "3  3630_4          0  It must be assumed that those who praised this...\n",
       "4  9495_8          1  Superbly trashy and wondrously unpretentious 8..."
      ]
     },
     "execution_count": 6,
     "metadata": {},
     "output_type": "execute_result"
    }
   ],
   "source": [
    "# head new df\n",
    "\n",
    "movie_df.head()"
   ]
  },
  {
   "cell_type": "code",
   "execution_count": 7,
   "id": "971d540b",
   "metadata": {},
   "outputs": [
    {
     "name": "stdout",
     "output_type": "stream",
     "text": [
      "sentiment\n",
      "1    12500\n",
      "0    12500\n",
      "Name: count, dtype: int64\n"
     ]
    }
   ],
   "source": [
    "# How many of each positive and negative reviews are there?\n",
    "\n",
    "review_counts=movie_df['sentiment'].value_counts()\n",
    "\n",
    "print(review_counts)"
   ]
  },
  {
   "cell_type": "code",
   "execution_count": 8,
   "id": "9f08257b",
   "metadata": {},
   "outputs": [],
   "source": [
    "# create function to classify sentiment\n",
    "\n",
    "def classify_review(review):\n",
    "    blob=TextBlob(review)\n",
    "    return 'positive' if blob.sentiment.polarity >= 0 else 'negative'"
   ]
  },
  {
   "cell_type": "code",
   "execution_count": 9,
   "id": "c278b4c1",
   "metadata": {},
   "outputs": [],
   "source": [
    "# apply function to each review\n",
    "\n",
    "movie_df['predicted_sentiment']=movie_df['review'].apply(classify_review)"
   ]
  },
  {
   "cell_type": "code",
   "execution_count": 10,
   "id": "c2333d19",
   "metadata": {},
   "outputs": [
    {
     "name": "stdout",
     "output_type": "stream",
     "text": [
      "                                              review predicted_sentiment\n",
      "0  With all this stuff going down at the moment w...            positive\n",
      "1  \\The Classic War of the Worlds\\\" by Timothy Hi...            positive\n",
      "2  The film starts with a manager (Nicholas Bell)...            negative\n",
      "3  It must be assumed that those who praised this...            positive\n",
      "4  Superbly trashy and wondrously unpretentious 8...            negative\n"
     ]
    }
   ],
   "source": [
    "# display the first few rows to verify\n",
    "\n",
    "print(movie_df[['review', 'predicted_sentiment']].head())"
   ]
  },
  {
   "cell_type": "code",
   "execution_count": 11,
   "id": "fb9b01e9",
   "metadata": {},
   "outputs": [],
   "source": [
    "# create function to change the calc sent to number\n",
    "\n",
    "def classify_review(review):\n",
    "    blob=TextBlob(review)\n",
    "    return 1 if blob.sentiment.polarity >= 0 else 0\n"
   ]
  },
  {
   "cell_type": "code",
   "execution_count": 12,
   "id": "891cdc6c",
   "metadata": {},
   "outputs": [],
   "source": [
    "# apply function to each review\n",
    "\n",
    "movie_df['predicted_sentiment_num']=movie_df['review'].apply(classify_review)\n"
   ]
  },
  {
   "cell_type": "code",
   "execution_count": 13,
   "id": "7084c5dd",
   "metadata": {},
   "outputs": [
    {
     "data": {
      "text/html": [
       "<div>\n",
       "<style scoped>\n",
       "    .dataframe tbody tr th:only-of-type {\n",
       "        vertical-align: middle;\n",
       "    }\n",
       "\n",
       "    .dataframe tbody tr th {\n",
       "        vertical-align: top;\n",
       "    }\n",
       "\n",
       "    .dataframe thead th {\n",
       "        text-align: right;\n",
       "    }\n",
       "</style>\n",
       "<table border=\"1\" class=\"dataframe\">\n",
       "  <thead>\n",
       "    <tr style=\"text-align: right;\">\n",
       "      <th></th>\n",
       "      <th>id</th>\n",
       "      <th>sentiment</th>\n",
       "      <th>review</th>\n",
       "      <th>predicted_sentiment</th>\n",
       "      <th>predicted_sentiment_num</th>\n",
       "    </tr>\n",
       "  </thead>\n",
       "  <tbody>\n",
       "    <tr>\n",
       "      <th>0</th>\n",
       "      <td>5814_8</td>\n",
       "      <td>1</td>\n",
       "      <td>With all this stuff going down at the moment w...</td>\n",
       "      <td>positive</td>\n",
       "      <td>1</td>\n",
       "    </tr>\n",
       "    <tr>\n",
       "      <th>1</th>\n",
       "      <td>2381_9</td>\n",
       "      <td>1</td>\n",
       "      <td>\\The Classic War of the Worlds\\\" by Timothy Hi...</td>\n",
       "      <td>positive</td>\n",
       "      <td>1</td>\n",
       "    </tr>\n",
       "    <tr>\n",
       "      <th>2</th>\n",
       "      <td>7759_3</td>\n",
       "      <td>0</td>\n",
       "      <td>The film starts with a manager (Nicholas Bell)...</td>\n",
       "      <td>negative</td>\n",
       "      <td>0</td>\n",
       "    </tr>\n",
       "    <tr>\n",
       "      <th>3</th>\n",
       "      <td>3630_4</td>\n",
       "      <td>0</td>\n",
       "      <td>It must be assumed that those who praised this...</td>\n",
       "      <td>positive</td>\n",
       "      <td>1</td>\n",
       "    </tr>\n",
       "    <tr>\n",
       "      <th>4</th>\n",
       "      <td>9495_8</td>\n",
       "      <td>1</td>\n",
       "      <td>Superbly trashy and wondrously unpretentious 8...</td>\n",
       "      <td>negative</td>\n",
       "      <td>0</td>\n",
       "    </tr>\n",
       "  </tbody>\n",
       "</table>\n",
       "</div>"
      ],
      "text/plain": [
       "       id  sentiment                                             review  \\\n",
       "0  5814_8          1  With all this stuff going down at the moment w...   \n",
       "1  2381_9          1  \\The Classic War of the Worlds\\\" by Timothy Hi...   \n",
       "2  7759_3          0  The film starts with a manager (Nicholas Bell)...   \n",
       "3  3630_4          0  It must be assumed that those who praised this...   \n",
       "4  9495_8          1  Superbly trashy and wondrously unpretentious 8...   \n",
       "\n",
       "  predicted_sentiment  predicted_sentiment_num  \n",
       "0            positive                        1  \n",
       "1            positive                        1  \n",
       "2            negative                        0  \n",
       "3            positive                        1  \n",
       "4            negative                        0  "
      ]
     },
     "execution_count": 13,
     "metadata": {},
     "output_type": "execute_result"
    }
   ],
   "source": [
    "# head df\n",
    "\n",
    "movie_df.head()"
   ]
  },
  {
   "cell_type": "code",
   "execution_count": 80,
   "id": "3e58e45d",
   "metadata": {},
   "outputs": [
    {
     "name": "stdout",
     "output_type": "stream",
     "text": [
      "True     17131\n",
      "False     7869\n",
      "Name: count, dtype: int64\n"
     ]
    }
   ],
   "source": [
    "# find the matches and non matches\n",
    "\n",
    "match=movie_df['sentiment'] == movie_df['predicted_sentiment_num']\n",
    "\n",
    "review_comp=match.value_counts()\n",
    "\n",
    "print(review_comp)\n"
   ]
  },
  {
   "cell_type": "code",
   "execution_count": 66,
   "id": "3d7e4937",
   "metadata": {},
   "outputs": [
    {
     "name": "stdout",
     "output_type": "stream",
     "text": [
      "Percent match: 0.68524\n"
     ]
    }
   ],
   "source": [
    "# calc accuracy\n",
    "\n",
    "acc=accuracy_score(movie_df['sentiment'], movie_df['predicted_sentiment_num'])\n",
    "\n",
    "print(f\"Percent match:\",acc)"
   ]
  },
  {
   "cell_type": "markdown",
   "id": "16d77e37",
   "metadata": {},
   "source": [
    "##### based on the calculated matches there is a greater accuracy vs a random guess."
   ]
  },
  {
   "cell_type": "markdown",
   "id": "014c4899",
   "metadata": {},
   "source": [
    "#### Extra Credit"
   ]
  },
  {
   "cell_type": "code",
   "execution_count": 67,
   "id": "8b740bd9",
   "metadata": {},
   "outputs": [
    {
     "name": "stdout",
     "output_type": "stream",
     "text": [
      "Vader accuracy: 0.65284\n"
     ]
    }
   ],
   "source": [
    "# initialize VADER sentiment intensity analyzer\n",
    "\n",
    "analyzer=SentimentIntensityAnalyzer()\n",
    "\n",
    "# function to classify sentiment based on VADER scores\n",
    "\n",
    "def classify_sentiment(review_text):\n",
    "    vs=analyzer.polarity_scores(review_text)\n",
    "    return 1 if vs['compound']>=0 else 0\n",
    "\n",
    "# apply sentiment classification to the review texts\n",
    "\n",
    "movie_df['predicted_sentiment_var']=movie_df['review'].apply(classify_sentiment)\n",
    "\n",
    "# calc accuracy\n",
    "\n",
    "accuracy=accuracy_score(movie_df['sentiment'], movie_df['predicted_sentiment_var'])\n",
    "\n",
    "\n",
    "print(f\"Vader accuracy:\",accuracy)"
   ]
  },
  {
   "cell_type": "markdown",
   "id": "89f5ec84",
   "metadata": {},
   "source": [
    "##### based on the calculated matches there is a greater accuracy vs a random guess."
   ]
  },
  {
   "cell_type": "markdown",
   "id": "4c30a0ee",
   "metadata": {},
   "source": [
    "#### Part 2 Prep Text"
   ]
  },
  {
   "cell_type": "code",
   "execution_count": 14,
   "id": "708d0182",
   "metadata": {},
   "outputs": [],
   "source": [
    "# convert text to lowercase\n",
    "\n",
    "movie_df['review']=movie_df['review'].str.lower()"
   ]
  },
  {
   "cell_type": "code",
   "execution_count": 15,
   "id": "44cd8cbc",
   "metadata": {},
   "outputs": [
    {
     "data": {
      "text/plain": [
       "0     with all this stuff going down at the moment w...\n",
       "1     \\the classic war of the worlds\\\" by timothy hi...\n",
       "2     the film starts with a manager (nicholas bell)...\n",
       "3     it must be assumed that those who praised this...\n",
       "4     superbly trashy and wondrously unpretentious 8...\n",
       "5     i dont know why people think this is such a ba...\n",
       "6     this movie could have been very good, but come...\n",
       "7     i watched this video at a friend's house. i'm ...\n",
       "8     a friend of mine bought this film for £1, and ...\n",
       "9     <br /><br />this movie is full of references. ...\n",
       "10    what happens when an army of wetbacks, towelhe...\n",
       "11    although i generally do not like remakes belie...\n",
       "12    \\mr. harvey lights a candle\\\" is anchored by a...\n",
       "13    i had a feeling that after \\submerged\\\", this ...\n",
       "14    note to george litman, and others: the mystery...\n",
       "Name: review, dtype: object"
      ]
     },
     "execution_count": 15,
     "metadata": {},
     "output_type": "execute_result"
    }
   ],
   "source": [
    "# head column\n",
    "\n",
    "movie_df['review'].head(15)"
   ]
  },
  {
   "cell_type": "code",
   "execution_count": 23,
   "id": "9300f5e9",
   "metadata": {},
   "outputs": [],
   "source": [
    "# Remove punctuation and special characters\n",
    "\n",
    "movie_df['review']=movie_df['review'].apply(lambda x: re.sub(r'[^\\w\\s]', '', x) if pd.notnull(x) else x)"
   ]
  },
  {
   "cell_type": "code",
   "execution_count": 24,
   "id": "1da010ac",
   "metadata": {},
   "outputs": [
    {
     "data": {
      "text/html": [
       "<div>\n",
       "<style scoped>\n",
       "    .dataframe tbody tr th:only-of-type {\n",
       "        vertical-align: middle;\n",
       "    }\n",
       "\n",
       "    .dataframe tbody tr th {\n",
       "        vertical-align: top;\n",
       "    }\n",
       "\n",
       "    .dataframe thead th {\n",
       "        text-align: right;\n",
       "    }\n",
       "</style>\n",
       "<table border=\"1\" class=\"dataframe\">\n",
       "  <thead>\n",
       "    <tr style=\"text-align: right;\">\n",
       "      <th></th>\n",
       "      <th>id</th>\n",
       "      <th>sentiment</th>\n",
       "      <th>review</th>\n",
       "      <th>predicted_sentiment</th>\n",
       "      <th>predicted_sentiment_num</th>\n",
       "    </tr>\n",
       "  </thead>\n",
       "  <tbody>\n",
       "    <tr>\n",
       "      <th>0</th>\n",
       "      <td>5814_8</td>\n",
       "      <td>1</td>\n",
       "      <td>with all this stuff going down at the moment w...</td>\n",
       "      <td>positive</td>\n",
       "      <td>1</td>\n",
       "    </tr>\n",
       "    <tr>\n",
       "      <th>1</th>\n",
       "      <td>2381_9</td>\n",
       "      <td>1</td>\n",
       "      <td>the classic war of the worlds by timothy hines...</td>\n",
       "      <td>positive</td>\n",
       "      <td>1</td>\n",
       "    </tr>\n",
       "    <tr>\n",
       "      <th>2</th>\n",
       "      <td>7759_3</td>\n",
       "      <td>0</td>\n",
       "      <td>the film starts with a manager nicholas bell g...</td>\n",
       "      <td>negative</td>\n",
       "      <td>0</td>\n",
       "    </tr>\n",
       "    <tr>\n",
       "      <th>3</th>\n",
       "      <td>3630_4</td>\n",
       "      <td>0</td>\n",
       "      <td>it must be assumed that those who praised this...</td>\n",
       "      <td>positive</td>\n",
       "      <td>1</td>\n",
       "    </tr>\n",
       "    <tr>\n",
       "      <th>4</th>\n",
       "      <td>9495_8</td>\n",
       "      <td>1</td>\n",
       "      <td>superbly trashy and wondrously unpretentious 8...</td>\n",
       "      <td>negative</td>\n",
       "      <td>0</td>\n",
       "    </tr>\n",
       "    <tr>\n",
       "      <th>5</th>\n",
       "      <td>8196_8</td>\n",
       "      <td>1</td>\n",
       "      <td>i dont know why people think this is such a ba...</td>\n",
       "      <td>positive</td>\n",
       "      <td>1</td>\n",
       "    </tr>\n",
       "    <tr>\n",
       "      <th>6</th>\n",
       "      <td>7166_2</td>\n",
       "      <td>0</td>\n",
       "      <td>this movie could have been very good but comes...</td>\n",
       "      <td>negative</td>\n",
       "      <td>0</td>\n",
       "    </tr>\n",
       "    <tr>\n",
       "      <th>7</th>\n",
       "      <td>10633_1</td>\n",
       "      <td>0</td>\n",
       "      <td>i watched this video at a friends house im gla...</td>\n",
       "      <td>positive</td>\n",
       "      <td>1</td>\n",
       "    </tr>\n",
       "    <tr>\n",
       "      <th>8</th>\n",
       "      <td>319_1</td>\n",
       "      <td>0</td>\n",
       "      <td>a friend of mine bought this film for 1 and ev...</td>\n",
       "      <td>positive</td>\n",
       "      <td>1</td>\n",
       "    </tr>\n",
       "    <tr>\n",
       "      <th>9</th>\n",
       "      <td>8713_10</td>\n",
       "      <td>1</td>\n",
       "      <td>br br this movie is full of references like ma...</td>\n",
       "      <td>positive</td>\n",
       "      <td>1</td>\n",
       "    </tr>\n",
       "    <tr>\n",
       "      <th>10</th>\n",
       "      <td>2486_3</td>\n",
       "      <td>0</td>\n",
       "      <td>what happens when an army of wetbacks towelhea...</td>\n",
       "      <td>negative</td>\n",
       "      <td>0</td>\n",
       "    </tr>\n",
       "    <tr>\n",
       "      <th>11</th>\n",
       "      <td>6811_10</td>\n",
       "      <td>1</td>\n",
       "      <td>although i generally do not like remakes belie...</td>\n",
       "      <td>positive</td>\n",
       "      <td>1</td>\n",
       "    </tr>\n",
       "    <tr>\n",
       "      <th>12</th>\n",
       "      <td>11744_9</td>\n",
       "      <td>1</td>\n",
       "      <td>mr harvey lights a candle is anchored by a bri...</td>\n",
       "      <td>positive</td>\n",
       "      <td>1</td>\n",
       "    </tr>\n",
       "    <tr>\n",
       "      <th>13</th>\n",
       "      <td>7369_1</td>\n",
       "      <td>0</td>\n",
       "      <td>i had a feeling that after submerged this one ...</td>\n",
       "      <td>positive</td>\n",
       "      <td>1</td>\n",
       "    </tr>\n",
       "    <tr>\n",
       "      <th>14</th>\n",
       "      <td>12081_1</td>\n",
       "      <td>0</td>\n",
       "      <td>note to george litman and others the mystery s...</td>\n",
       "      <td>positive</td>\n",
       "      <td>1</td>\n",
       "    </tr>\n",
       "  </tbody>\n",
       "</table>\n",
       "</div>"
      ],
      "text/plain": [
       "         id  sentiment                                             review  \\\n",
       "0    5814_8          1  with all this stuff going down at the moment w...   \n",
       "1    2381_9          1  the classic war of the worlds by timothy hines...   \n",
       "2    7759_3          0  the film starts with a manager nicholas bell g...   \n",
       "3    3630_4          0  it must be assumed that those who praised this...   \n",
       "4    9495_8          1  superbly trashy and wondrously unpretentious 8...   \n",
       "5    8196_8          1  i dont know why people think this is such a ba...   \n",
       "6    7166_2          0  this movie could have been very good but comes...   \n",
       "7   10633_1          0  i watched this video at a friends house im gla...   \n",
       "8     319_1          0  a friend of mine bought this film for 1 and ev...   \n",
       "9   8713_10          1  br br this movie is full of references like ma...   \n",
       "10   2486_3          0  what happens when an army of wetbacks towelhea...   \n",
       "11  6811_10          1  although i generally do not like remakes belie...   \n",
       "12  11744_9          1  mr harvey lights a candle is anchored by a bri...   \n",
       "13   7369_1          0  i had a feeling that after submerged this one ...   \n",
       "14  12081_1          0  note to george litman and others the mystery s...   \n",
       "\n",
       "   predicted_sentiment  predicted_sentiment_num  \n",
       "0             positive                        1  \n",
       "1             positive                        1  \n",
       "2             negative                        0  \n",
       "3             positive                        1  \n",
       "4             negative                        0  \n",
       "5             positive                        1  \n",
       "6             negative                        0  \n",
       "7             positive                        1  \n",
       "8             positive                        1  \n",
       "9             positive                        1  \n",
       "10            negative                        0  \n",
       "11            positive                        1  \n",
       "12            positive                        1  \n",
       "13            positive                        1  \n",
       "14            positive                        1  "
      ]
     },
     "execution_count": 24,
     "metadata": {},
     "output_type": "execute_result"
    }
   ],
   "source": [
    "# head df\n",
    "\n",
    "movie_df.head(15)"
   ]
  },
  {
   "cell_type": "code",
   "execution_count": 26,
   "id": "f1a7facb",
   "metadata": {},
   "outputs": [
    {
     "name": "stderr",
     "output_type": "stream",
     "text": [
      "[nltk_data] Downloading package punkt to\n",
      "[nltk_data]     /Users/brianreppeto/nltk_data...\n",
      "[nltk_data]   Unzipping tokenizers/punkt.zip.\n",
      "[nltk_data] Downloading package stopwords to\n",
      "[nltk_data]     /Users/brianreppeto/nltk_data...\n",
      "[nltk_data]   Unzipping corpora/stopwords.zip.\n"
     ]
    },
    {
     "data": {
      "text/plain": [
       "True"
      ]
     },
     "execution_count": 26,
     "metadata": {},
     "output_type": "execute_result"
    }
   ],
   "source": [
    "# Remove stop words\n",
    "\n",
    "# download stop words\n",
    "\n",
    "nltk.download('punkt')\n",
    "nltk.download('stopwords')"
   ]
  },
  {
   "cell_type": "code",
   "execution_count": 27,
   "id": "39909032",
   "metadata": {},
   "outputs": [],
   "source": [
    "# load stop words\n",
    "\n",
    "stop_words = set(stopwords.words('english'))"
   ]
  },
  {
   "cell_type": "code",
   "execution_count": 28,
   "id": "76bedff7",
   "metadata": {},
   "outputs": [],
   "source": [
    "# function to remove stopwords\n",
    "\n",
    "def remove_stopwords(text):\n",
    "    if pd.notnull(text):\n",
    "        # Tokenize the text string\n",
    "        word_tokens = word_tokenize(text)\n",
    "        # Remove stop words\n",
    "        filtered_sentence = [word for word in word_tokens if word.lower() not in stop_words]\n",
    "        # Rejoin words\n",
    "        return ' '.join(filtered_sentence)\n",
    "    return text\n",
    "\n",
    "# apply function to remove stop words from the column\n",
    "\n",
    "movie_df['review'] = movie_df['review'].apply(remove_stopwords)"
   ]
  },
  {
   "cell_type": "code",
   "execution_count": 29,
   "id": "d5bd2f65",
   "metadata": {},
   "outputs": [
    {
     "data": {
      "text/html": [
       "<div>\n",
       "<style scoped>\n",
       "    .dataframe tbody tr th:only-of-type {\n",
       "        vertical-align: middle;\n",
       "    }\n",
       "\n",
       "    .dataframe tbody tr th {\n",
       "        vertical-align: top;\n",
       "    }\n",
       "\n",
       "    .dataframe thead th {\n",
       "        text-align: right;\n",
       "    }\n",
       "</style>\n",
       "<table border=\"1\" class=\"dataframe\">\n",
       "  <thead>\n",
       "    <tr style=\"text-align: right;\">\n",
       "      <th></th>\n",
       "      <th>id</th>\n",
       "      <th>sentiment</th>\n",
       "      <th>review</th>\n",
       "      <th>predicted_sentiment</th>\n",
       "      <th>predicted_sentiment_num</th>\n",
       "    </tr>\n",
       "  </thead>\n",
       "  <tbody>\n",
       "    <tr>\n",
       "      <th>0</th>\n",
       "      <td>5814_8</td>\n",
       "      <td>1</td>\n",
       "      <td>stuff going moment mj ive started listening mu...</td>\n",
       "      <td>positive</td>\n",
       "      <td>1</td>\n",
       "    </tr>\n",
       "    <tr>\n",
       "      <th>1</th>\n",
       "      <td>2381_9</td>\n",
       "      <td>1</td>\n",
       "      <td>classic war worlds timothy hines entertaining ...</td>\n",
       "      <td>positive</td>\n",
       "      <td>1</td>\n",
       "    </tr>\n",
       "    <tr>\n",
       "      <th>2</th>\n",
       "      <td>7759_3</td>\n",
       "      <td>0</td>\n",
       "      <td>film starts manager nicholas bell giving welco...</td>\n",
       "      <td>negative</td>\n",
       "      <td>0</td>\n",
       "    </tr>\n",
       "    <tr>\n",
       "      <th>3</th>\n",
       "      <td>3630_4</td>\n",
       "      <td>0</td>\n",
       "      <td>must assumed praised film greatest filmed oper...</td>\n",
       "      <td>positive</td>\n",
       "      <td>1</td>\n",
       "    </tr>\n",
       "    <tr>\n",
       "      <th>4</th>\n",
       "      <td>9495_8</td>\n",
       "      <td>1</td>\n",
       "      <td>superbly trashy wondrously unpretentious 80s e...</td>\n",
       "      <td>negative</td>\n",
       "      <td>0</td>\n",
       "    </tr>\n",
       "  </tbody>\n",
       "</table>\n",
       "</div>"
      ],
      "text/plain": [
       "       id  sentiment                                             review  \\\n",
       "0  5814_8          1  stuff going moment mj ive started listening mu...   \n",
       "1  2381_9          1  classic war worlds timothy hines entertaining ...   \n",
       "2  7759_3          0  film starts manager nicholas bell giving welco...   \n",
       "3  3630_4          0  must assumed praised film greatest filmed oper...   \n",
       "4  9495_8          1  superbly trashy wondrously unpretentious 80s e...   \n",
       "\n",
       "  predicted_sentiment  predicted_sentiment_num  \n",
       "0            positive                        1  \n",
       "1            positive                        1  \n",
       "2            negative                        0  \n",
       "3            positive                        1  \n",
       "4            negative                        0  "
      ]
     },
     "execution_count": 29,
     "metadata": {},
     "output_type": "execute_result"
    }
   ],
   "source": [
    "# head df\n",
    "\n",
    "movie_df.head()"
   ]
  },
  {
   "cell_type": "code",
   "execution_count": 33,
   "id": "3abae2c1",
   "metadata": {},
   "outputs": [],
   "source": [
    "# apply NLTK porterstemmer\n",
    "\n",
    "# initialize the porterstemmer\n",
    "\n",
    "stemmer = PorterStemmer()"
   ]
  },
  {
   "cell_type": "code",
   "execution_count": 35,
   "id": "99f6e6ea",
   "metadata": {},
   "outputs": [],
   "source": [
    "# function to stem words in the text\n",
    "\n",
    "def stem_text(text):\n",
    "    if pd.notnull(text):\n",
    "        \n",
    "        # tokenize the text string into words\n",
    "        \n",
    "        word_tokens = word_tokenize(text)\n",
    "        \n",
    "        # stem each word\n",
    "        \n",
    "        stemmed_words = [stemmer.stem(word) for word in word_tokens]\n",
    "        \n",
    "        # rejoin the stemmed words into a single string\n",
    "        \n",
    "        return ' '.join(stemmed_words)\n",
    "    return text\n",
    "\n",
    "\n",
    "movie_df['review'] = movie_df['review'].apply(stem_text)"
   ]
  },
  {
   "cell_type": "code",
   "execution_count": 36,
   "id": "3a619b5f",
   "metadata": {},
   "outputs": [
    {
     "data": {
      "text/html": [
       "<div>\n",
       "<style scoped>\n",
       "    .dataframe tbody tr th:only-of-type {\n",
       "        vertical-align: middle;\n",
       "    }\n",
       "\n",
       "    .dataframe tbody tr th {\n",
       "        vertical-align: top;\n",
       "    }\n",
       "\n",
       "    .dataframe thead th {\n",
       "        text-align: right;\n",
       "    }\n",
       "</style>\n",
       "<table border=\"1\" class=\"dataframe\">\n",
       "  <thead>\n",
       "    <tr style=\"text-align: right;\">\n",
       "      <th></th>\n",
       "      <th>id</th>\n",
       "      <th>sentiment</th>\n",
       "      <th>review</th>\n",
       "      <th>predicted_sentiment</th>\n",
       "      <th>predicted_sentiment_num</th>\n",
       "    </tr>\n",
       "  </thead>\n",
       "  <tbody>\n",
       "    <tr>\n",
       "      <th>0</th>\n",
       "      <td>5814_8</td>\n",
       "      <td>1</td>\n",
       "      <td>stuff go moment mj ive start listen music watc...</td>\n",
       "      <td>positive</td>\n",
       "      <td>1</td>\n",
       "    </tr>\n",
       "    <tr>\n",
       "      <th>1</th>\n",
       "      <td>2381_9</td>\n",
       "      <td>1</td>\n",
       "      <td>classic war world timothi hine entertain film ...</td>\n",
       "      <td>positive</td>\n",
       "      <td>1</td>\n",
       "    </tr>\n",
       "    <tr>\n",
       "      <th>2</th>\n",
       "      <td>7759_3</td>\n",
       "      <td>0</td>\n",
       "      <td>film start manag nichola bell give welcom inve...</td>\n",
       "      <td>negative</td>\n",
       "      <td>0</td>\n",
       "    </tr>\n",
       "    <tr>\n",
       "      <th>3</th>\n",
       "      <td>3630_4</td>\n",
       "      <td>0</td>\n",
       "      <td>must assum prais film greatest film opera ever...</td>\n",
       "      <td>positive</td>\n",
       "      <td>1</td>\n",
       "    </tr>\n",
       "    <tr>\n",
       "      <th>4</th>\n",
       "      <td>9495_8</td>\n",
       "      <td>1</td>\n",
       "      <td>superbl trashi wondrous unpretenti 80 exploit ...</td>\n",
       "      <td>negative</td>\n",
       "      <td>0</td>\n",
       "    </tr>\n",
       "    <tr>\n",
       "      <th>5</th>\n",
       "      <td>8196_8</td>\n",
       "      <td>1</td>\n",
       "      <td>dont know peopl think bad movi got pretti good...</td>\n",
       "      <td>positive</td>\n",
       "      <td>1</td>\n",
       "    </tr>\n",
       "    <tr>\n",
       "      <th>6</th>\n",
       "      <td>7166_2</td>\n",
       "      <td>0</td>\n",
       "      <td>movi could good come way short cheesi special ...</td>\n",
       "      <td>negative</td>\n",
       "      <td>0</td>\n",
       "    </tr>\n",
       "    <tr>\n",
       "      <th>7</th>\n",
       "      <td>10633_1</td>\n",
       "      <td>0</td>\n",
       "      <td>watch video friend hous im glad wast money buy...</td>\n",
       "      <td>positive</td>\n",
       "      <td>1</td>\n",
       "    </tr>\n",
       "    <tr>\n",
       "      <th>8</th>\n",
       "      <td>319_1</td>\n",
       "      <td>0</td>\n",
       "      <td>friend mine bought film 1 even grossli overpr ...</td>\n",
       "      <td>positive</td>\n",
       "      <td>1</td>\n",
       "    </tr>\n",
       "    <tr>\n",
       "      <th>9</th>\n",
       "      <td>8713_10</td>\n",
       "      <td>1</td>\n",
       "      <td>br br movi full refer like mad max ii wild one...</td>\n",
       "      <td>positive</td>\n",
       "      <td>1</td>\n",
       "    </tr>\n",
       "    <tr>\n",
       "      <th>10</th>\n",
       "      <td>2486_3</td>\n",
       "      <td>0</td>\n",
       "      <td>happen armi wetback towelhead godless eastern ...</td>\n",
       "      <td>negative</td>\n",
       "      <td>0</td>\n",
       "    </tr>\n",
       "    <tr>\n",
       "      <th>11</th>\n",
       "      <td>6811_10</td>\n",
       "      <td>1</td>\n",
       "      <td>although gener like remak believ remak wast ti...</td>\n",
       "      <td>positive</td>\n",
       "      <td>1</td>\n",
       "    </tr>\n",
       "    <tr>\n",
       "      <th>12</th>\n",
       "      <td>11744_9</td>\n",
       "      <td>1</td>\n",
       "      <td>mr harvey light candl anchor brilliant perform...</td>\n",
       "      <td>positive</td>\n",
       "      <td>1</td>\n",
       "    </tr>\n",
       "    <tr>\n",
       "      <th>13</th>\n",
       "      <td>7369_1</td>\n",
       "      <td>0</td>\n",
       "      <td>feel submerg one wouldnt better right must loo...</td>\n",
       "      <td>positive</td>\n",
       "      <td>1</td>\n",
       "    </tr>\n",
       "    <tr>\n",
       "      <th>14</th>\n",
       "      <td>12081_1</td>\n",
       "      <td>0</td>\n",
       "      <td>note georg litman other mysteri scienc theater...</td>\n",
       "      <td>positive</td>\n",
       "      <td>1</td>\n",
       "    </tr>\n",
       "  </tbody>\n",
       "</table>\n",
       "</div>"
      ],
      "text/plain": [
       "         id  sentiment                                             review  \\\n",
       "0    5814_8          1  stuff go moment mj ive start listen music watc...   \n",
       "1    2381_9          1  classic war world timothi hine entertain film ...   \n",
       "2    7759_3          0  film start manag nichola bell give welcom inve...   \n",
       "3    3630_4          0  must assum prais film greatest film opera ever...   \n",
       "4    9495_8          1  superbl trashi wondrous unpretenti 80 exploit ...   \n",
       "5    8196_8          1  dont know peopl think bad movi got pretti good...   \n",
       "6    7166_2          0  movi could good come way short cheesi special ...   \n",
       "7   10633_1          0  watch video friend hous im glad wast money buy...   \n",
       "8     319_1          0  friend mine bought film 1 even grossli overpr ...   \n",
       "9   8713_10          1  br br movi full refer like mad max ii wild one...   \n",
       "10   2486_3          0  happen armi wetback towelhead godless eastern ...   \n",
       "11  6811_10          1  although gener like remak believ remak wast ti...   \n",
       "12  11744_9          1  mr harvey light candl anchor brilliant perform...   \n",
       "13   7369_1          0  feel submerg one wouldnt better right must loo...   \n",
       "14  12081_1          0  note georg litman other mysteri scienc theater...   \n",
       "\n",
       "   predicted_sentiment  predicted_sentiment_num  \n",
       "0             positive                        1  \n",
       "1             positive                        1  \n",
       "2             negative                        0  \n",
       "3             positive                        1  \n",
       "4             negative                        0  \n",
       "5             positive                        1  \n",
       "6             negative                        0  \n",
       "7             positive                        1  \n",
       "8             positive                        1  \n",
       "9             positive                        1  \n",
       "10            negative                        0  \n",
       "11            positive                        1  \n",
       "12            positive                        1  \n",
       "13            positive                        1  \n",
       "14            positive                        1  "
      ]
     },
     "execution_count": 36,
     "metadata": {},
     "output_type": "execute_result"
    }
   ],
   "source": [
    "# head df\n",
    "\n",
    "movie_df.head(15)"
   ]
  },
  {
   "cell_type": "code",
   "execution_count": 49,
   "id": "0c764182",
   "metadata": {},
   "outputs": [
    {
     "name": "stdout",
     "output_type": "stream",
     "text": [
      "BOW Dimension: (25000, 92528)\n"
     ]
    }
   ],
   "source": [
    "# initialize the CountVectorizer\n",
    "\n",
    "vectorizer = CountVectorizer()\n",
    "\n",
    "# fit and transform\n",
    "\n",
    "bow_matrix = vectorizer.fit_transform(movie_df['review'])\n",
    "\n",
    "# BOW Dimension\n",
    "\n",
    "print(f\"BOW Dimension:\", bow_matrix.shape)\n"
   ]
  },
  {
   "cell_type": "code",
   "execution_count": 50,
   "id": "930b1a2c",
   "metadata": {},
   "outputs": [
    {
     "name": "stdout",
     "output_type": "stream",
     "text": [
      "Dimensions of the TF-IDF matrix: (25000, 92528)\n"
     ]
    }
   ],
   "source": [
    "# create a ttf-idf\n",
    "\n",
    "# initialize the TfidfVectorizer\n",
    "\n",
    "tfidf_vectorizer = TfidfVectorizer()\n",
    "\n",
    "# fit and transform the stemmed text to create the TF-IDF matrix\n",
    "\n",
    "tfidf_matrix = tfidf_vectorizer.fit_transform(movie_df['review'])\n",
    "\n",
    "# display the dimensions of the TF-IDF matrix\n",
    "\n",
    "print(f\"Dimensions of the TF-IDF matrix:\", tfidf_matrix.shape)"
   ]
  },
  {
   "cell_type": "code",
   "execution_count": null,
   "id": "e9fb28d9",
   "metadata": {},
   "outputs": [],
   "source": []
  }
 ],
 "metadata": {
  "kernelspec": {
   "display_name": "Python 3 (ipykernel)",
   "language": "python",
   "name": "python3"
  },
  "language_info": {
   "codemirror_mode": {
    "name": "ipython",
    "version": 3
   },
   "file_extension": ".py",
   "mimetype": "text/x-python",
   "name": "python",
   "nbconvert_exporter": "python",
   "pygments_lexer": "ipython3",
   "version": "3.11.8"
  }
 },
 "nbformat": 4,
 "nbformat_minor": 5
}
