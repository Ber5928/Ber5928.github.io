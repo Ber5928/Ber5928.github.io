{
 "cells": [
  {
   "cell_type": "markdown",
   "id": "48443e5b",
   "metadata": {},
   "source": [
    "### DSC 550 Week  : \n",
    "#### Activity 11.2 \n",
    "#### Author: Brian Reppeto 5/22/2024"
   ]
  },
  {
   "cell_type": "code",
   "execution_count": 12,
   "id": "eb246ce5",
   "metadata": {},
   "outputs": [],
   "source": [
    "import numpy as np\n",
    "import matplotlib.pyplot as plt\n",
    "from tensorflow.keras.datasets import mnist\n",
    "from tensorflow.keras.models import Sequential\n",
    "from tensorflow.keras.layers import Conv2D, MaxPooling2D, Flatten, Dense\n",
    "from tensorflow.keras.utils import to_categorical\n",
    "from sklearn.metrics import confusion_matrix, ConfusionMatrixDisplay\n"
   ]
  },
  {
   "cell_type": "code",
   "execution_count": 13,
   "id": "4025057c",
   "metadata": {},
   "outputs": [],
   "source": [
    "# load the MNIST dataset\n",
    "\n",
    "(X_train, y_train),(X_test, y_test) = mnist.load_data()"
   ]
  },
  {
   "cell_type": "code",
   "execution_count": 14,
   "id": "2e76dff6-bb71-4ea4-bde5-cb8ddee03547",
   "metadata": {},
   "outputs": [
    {
     "data": {
      "image/png": "[encoded data removed]",
      "text/plain": [
       "<Figure size 640x480 with 5 Axes>"
      ]
     },
     "metadata": {},
     "output_type": "display_data"
    }
   ],
   "source": [
    "# display the first five images\n",
    "\n",
    "for i in range(5):\n",
    "    plt.subplot(1, 5, i+1)\n",
    "    plt.imshow(X_train[i], cmap='gray')\n",
    "    plt.title(y_train[i])\n",
    "    plt.axis('off')\n",
    "plt.show()"
   ]
  },
  {
   "cell_type": "code",
   "execution_count": 15,
   "id": "a53bf0a8-bceb-453d-919c-078325de9c89",
   "metadata": {},
   "outputs": [],
   "source": [
    "# process the data\n",
    "\n",
    "X_train = X_train.reshape(X_train.shape[0], 28, 28, 1).astype('float32') / 255\n",
    "X_test = X_test.reshape(X_test.shape[0], 28, 28, 1).astype('float32') / 255"
   ]
  },
  {
   "cell_type": "code",
   "execution_count": 16,
   "id": "000ecd3d-9b01-4cba-90c8-f23a786d0180",
   "metadata": {},
   "outputs": [],
   "source": [
    "# one-hot encode the labels\n",
    "\n",
    "y_train = to_categorical(y_train)\n",
    "y_test = to_categorical(y_test)"
   ]
  },
  {
   "cell_type": "code",
   "execution_count": 17,
   "id": "0618d5c0-69b3-4ef6-b0d0-0aa57b54ee2b",
   "metadata": {},
   "outputs": [],
   "source": [
    "# build the CNN model\n",
    "\n",
    "model = Sequential([\n",
    "    Conv2D(32, kernel_size=(3, 3), activation='relu', input_shape=(28, 28, 1)),\n",
    "    MaxPooling2D(pool_size=(2, 2)),\n",
    "    Conv2D(64, kernel_size=(3, 3), activation='relu'),\n",
    "    MaxPooling2D(pool_size=(2, 2)),\n",
    "    Flatten(),\n",
    "    Dense(128, activation='relu'),\n",
    "    Dense(10, activation='softmax')\n",
    "])"
   ]
  },
  {
   "cell_type": "code",
   "execution_count": 18,
   "id": "8b9ed49c-c452-44b2-b96b-f57061fe0cd4",
   "metadata": {},
   "outputs": [],
   "source": [
    "# compile the model\n",
    "\n",
    "model.compile(optimizer='adam', loss='categorical_crossentropy', metrics=['accuracy'])"
   ]
  },
  {
   "cell_type": "code",
   "execution_count": 19,
   "id": "fd92fd46-1dc4-4d01-a041-7172f6a48e68",
   "metadata": {},
   "outputs": [
    {
     "name": "stdout",
     "output_type": "stream",
     "text": [
      "Epoch 1/10\n",
      "300/300 - 6s - loss: 0.2475 - accuracy: 0.9294 - val_loss: 0.0602 - val_accuracy: 0.9823 - 6s/epoch - 19ms/step\n",
      "Epoch 2/10\n",
      "300/300 - 6s - loss: 0.0623 - accuracy: 0.9812 - val_loss: 0.0450 - val_accuracy: 0.9873 - 6s/epoch - 19ms/step\n",
      "Epoch 3/10\n",
      "300/300 - 6s - loss: 0.0441 - accuracy: 0.9866 - val_loss: 0.0341 - val_accuracy: 0.9889 - 6s/epoch - 19ms/step\n",
      "Epoch 4/10\n",
      "300/300 - 6s - loss: 0.0351 - accuracy: 0.9896 - val_loss: 0.0386 - val_accuracy: 0.9874 - 6s/epoch - 19ms/step\n",
      "Epoch 5/10\n",
      "300/300 - 6s - loss: 0.0282 - accuracy: 0.9909 - val_loss: 0.0296 - val_accuracy: 0.9903 - 6s/epoch - 19ms/step\n",
      "Epoch 6/10\n",
      "300/300 - 6s - loss: 0.0218 - accuracy: 0.9934 - val_loss: 0.0266 - val_accuracy: 0.9918 - 6s/epoch - 19ms/step\n",
      "Epoch 7/10\n",
      "300/300 - 6s - loss: 0.0188 - accuracy: 0.9942 - val_loss: 0.0287 - val_accuracy: 0.9907 - 6s/epoch - 19ms/step\n",
      "Epoch 8/10\n",
      "300/300 - 6s - loss: 0.0148 - accuracy: 0.9953 - val_loss: 0.0336 - val_accuracy: 0.9897 - 6s/epoch - 19ms/step\n",
      "Epoch 9/10\n",
      "300/300 - 6s - loss: 0.0123 - accuracy: 0.9959 - val_loss: 0.0266 - val_accuracy: 0.9922 - 6s/epoch - 19ms/step\n",
      "Epoch 10/10\n",
      "300/300 - 6s - loss: 0.0104 - accuracy: 0.9966 - val_loss: 0.0329 - val_accuracy: 0.9896 - 6s/epoch - 19ms/step\n"
     ]
    },
    {
     "data": {
      "text/plain": [
       "<keras.callbacks.History at 0x313e6dc90>"
      ]
     },
     "execution_count": 19,
     "metadata": {},
     "output_type": "execute_result"
    }
   ],
   "source": [
    "# train the model\n",
    "\n",
    "model.fit(X_train, y_train, validation_data=(X_test, y_test), epochs=10, batch_size=200, verbose=2)"
   ]
  },
  {
   "cell_type": "code",
   "execution_count": 20,
   "id": "0ef524b7-1c66-41a1-b518-1e5a5b76504c",
   "metadata": {},
   "outputs": [
    {
     "name": "stdout",
     "output_type": "stream",
     "text": [
      "Test accuracy: 0.9896\n"
     ]
    }
   ],
   "source": [
    "# evaluate the model\n",
    "\n",
    "test_loss, test_accuracy = model.evaluate(X_test, y_test, verbose=0)\n",
    "print(f'Test accuracy: {test_accuracy:.4f}')"
   ]
  },
  {
   "cell_type": "code",
   "execution_count": 21,
   "id": "885dc23e-5bd7-4ba3-bff0-4a10c4fe3476",
   "metadata": {},
   "outputs": [
    {
     "name": "stdout",
     "output_type": "stream",
     "text": [
      "313/313 [==============================] - 1s 3ms/step\n"
     ]
    }
   ],
   "source": [
    "# predict the test set\n",
    "\n",
    "y_pred = model.predict(X_test)\n",
    "y_pred_classes = np.argmax(y_pred, axis=1)\n",
    "y_true = np.argmax(y_test, axis=1)"
   ]
  },
  {
   "cell_type": "code",
   "execution_count": 22,
   "id": "555fa2b2-1ab3-414b-9b44-fda10203e69d",
   "metadata": {},
   "outputs": [
    {
     "data": {
      "image/png": "[encoded data removed]",
      "text/plain": [
       "<Figure size 640x480 with 2 Axes>"
      ]
     },
     "metadata": {},
     "output_type": "display_data"
    }
   ],
   "source": [
    "# confusion matrix\n",
    "\n",
    "cm = confusion_matrix(y_true, y_pred_classes)\n",
    "disp = ConfusionMatrixDisplay(confusion_matrix=cm, display_labels=range(10))\n",
    "disp.plot(cmap=plt.cm.Blues)\n",
    "plt.show()"
   ]
  },
  {
   "cell_type": "markdown",
   "id": "b66aacd5-1b74-4516-a99b-77bc75feedbf",
   "metadata": {},
   "source": [
    "The CNN image classifier trained on the MNIST dataset achieved a test accuracy of approximately 99%. \n",
    "The high accuracy indicates that the model is effective at recognizing handwritten digits. \n",
    "The confusion matrix further illustrates the model's performance, showing a high number of correct predictions across all digit classes. \n",
    "There were a few misclassifications, which demonstrates the model's robustness in distinguishing between different digits.\n",
    "\n",
    "Overall, the model performs exceptionally well, making it a reliable tool for digit recognition tasks."
   ]
  },
  {
   "cell_type": "code",
   "execution_count": null,
   "id": "e26388cf-b166-40ff-80d9-e3be3e086e7f",
   "metadata": {},
   "outputs": [],
   "source": []
  },
  {
   "cell_type": "code",
   "execution_count": null,
   "id": "332b50f6",
   "metadata": {},
   "outputs": [],
   "source": []
  }
 ],
 "metadata": {
  "kernelspec": {
   "display_name": "Python 3 (ipykernel)",
   "language": "python",
   "name": "python3"
  },
  "language_info": {
   "codemirror_mode": {
    "name": "ipython",
    "version": 3
   },
   "file_extension": ".py",
   "mimetype": "text/x-python",
   "name": "python",
   "nbconvert_exporter": "python",
   "pygments_lexer": "ipython3",
   "version": "3.11.7"
  }
 },
 "nbformat": 4,
 "nbformat_minor": 5
}
