{
 "cells": [
  {
   "cell_type": "code",
   "execution_count": 4,
   "id": "6e321d22",
   "metadata": {},
   "outputs": [],
   "source": [
    "import nbmerge"
   ]
  },
  {
   "cell_type": "code",
   "execution_count": 7,
   "id": "d706c803",
   "metadata": {},
   "outputs": [
    {
     "ename": "SyntaxError",
     "evalue": "invalid syntax (164738015.py, line 1)",
     "output_type": "error",
     "traceback": [
      "\u001b[0;36m  Cell \u001b[0;32mIn[7], line 1\u001b[0;36m\u001b[0m\n\u001b[0;31m    nbmerge Week1_exc_2.ipynb  week1_exc_3.ipynb Week_1_Act1.ipynb Week1_act2.ipynb Week1_exc3.ipynb activity_4.ipynb  -o merged.ipynb\u001b[0m\n\u001b[0m            ^\u001b[0m\n\u001b[0;31mSyntaxError\u001b[0m\u001b[0;31m:\u001b[0m invalid syntax\n"
     ]
    }
   ],
   "source": [
    "nbmerge Week1_exc_2.ipynb  week1_exc_3.ipynb Week_1_Act1.ipynb Week1_act2.ipynb Week1_exc3.ipynb activity_4.ipynb  -o merged.ipynb"
   ]
  },
  {
   "cell_type": "code",
   "execution_count": null,
   "id": "9c495541",
   "metadata": {},
   "outputs": [],
   "source": []
  },
  {
   "cell_type": "code",
   "execution_count": null,
   "id": "249d8121",
   "metadata": {},
   "outputs": [],
   "source": []
  },
  {
   "cell_type": "code",
   "execution_count": null,
   "id": "8760f345",
   "metadata": {},
   "outputs": [],
   "source": []
  }
 ],
 "metadata": {
  "kernelspec": {
   "display_name": "Python 3 (ipykernel)",
   "language": "python",
   "name": "python3"
  },
  "language_info": {
   "codemirror_mode": {
    "name": "ipython",
    "version": 3
   },
   "file_extension": ".py",
   "mimetype": "text/x-python",
   "name": "python",
   "nbconvert_exporter": "python",
   "pygments_lexer": "ipython3",
   "version": "3.11.5"
  }
 },
 "nbformat": 4,
 "nbformat_minor": 5
}
