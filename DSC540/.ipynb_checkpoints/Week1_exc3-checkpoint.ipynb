{
 "cells": [
  {
   "cell_type": "markdown",
   "id": "bc76bcd9",
   "metadata": {},
   "source": [
    "#### DSC 540 \n",
    "#### 2.3 Data Wrangling with Python: Activity 3\n",
    "#### Author: Brian Reppeto\n",
    "#### 12/7/2023"
   ]
  },
  {
   "cell_type": "code",
   "execution_count": 2,
   "id": "25c4b3e0",
   "metadata": {},
   "outputs": [],
   "source": [
    "from itertools import permutations, dropwhile # import packages"
   ]
  },
  {
   "cell_type": "code",
   "execution_count": 3,
   "id": "a59525ec",
   "metadata": {},
   "outputs": [],
   "source": [
    "permutations?"
   ]
  },
  {
   "cell_type": "code",
   "execution_count": 4,
   "id": "a2851552",
   "metadata": {},
   "outputs": [],
   "source": [
    "dropwhile?"
   ]
  },
  {
   "cell_type": "markdown",
   "id": "2bf16e7b",
   "metadata": {},
   "source": [
    "## Task 1\n",
    "The itertools module is a part of the Python Standard Library and provides various fast, \n",
    "memory-efficient tools for working with iterators.\n",
    "#### Permutations:  permutations are different ways you can arrange a group of items.  permutations show you all the different orders in which you can arrange items.\n",
    "#### Dropwhile:  Imagine you have a list of items, and you want to skip some of them until a certain condition is met. dropwhile starts dropping items as long as a condition is true, and once the condition becomes false, it stops dropping. "
   ]
  },
  {
   "cell_type": "code",
   "execution_count": 29,
   "id": "f4801135",
   "metadata": {},
   "outputs": [
    {
     "name": "stdout",
     "output_type": "stream",
     "text": [
      "[(0, 1, 2), (0, 2, 1), (1, 0, 2), (1, 2, 0), (2, 0, 1), (2, 1, 0)]\n"
     ]
    }
   ],
   "source": [
    "# Task 2\n",
    "\n",
    "# Generate exp to list all possible 0,1,2 combinations\n",
    "\n",
    "from itertools import permutations, dropwhile # import packages\n",
    "\n",
    "digits= [0,1,2] # range of digits\n",
    "\n",
    "y=list(permutations(digits)) # generate perm\n",
    "\n",
    "print(y)"
   ]
  },
  {
   "cell_type": "code",
   "execution_count": null,
   "id": "b000f55d",
   "metadata": {},
   "outputs": [],
   "source": []
  },
  {
   "cell_type": "code",
   "execution_count": 13,
   "id": "171037d7",
   "metadata": {},
   "outputs": [
    {
     "name": "stdout",
     "output_type": "stream",
     "text": [
      "(0, 1, 2)\n",
      "(0, 2, 1)\n",
      "(1, 0, 2)\n",
      "(1, 2, 0)\n",
      "(2, 0, 1)\n",
      "(2, 1, 0)\n"
     ]
    }
   ],
   "source": [
    "# Task 3\n",
    "\n",
    "digits = [0, 1, 2]\n",
    "\n",
    "# generate permutations\n",
    "perm_iterator = permutations(digits)\n",
    "\n",
    "# loop over the iterator\n",
    "for element in perm_iterator:\n",
    "    # print each element\n",
    "    print(element)\n",
    "    \n",
    "    # assert that the element is of tuple type\n",
    "    assert isinstance(element, tuple), \"Element is not a tuple\"\n",
    "\n",
    "\n"
   ]
  },
  {
   "cell_type": "code",
   "execution_count": 8,
   "id": "1299e1b0",
   "metadata": {},
   "outputs": [
    {
     "name": "stdout",
     "output_type": "stream",
     "text": [
      "(0, 1, 2)\n",
      "(0, 2, 1)\n",
      "(1, 0, 2)\n",
      "(1, 2, 0)\n",
      "(2, 0, 1)\n",
      "(2, 1, 0)\n"
     ]
    }
   ],
   "source": [
    "# import libary\n",
    "\n",
    "from itertools import permutations\n",
    "\n",
    "for number_tuple in permutations(range(3)):\n",
    "    print(number_tuple)\n",
    "    assert isinstance(number_tuple, tuple)"
   ]
  },
  {
   "cell_type": "code",
   "execution_count": 15,
   "id": "afda9542",
   "metadata": {},
   "outputs": [
    {
     "name": "stdout",
     "output_type": "stream",
     "text": [
      "[1, 2]\n",
      "[2, 1]\n",
      "[1, 0, 2]\n",
      "[1, 2, 0]\n",
      "[2, 0, 1]\n",
      "[2, 1, 0]\n"
     ]
    }
   ],
   "source": [
    "# Task 4 loop with lambda to drop zeros and cast as list\n",
    "\n",
    "digits = [0, 1, 2]\n",
    "y = list(permutations(digits))\n",
    "\n",
    "# loop over the iterator\n",
    "for element in y:\n",
    "   \n",
    "    assert isinstance(element, tuple), \"Element is not a tuple\"  # assert that the element is of tuple type\n",
    "    result = list(dropwhile(lambda x: x == 0, element))  # Drop any leading zeros\n",
    "    print(result)\n"
   ]
  },
  {
   "cell_type": "code",
   "execution_count": 21,
   "id": "3fcc2b55",
   "metadata": {},
   "outputs": [
    {
     "name": "stdout",
     "output_type": "stream",
     "text": [
      "[1, 2]\n",
      "<class 'list'>\n",
      "[2, 1]\n",
      "<class 'list'>\n",
      "[1, 0, 2]\n",
      "<class 'list'>\n",
      "[1, 2, 0]\n",
      "<class 'list'>\n",
      "[2, 0, 1]\n",
      "<class 'list'>\n",
      "[2, 1, 0]\n",
      "<class 'list'>\n"
     ]
    }
   ],
   "source": [
    "# Task 5 check the type dropwhile returns\n",
    "\n",
    "digits = [0, 1, 2]\n",
    "y = list(permutations(digits))\n",
    "\n",
    "for element in y:\n",
    "    assert isinstance(element, tuple), \"Element is not a tuple\"  # assert that the element is of tuple type\n",
    "    result = list(dropwhile(lambda x: x == 0, element))  # Drop any leading zeros\n",
    "    print(result)\n",
    "    print(type(result))\n"
   ]
  },
  {
   "cell_type": "code",
   "execution_count": 28,
   "id": "f6fabe15",
   "metadata": {},
   "outputs": [
    {
     "name": "stdout",
     "output_type": "stream",
     "text": [
      "210\n",
      "<class 'int'>\n",
      "210\n",
      "<class 'int'>\n",
      "210\n",
      "<class 'int'>\n",
      "210\n",
      "<class 'int'>\n",
      "210\n",
      "<class 'int'>\n",
      "210\n",
      "<class 'int'>\n"
     ]
    }
   ],
   "source": [
    "# Task 6\n",
    "\n",
    "# function to convert list into a number\n",
    "# treat the list as a stack\n",
    "\n",
    "def list_to_number(digit_list):\n",
    "    result = 0\n",
    "    for digit in digit_list:\n",
    "        result = result * 10 + digit\n",
    "    return result\n",
    "\n",
    "digits = [0, 1, 2]\n",
    "y = list(permutations(digits))\n",
    "\n",
    "for element in y:\n",
    "    result_list = list(dropwhile(lambda x: x == 0, element))  # Drop any leading zeros\n",
    "    assert isinstance(result_number, int), f\"Expected int, got {type(result_number)}\" # assert int type\n",
    "    print(result_number)\n",
    "    print(type(result_number))\n"
   ]
  }
 ],
 "metadata": {
  "kernelspec": {
   "display_name": "Python 3 (ipykernel)",
   "language": "python",
   "name": "python3"
  },
  "language_info": {
   "codemirror_mode": {
    "name": "ipython",
    "version": 3
   },
   "file_extension": ".py",
   "mimetype": "text/x-python",
   "name": "python",
   "nbconvert_exporter": "python",
   "pygments_lexer": "ipython3",
   "version": "3.11.5"
  }
 },
 "nbformat": 4,
 "nbformat_minor": 5
}
