{
 "cells": [
  {
   "cell_type": "markdown",
   "id": "1ad40f28",
   "metadata": {},
   "source": [
    "### DSC 540 Week 2 Data Wrangling with Python: \n",
    "### Project: Milestone 2\n",
    "### Author: Brian Reppeto 1/16/2024"
   ]
  },
  {
   "cell_type": "code",
   "execution_count": null,
   "id": "08da7e87",
   "metadata": {},
   "outputs": [],
   "source": []
  }
 ],
 "metadata": {
  "kernelspec": {
   "display_name": "Python 3 (ipykernel)",
   "language": "python",
   "name": "python3"
  },
  "language_info": {
   "codemirror_mode": {
    "name": "ipython",
    "version": 3
   },
   "file_extension": ".py",
   "mimetype": "text/x-python",
   "name": "python",
   "nbconvert_exporter": "python",
   "pygments_lexer": "ipython3",
   "version": "3.11.5"
  }
 },
 "nbformat": 4,
 "nbformat_minor": 5
}
