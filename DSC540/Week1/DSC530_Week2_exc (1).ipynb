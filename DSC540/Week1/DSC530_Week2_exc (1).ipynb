{
 "cells": [
  {
   "cell_type": "code",
   "execution_count": 5,
   "id": "f4f79a3f-c3a7-46e8-9af2-9075f552d627",
   "metadata": {},
   "outputs": [
    {
     "name": "stdout",
     "output_type": "stream",
     "text": [
      "Hello World!  My name is Brian Reppeto\n"
     ]
    }
   ],
   "source": [
    "# Print hello world\n",
    "\n",
    "print(\"Hello World!  My name is Brian Reppeto\")"
   ]
  },
  {
   "cell_type": "code",
   "execution_count": 15,
   "id": "c25967fc-c729-4c66-bc53-05dc312d9943",
   "metadata": {},
   "outputs": [
    {
     "name": "stdout",
     "output_type": "stream",
     "text": [
      "3\n"
     ]
    }
   ],
   "source": [
    "# Add 2 numbers together\n",
    "\n",
    "x=1\n",
    "y=2\n",
    "print (x+y)"
   ]
  },
  {
   "cell_type": "code",
   "execution_count": 17,
   "id": "3a2e07d1-3043-4b24-87fc-2b885e226d5f",
   "metadata": {},
   "outputs": [
    {
     "name": "stdout",
     "output_type": "stream",
     "text": [
      "5\n"
     ]
    }
   ],
   "source": [
    "# Subtract 2 numbers\n",
    "\n",
    "a=10\n",
    "b=5\n",
    "print (a-b)"
   ]
  },
  {
   "cell_type": "code",
   "execution_count": 19,
   "id": "4d476291-1f8e-4c93-9a39-d8be195b2283",
   "metadata": {},
   "outputs": [
    {
     "name": "stdout",
     "output_type": "stream",
     "text": [
      "45\n"
     ]
    }
   ],
   "source": [
    "# Multiply 2 numbers\n",
    "\n",
    "f=15\n",
    "g=3\n",
    "print (f*g)"
   ]
  },
  {
   "cell_type": "code",
   "execution_count": 21,
   "id": "05566630-998b-4143-ac1e-671e359f4fc2",
   "metadata": {},
   "outputs": [
    {
     "name": "stdout",
     "output_type": "stream",
     "text": [
      "10.0\n"
     ]
    }
   ],
   "source": [
    "# Divide 2 numbers\n",
    "\n",
    "r=20\n",
    "d=2\n",
    "print (r/d)"
   ]
  },
  {
   "cell_type": "code",
   "execution_count": 31,
   "id": "24d2c166-e0d7-4f47-a6b0-a0645064182c",
   "metadata": {},
   "outputs": [
    {
     "name": "stdout",
     "output_type": "stream",
     "text": [
      "Merry Christmas\n"
     ]
    }
   ],
   "source": [
    "# Concat two strings\n",
    "\n",
    "ab ='Merry'\n",
    "cd =' Christmas'\n",
    "ef = ab + cd\n",
    "print (ef)"
   ]
  },
  {
   "cell_type": "code",
   "execution_count": 77,
   "id": "13d2e6fe-77b7-41c5-8ea9-f465b523d9e9",
   "metadata": {},
   "outputs": [
    {
     "name": "stdout",
     "output_type": "stream",
     "text": [
      "List of numbers: \n",
      "[5, 10, 15]\n"
     ]
    }
   ],
   "source": [
    "# Creating a List of numbers\n",
    "\n",
    "Lists = [5, 10, 15]\n",
    "\n",
    "print(\"List of numbers: \")\n",
    "print(Lists)"
   ]
  },
  {
   "cell_type": "code",
   "execution_count": 79,
   "id": "1f26c9f5-2c54-4678-b5f2-947eaffffb20",
   "metadata": {},
   "outputs": [
    {
     "name": "stdout",
     "output_type": "stream",
     "text": [
      "New list of numbers: \n",
      "[5, 10, 15, 14]\n"
     ]
    }
   ],
   "source": [
    "# Append to List of numbers\n",
    "\n",
    "Lists.append(14)\n",
    "\n",
    "print(\"New list of numbers: \")\n",
    "print(Lists)"
   ]
  },
  {
   "cell_type": "code",
   "execution_count": 109,
   "id": "8618e894-47e3-401b-a78a-094fddae7009",
   "metadata": {},
   "outputs": [
    {
     "name": "stdout",
     "output_type": "stream",
     "text": [
      "\n",
      " Santa's Reindeer by rows of two: \n",
      "('Dasher', 'Prancer')\n",
      "('Vixen', 'Comet')\n",
      "('Cupid', 'Donner')\n",
      "('Blitzen', 'Rudolph')\n"
     ]
    }
   ],
   "source": [
    "# Tuple with multiple items\n",
    "\n",
    "Tuple1 = ('Dasher','Prancer')\n",
    "Tuple2 = ('Vixen','Comet')\n",
    "Tuple3 = ('Cupid','Donner')\n",
    "Tuple4 = ('Blitzen','Rudolph')\n",
    "         \n",
    "print(\"\\n Santa's Reindeer by rows of two: \")\n",
    "print(Tuple1)     \n",
    "print(Tuple2) \n",
    "print(Tuple3) \n",
    "print(Tuple4) "
   ]
  },
  {
   "cell_type": "code",
   "execution_count": null,
   "id": "89f732ee-4595-45f9-8db1-85ea56b32062",
   "metadata": {},
   "outputs": [],
   "source": []
  }
 ],
 "metadata": {
  "kernelspec": {
   "display_name": "anaconda-panel-2023.05-py310",
   "language": "python",
   "name": "conda-env-anaconda-panel-2023.05-py310-py"
  },
  "language_info": {
   "codemirror_mode": {
    "name": "ipython",
    "version": 3
   },
   "file_extension": ".py",
   "mimetype": "text/x-python",
   "name": "python",
   "nbconvert_exporter": "python",
   "pygments_lexer": "ipython3",
   "version": "3.11.5"
  }
 },
 "nbformat": 4,
 "nbformat_minor": 5
}
