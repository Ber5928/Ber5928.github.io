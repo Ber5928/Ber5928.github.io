{
 "cells": [
  {
   "cell_type": "markdown",
   "id": "76dcc7d4-b6da-43f1-90ff-63017ca75bdf",
   "metadata": {},
   "source": [
    "### DSC 630 Week  : \n",
    "#### Activity 8.2 \n",
    "#### Author: Brian Reppeto 10/20/2024"
   ]
  },
  {
   "cell_type": "markdown",
   "id": "512fc7c7-cd98-4099-8103-8a2bc66deb4e",
   "metadata": {},
   "source": [
    "###  import libraries"
   ]
  },
  {
   "cell_type": "code",
   "execution_count": 75,
   "id": "ee21be2a-fbc7-49c5-a4e2-36a821bb8444",
   "metadata": {},
   "outputs": [],
   "source": [
    "# import libraries\n",
    "\n",
    "import pandas as pd\n",
    "import numpy as np\n",
    "from statsmodels.tsa.holtwinters import ExponentialSmoothing\n",
    "from sklearn.metrics import mean_squared_error\n",
    "import matplotlib.pyplot as plt"
   ]
  },
  {
   "cell_type": "code",
   "execution_count": 93,
   "id": "346730f1-79b3-4e8a-8473-f35dd5a6ffd4",
   "metadata": {},
   "outputs": [],
   "source": [
    "# load the dataset\n",
    "\n",
    "df = pd.read_csv('us_retail_sales.csv')"
   ]
  },
  {
   "cell_type": "markdown",
   "id": "0a6ce072-167f-4810-a19d-b38585e8a08a",
   "metadata": {},
   "source": [
    "#### Preview the First 15 Rows"
   ]
  },
  {
   "cell_type": "code",
   "execution_count": 77,
   "id": "34041086-69db-4556-9b01-1521e5f57f2c",
   "metadata": {},
   "outputs": [
    {
     "data": {
      "text/html": [
       "<div>\n",
       "<style scoped>\n",
       "    .dataframe tbody tr th:only-of-type {\n",
       "        vertical-align: middle;\n",
       "    }\n",
       "\n",
       "    .dataframe tbody tr th {\n",
       "        vertical-align: top;\n",
       "    }\n",
       "\n",
       "    .dataframe thead th {\n",
       "        text-align: right;\n",
       "    }\n",
       "</style>\n",
       "<table border=\"1\" class=\"dataframe\">\n",
       "  <thead>\n",
       "    <tr style=\"text-align: right;\">\n",
       "      <th></th>\n",
       "      <th>YEAR</th>\n",
       "      <th>JAN</th>\n",
       "      <th>FEB</th>\n",
       "      <th>MAR</th>\n",
       "      <th>APR</th>\n",
       "      <th>MAY</th>\n",
       "      <th>JUN</th>\n",
       "      <th>JUL</th>\n",
       "      <th>AUG</th>\n",
       "      <th>SEP</th>\n",
       "      <th>OCT</th>\n",
       "      <th>NOV</th>\n",
       "      <th>DEC</th>\n",
       "    </tr>\n",
       "  </thead>\n",
       "  <tbody>\n",
       "    <tr>\n",
       "      <th>0</th>\n",
       "      <td>1992</td>\n",
       "      <td>146925</td>\n",
       "      <td>147223</td>\n",
       "      <td>146805</td>\n",
       "      <td>148032</td>\n",
       "      <td>149010</td>\n",
       "      <td>149800</td>\n",
       "      <td>150761.0</td>\n",
       "      <td>151067.0</td>\n",
       "      <td>152588.0</td>\n",
       "      <td>153521.0</td>\n",
       "      <td>153583.0</td>\n",
       "      <td>155614.0</td>\n",
       "    </tr>\n",
       "    <tr>\n",
       "      <th>1</th>\n",
       "      <td>1993</td>\n",
       "      <td>157555</td>\n",
       "      <td>156266</td>\n",
       "      <td>154752</td>\n",
       "      <td>158979</td>\n",
       "      <td>160605</td>\n",
       "      <td>160127</td>\n",
       "      <td>162816.0</td>\n",
       "      <td>162506.0</td>\n",
       "      <td>163258.0</td>\n",
       "      <td>164685.0</td>\n",
       "      <td>166594.0</td>\n",
       "      <td>168161.0</td>\n",
       "    </tr>\n",
       "    <tr>\n",
       "      <th>2</th>\n",
       "      <td>1994</td>\n",
       "      <td>167518</td>\n",
       "      <td>169649</td>\n",
       "      <td>172766</td>\n",
       "      <td>173106</td>\n",
       "      <td>172329</td>\n",
       "      <td>174241</td>\n",
       "      <td>174781.0</td>\n",
       "      <td>177295.0</td>\n",
       "      <td>178787.0</td>\n",
       "      <td>180561.0</td>\n",
       "      <td>180703.0</td>\n",
       "      <td>181524.0</td>\n",
       "    </tr>\n",
       "    <tr>\n",
       "      <th>3</th>\n",
       "      <td>1995</td>\n",
       "      <td>182413</td>\n",
       "      <td>179488</td>\n",
       "      <td>181013</td>\n",
       "      <td>181686</td>\n",
       "      <td>183536</td>\n",
       "      <td>186081</td>\n",
       "      <td>185431.0</td>\n",
       "      <td>186806.0</td>\n",
       "      <td>187366.0</td>\n",
       "      <td>186565.0</td>\n",
       "      <td>189055.0</td>\n",
       "      <td>190774.0</td>\n",
       "    </tr>\n",
       "    <tr>\n",
       "      <th>4</th>\n",
       "      <td>1996</td>\n",
       "      <td>189135</td>\n",
       "      <td>192266</td>\n",
       "      <td>194029</td>\n",
       "      <td>194744</td>\n",
       "      <td>196205</td>\n",
       "      <td>196136</td>\n",
       "      <td>196187.0</td>\n",
       "      <td>196218.0</td>\n",
       "      <td>198859.0</td>\n",
       "      <td>200509.0</td>\n",
       "      <td>200174.0</td>\n",
       "      <td>201284.0</td>\n",
       "    </tr>\n",
       "    <tr>\n",
       "      <th>5</th>\n",
       "      <td>1997</td>\n",
       "      <td>202371</td>\n",
       "      <td>204286</td>\n",
       "      <td>204990</td>\n",
       "      <td>203399</td>\n",
       "      <td>201699</td>\n",
       "      <td>204675</td>\n",
       "      <td>207014.0</td>\n",
       "      <td>207635.0</td>\n",
       "      <td>208326.0</td>\n",
       "      <td>208078.0</td>\n",
       "      <td>208936.0</td>\n",
       "      <td>209363.0</td>\n",
       "    </tr>\n",
       "    <tr>\n",
       "      <th>6</th>\n",
       "      <td>1998</td>\n",
       "      <td>209666</td>\n",
       "      <td>209552</td>\n",
       "      <td>210832</td>\n",
       "      <td>213633</td>\n",
       "      <td>214639</td>\n",
       "      <td>216337</td>\n",
       "      <td>214841.0</td>\n",
       "      <td>213636.0</td>\n",
       "      <td>215720.0</td>\n",
       "      <td>219483.0</td>\n",
       "      <td>221134.0</td>\n",
       "      <td>223179.0</td>\n",
       "    </tr>\n",
       "    <tr>\n",
       "      <th>7</th>\n",
       "      <td>1999</td>\n",
       "      <td>223997</td>\n",
       "      <td>226250</td>\n",
       "      <td>227417</td>\n",
       "      <td>229037</td>\n",
       "      <td>231235</td>\n",
       "      <td>231903</td>\n",
       "      <td>233948.0</td>\n",
       "      <td>236566.0</td>\n",
       "      <td>237481.0</td>\n",
       "      <td>237553.0</td>\n",
       "      <td>240544.0</td>\n",
       "      <td>245485.0</td>\n",
       "    </tr>\n",
       "    <tr>\n",
       "      <th>8</th>\n",
       "      <td>2000</td>\n",
       "      <td>243436</td>\n",
       "      <td>247133</td>\n",
       "      <td>249825</td>\n",
       "      <td>245831</td>\n",
       "      <td>246201</td>\n",
       "      <td>248160</td>\n",
       "      <td>247176.0</td>\n",
       "      <td>247576.0</td>\n",
       "      <td>251837.0</td>\n",
       "      <td>251221.0</td>\n",
       "      <td>250331.0</td>\n",
       "      <td>250658.0</td>\n",
       "    </tr>\n",
       "    <tr>\n",
       "      <th>9</th>\n",
       "      <td>2001</td>\n",
       "      <td>252654</td>\n",
       "      <td>252704</td>\n",
       "      <td>250328</td>\n",
       "      <td>254763</td>\n",
       "      <td>255218</td>\n",
       "      <td>254022</td>\n",
       "      <td>252997.0</td>\n",
       "      <td>254560.0</td>\n",
       "      <td>249845.0</td>\n",
       "      <td>267999.0</td>\n",
       "      <td>260514.0</td>\n",
       "      <td>256549.0</td>\n",
       "    </tr>\n",
       "    <tr>\n",
       "      <th>10</th>\n",
       "      <td>2002</td>\n",
       "      <td>256307</td>\n",
       "      <td>257670</td>\n",
       "      <td>257059</td>\n",
       "      <td>261333</td>\n",
       "      <td>257573</td>\n",
       "      <td>259786</td>\n",
       "      <td>262769.0</td>\n",
       "      <td>265043.0</td>\n",
       "      <td>260626.0</td>\n",
       "      <td>261953.0</td>\n",
       "      <td>263568.0</td>\n",
       "      <td>265930.0</td>\n",
       "    </tr>\n",
       "    <tr>\n",
       "      <th>11</th>\n",
       "      <td>2003</td>\n",
       "      <td>267230</td>\n",
       "      <td>263188</td>\n",
       "      <td>267820</td>\n",
       "      <td>267197</td>\n",
       "      <td>267362</td>\n",
       "      <td>270396</td>\n",
       "      <td>273352.0</td>\n",
       "      <td>277965.0</td>\n",
       "      <td>276430.0</td>\n",
       "      <td>274764.0</td>\n",
       "      <td>278298.0</td>\n",
       "      <td>277612.0</td>\n",
       "    </tr>\n",
       "    <tr>\n",
       "      <th>12</th>\n",
       "      <td>2004</td>\n",
       "      <td>278913</td>\n",
       "      <td>280932</td>\n",
       "      <td>286209</td>\n",
       "      <td>282952</td>\n",
       "      <td>288252</td>\n",
       "      <td>284133</td>\n",
       "      <td>287358.0</td>\n",
       "      <td>287941.0</td>\n",
       "      <td>293139.0</td>\n",
       "      <td>295115.0</td>\n",
       "      <td>296177.0</td>\n",
       "      <td>299763.0</td>\n",
       "    </tr>\n",
       "    <tr>\n",
       "      <th>13</th>\n",
       "      <td>2005</td>\n",
       "      <td>296696</td>\n",
       "      <td>300557</td>\n",
       "      <td>301308</td>\n",
       "      <td>303760</td>\n",
       "      <td>301776</td>\n",
       "      <td>310989</td>\n",
       "      <td>313520.0</td>\n",
       "      <td>310046.0</td>\n",
       "      <td>310673.0</td>\n",
       "      <td>310479.0</td>\n",
       "      <td>313303.0</td>\n",
       "      <td>313473.0</td>\n",
       "    </tr>\n",
       "    <tr>\n",
       "      <th>14</th>\n",
       "      <td>2006</td>\n",
       "      <td>322348</td>\n",
       "      <td>320171</td>\n",
       "      <td>320869</td>\n",
       "      <td>322561</td>\n",
       "      <td>321794</td>\n",
       "      <td>323184</td>\n",
       "      <td>324204.0</td>\n",
       "      <td>325324.0</td>\n",
       "      <td>323236.0</td>\n",
       "      <td>322678.0</td>\n",
       "      <td>323343.0</td>\n",
       "      <td>326849.0</td>\n",
       "    </tr>\n",
       "  </tbody>\n",
       "</table>\n",
       "</div>"
      ],
      "text/plain": [
       "    YEAR     JAN     FEB     MAR     APR     MAY     JUN       JUL       AUG  \\\n",
       "0   1992  146925  147223  146805  148032  149010  149800  150761.0  151067.0   \n",
       "1   1993  157555  156266  154752  158979  160605  160127  162816.0  162506.0   \n",
       "2   1994  167518  169649  172766  173106  172329  174241  174781.0  177295.0   \n",
       "3   1995  182413  179488  181013  181686  183536  186081  185431.0  186806.0   \n",
       "4   1996  189135  192266  194029  194744  196205  196136  196187.0  196218.0   \n",
       "5   1997  202371  204286  204990  203399  201699  204675  207014.0  207635.0   \n",
       "6   1998  209666  209552  210832  213633  214639  216337  214841.0  213636.0   \n",
       "7   1999  223997  226250  227417  229037  231235  231903  233948.0  236566.0   \n",
       "8   2000  243436  247133  249825  245831  246201  248160  247176.0  247576.0   \n",
       "9   2001  252654  252704  250328  254763  255218  254022  252997.0  254560.0   \n",
       "10  2002  256307  257670  257059  261333  257573  259786  262769.0  265043.0   \n",
       "11  2003  267230  263188  267820  267197  267362  270396  273352.0  277965.0   \n",
       "12  2004  278913  280932  286209  282952  288252  284133  287358.0  287941.0   \n",
       "13  2005  296696  300557  301308  303760  301776  310989  313520.0  310046.0   \n",
       "14  2006  322348  320171  320869  322561  321794  323184  324204.0  325324.0   \n",
       "\n",
       "         SEP       OCT       NOV       DEC  \n",
       "0   152588.0  153521.0  153583.0  155614.0  \n",
       "1   163258.0  164685.0  166594.0  168161.0  \n",
       "2   178787.0  180561.0  180703.0  181524.0  \n",
       "3   187366.0  186565.0  189055.0  190774.0  \n",
       "4   198859.0  200509.0  200174.0  201284.0  \n",
       "5   208326.0  208078.0  208936.0  209363.0  \n",
       "6   215720.0  219483.0  221134.0  223179.0  \n",
       "7   237481.0  237553.0  240544.0  245485.0  \n",
       "8   251837.0  251221.0  250331.0  250658.0  \n",
       "9   249845.0  267999.0  260514.0  256549.0  \n",
       "10  260626.0  261953.0  263568.0  265930.0  \n",
       "11  276430.0  274764.0  278298.0  277612.0  \n",
       "12  293139.0  295115.0  296177.0  299763.0  \n",
       "13  310673.0  310479.0  313303.0  313473.0  \n",
       "14  323236.0  322678.0  323343.0  326849.0  "
      ]
     },
     "execution_count": 77,
     "metadata": {},
     "output_type": "execute_result"
    }
   ],
   "source": [
    "# head the data\n",
    "\n",
    "df.head(15)"
   ]
  },
  {
   "cell_type": "markdown",
   "id": "ac8230ec-0875-4e2b-8d60-abfbda490653",
   "metadata": {},
   "source": [
    "#### Check for missing values in the dataset by summing the null values for each column"
   ]
  },
  {
   "cell_type": "code",
   "execution_count": 78,
   "id": "54f63025-d9a3-44de-be64-ecaac448e165",
   "metadata": {},
   "outputs": [
    {
     "data": {
      "text/plain": [
       "YEAR    0\n",
       "JAN     0\n",
       "FEB     0\n",
       "MAR     0\n",
       "APR     0\n",
       "MAY     0\n",
       "JUN     0\n",
       "JUL     1\n",
       "AUG     1\n",
       "SEP     1\n",
       "OCT     1\n",
       "NOV     1\n",
       "DEC     1\n",
       "dtype: int64"
      ]
     },
     "execution_count": 78,
     "metadata": {},
     "output_type": "execute_result"
    }
   ],
   "source": [
    "# check for nulls\n",
    "\n",
    "df.isnull().sum()"
   ]
  },
  {
   "cell_type": "markdown",
   "id": "a8ef3e26-dcdd-4997-8b38-72f54ac763dd",
   "metadata": {},
   "source": [
    "#### Fill Missing Values"
   ]
  },
  {
   "cell_type": "code",
   "execution_count": 79,
   "id": "9c7a9008-e53f-4b76-8f40-d2cd6f486ffd",
   "metadata": {},
   "outputs": [],
   "source": [
    "# fill missing values with mean\n",
    "\n",
    "df.fillna(df.mean(), inplace=True)"
   ]
  },
  {
   "cell_type": "code",
   "execution_count": 80,
   "id": "24b6c8cd-5062-4a97-aefc-a1dd264d4b17",
   "metadata": {},
   "outputs": [
    {
     "data": {
      "text/plain": [
       "YEAR    0\n",
       "JAN     0\n",
       "FEB     0\n",
       "MAR     0\n",
       "APR     0\n",
       "MAY     0\n",
       "JUN     0\n",
       "JUL     0\n",
       "AUG     0\n",
       "SEP     0\n",
       "OCT     0\n",
       "NOV     0\n",
       "DEC     0\n",
       "dtype: int64"
      ]
     },
     "execution_count": 80,
     "metadata": {},
     "output_type": "execute_result"
    }
   ],
   "source": [
    "# recheck for missing values after filling with mean\n",
    "\n",
    "df.isnull().sum()"
   ]
  },
  {
   "cell_type": "markdown",
   "id": "5b34f9fa-bf4a-4a5f-b888-0981f2f40d5d",
   "metadata": {},
   "source": [
    "#### Transform the dataframe where each year has multiple month columns into a long format where each row represents one month of sales for a particular year"
   ]
  },
  {
   "cell_type": "code",
   "execution_count": 81,
   "id": "f9dfd363-4a9a-4830-ad59-dfcc696185c3",
   "metadata": {},
   "outputs": [],
   "source": [
    "# reshape the data into long format\n",
    "\n",
    "df_long = df.melt(id_vars=['YEAR'], var_name='Month', value_name='Sales')\n",
    "df_long['Date'] = pd.to_datetime(df_long['YEAR'].astype(str) + df_long['Month'], format='%Y%b')\n",
    "df_long = df_long.sort_values('Date')"
   ]
  },
  {
   "cell_type": "markdown",
   "id": "7de874bd-cf28-435a-bc61-b60c07b46473",
   "metadata": {},
   "source": [
    "#### Set the 'Date' column as the index of the df, and convert the index into a period index with a monthly frequency"
   ]
  },
  {
   "cell_type": "code",
   "execution_count": 82,
   "id": "cfc74aaa-8f93-4bff-b7cf-09af136fce17",
   "metadata": {},
   "outputs": [],
   "source": [
    "# set the dat column as the index and define frequency as monthly\n",
    "\n",
    "df_long.set_index('Date', inplace=True)\n",
    "df_long.index = df_long.index.to_period('M')"
   ]
  },
  {
   "cell_type": "code",
   "execution_count": 91,
   "id": "ab5dde74-f4a3-4e71-ae83-46bb7c1392b5",
   "metadata": {},
   "outputs": [
    {
     "data": {
      "image/png": "[encoded data removed]",
      "text/plain": [
       "<Figure size 1000x600 with 1 Axes>"
      ]
     },
     "metadata": {},
     "output_type": "display_data"
    }
   ],
   "source": [
    "# plot the data\n",
    "\n",
    "plt.figure(figsize=(10, 6))\n",
    "plt.plot(df_long.index.to_timestamp(), df_long['Sales'], label='Monthly Retail Sales')\n",
    "plt.xlabel('Year')\n",
    "plt.ylabel('Retail Sales (in millions)')\n",
    "plt.title('US Monthly Retail Sales (Jan 1992 - Jun 2021)')\n",
    "plt.grid(True)\n",
    "plt.legend()\n",
    "plt.show()"
   ]
  },
  {
   "cell_type": "markdown",
   "id": "82ea27f6-67fa-48fe-a0cb-a3567568376f",
   "metadata": {},
   "source": [
    "The graph shows a general upward trend in monthly retail sales in the US from January 1992 to June 2021. There are noticeable peaks, which typically occur towards the end of each year.  The spikes are likely due to holiday spending late in the year. The trend was stable until the 2008 financial crisis, after which there is a slight dip, followed by anoother recovery. Another notable change occurs in 2020, likely due to the COVID-19 pandemic, where sales initially dip sharply and then recover."
   ]
  },
  {
   "cell_type": "markdown",
   "id": "00808f2a-8c6a-41e9-afb0-6fa2dd42b889",
   "metadata": {},
   "source": [
    "#### Split the dataset into a training set and a test set. The training set will be used to build the predictive model, while the test set will be used to evaluate the accuracy of the model's predictions. The copy method ensures that the original df remains unchanged "
   ]
  },
  {
   "cell_type": "code",
   "execution_count": 84,
   "id": "01dfd0f9-a890-4811-acbf-6d68b98f7253",
   "metadata": {},
   "outputs": [],
   "source": [
    "# split the data into training (up to June 2020) and test set (July 2020 - June 2021)\n",
    "\n",
    "train_data = df_long[df_long.index < '2020-07'].copy()\n",
    "test_data = df_long[(df_long.index >= '2020-07') & (df_long.index <= '2021-06')].copy()"
   ]
  },
  {
   "cell_type": "markdown",
   "id": "a36f27cb-c527-4e4c-8e0b-d5d1a7ebe5ca",
   "metadata": {},
   "source": [
    "###  Create a model to predict future sales by recognizing patterns in past data, like seasonal changes and overall trends"
   ]
  },
  {
   "cell_type": "code",
   "execution_count": 86,
   "id": "b00a83bc-3920-4d59-8588-2852249b3a0d",
   "metadata": {},
   "outputs": [],
   "source": [
    "# build a predictive model using holt winters\n",
    "\n",
    "hw_model = ExponentialSmoothing(train_data['Sales'], seasonal='add', trend='add', seasonal_periods=12, use_boxcox=True).fit(optimized=True, remove_bias=True)"
   ]
  },
  {
   "cell_type": "code",
   "execution_count": 87,
   "id": "ce0a3cdb-4149-45e8-80a4-cb3efea4ab28",
   "metadata": {},
   "outputs": [],
   "source": [
    "# predict the monthly retail sales for the last year\n",
    "\n",
    "hw_predictions = hw_model.forecast(steps=len(test_data))"
   ]
  },
  {
   "cell_type": "code",
   "execution_count": 88,
   "id": "a9ecab5b-6f60-4edf-bf07-0c2f686ca8e6",
   "metadata": {},
   "outputs": [
    {
     "name": "stdout",
     "output_type": "stream",
     "text": [
      "Holt-Winters RMSE: 45306.78927223505\n"
     ]
    }
   ],
   "source": [
    "# report the RMSE of the model predictions on the test set\n",
    "\n",
    "hw_rmse = np.sqrt(mean_squared_error(test_sales, hw_predictions))\n",
    "print(f\"Holt-Winters RMSE: {hw_rmse}\")"
   ]
  }
 ],
 "metadata": {
  "kernelspec": {
   "display_name": "Python 3 (ipykernel)",
   "language": "python",
   "name": "python3"
  },
  "language_info": {
   "codemirror_mode": {
    "name": "ipython",
    "version": 3
   },
   "file_extension": ".py",
   "mimetype": "text/x-python",
   "name": "python",
   "nbconvert_exporter": "python",
   "pygments_lexer": "ipython3",
   "version": "3.11.9"
  }
 },
 "nbformat": 4,
 "nbformat_minor": 5
}
