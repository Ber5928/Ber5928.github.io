{
 "cells": [
  {
   "cell_type": "code",
   "execution_count": null,
   "id": "26f4866f-fa77-4817-98ca-4c2d537b0757",
   "metadata": {},
   "outputs": [],
   "source": []
  },
  {
   "cell_type": "code",
   "execution_count": 5,
   "id": "d6f81aeb-e7be-485b-b60a-4bb0fe1f2d07",
   "metadata": {},
   "outputs": [
    {
     "data": {
      "text/plain": [
       "array(['Star Wars: Episode IV - A New Hope (1977)', 'Forrest Gump (1994)',\n",
       "       'Lion King, The (1994)', 'Jurassic Park (1993)',\n",
       "       'Mission: Impossible (1996)',\n",
       "       'Independence Day (a.k.a. ID4) (1996)',\n",
       "       'Star Wars: Episode VI - Return of the Jedi (1983)',\n",
       "       'Groundhog Day (1993)', 'Back to the Future (1985)',\n",
       "       'Toy Story 2 (1999)'], dtype=object)"
      ]
     },
     "execution_count": 5,
     "metadata": {},
     "output_type": "execute_result"
    }
   ],
   "source": [
    "import pandas as pd\n",
    "from sklearn.metrics.pairwise import cosine_similarity\n",
    "import re\n",
    "\n",
    "# Load the data from the provided CSV files\n",
    "movies_df = pd.read_csv('ml-latest-small/movies.csv')\n",
    "ratings_df = pd.read_csv('ml-latest-small/ratings.csv')\n",
    "\n",
    "\n",
    "# Create a user-movie matrix with users as rows, movies as columns, and ratings as values\n",
    "user_movie_matrix = ratings_df.pivot(index='userId', columns='movieId', values='rating')\n",
    "user_movie_matrix = user_movie_matrix.fillna(0)  # Fill missing values with 0\n",
    "\n",
    "# Calculate the number of ratings each movie has received\n",
    "movie_rating_counts = ratings_df.groupby('movieId').size()\n",
    "\n",
    "# Filter movies that have received at least a threshold number of ratings (e.g., 50)\n",
    "popular_movies = movie_rating_counts[movie_rating_counts >= 50].index\n",
    "user_movie_matrix_filtered = user_movie_matrix[popular_movies]\n",
    "\n",
    "# Calculate cosine similarity on the filtered user-movie matrix\n",
    "movie_similarity_filtered = cosine_similarity(user_movie_matrix_filtered.T)\n",
    "movie_similarity_filtered_df = pd.DataFrame(movie_similarity_filtered, index=user_movie_matrix_filtered.columns, columns=user_movie_matrix_filtered.columns)\n",
    "\n",
    "# Function to extract movie title without year\n",
    "def clean_movie_title(title):\n",
    "    # Remove the year in parentheses, if present\n",
    "    return re.sub(r'\\s*\\(\\d{4}\\)$', '', title).strip().lower()\n",
    "\n",
    "# Function to get top 10 similar movies for a given movie title without requiring the year\n",
    "def recommend_movies(movie_title, movies_df, movie_similarity_df, top_n=10):\n",
    "    # Clean the input movie title to ignore the year\n",
    "    cleaned_title = clean_movie_title(movie_title)\n",
    "    \n",
    "    # Find movieId(s) for movies matching the cleaned title\n",
    "    movie_ids = movies_df[movies_df['title'].str.lower().apply(clean_movie_title) == cleaned_title]['movieId'].values\n",
    "    if len(movie_ids) == 0:\n",
    "        return f\"Movie '{movie_title}' not found in the dataset.\"\n",
    "\n",
    "    # Use the first matching movieId for recommendations\n",
    "    movie_id = movie_ids[0]\n",
    "    if movie_id not in movie_similarity_df.index:\n",
    "        return f\"Movie '{movie_title}' does not have enough ratings for recommendation.\"\n",
    "    \n",
    "    # Get similarity scores for the given movie\n",
    "    similar_movies = movie_similarity_df[movie_id].sort_values(ascending=False)[1:top_n+1]\n",
    "    \n",
    "    # Get movie titles for the recommended movies\n",
    "    recommended_titles = movies_df[movies_df['movieId'].isin(similar_movies.index)]['title'].values\n",
    "    return recommended_titles\n",
    "\n",
    "# Example recommendation without using the year in the title\n",
    "recommend_movies(\"Toy Story\", movies_df, movie_similarity_filtered_df)\n"
   ]
  },
  {
   "cell_type": "code",
   "execution_count": null,
   "id": "df158129-6108-48e2-858c-bf222f09c9a0",
   "metadata": {},
   "outputs": [],
   "source": []
  }
 ],
 "metadata": {
  "kernelspec": {
   "display_name": "Python 3 (ipykernel)",
   "language": "python",
   "name": "python3"
  },
  "language_info": {
   "codemirror_mode": {
    "name": "ipython",
    "version": 3
   },
   "file_extension": ".py",
   "mimetype": "text/x-python",
   "name": "python",
   "nbconvert_exporter": "python",
   "pygments_lexer": "ipython3",
   "version": "3.11.9"
  }
 },
 "nbformat": 4,
 "nbformat_minor": 5
}
