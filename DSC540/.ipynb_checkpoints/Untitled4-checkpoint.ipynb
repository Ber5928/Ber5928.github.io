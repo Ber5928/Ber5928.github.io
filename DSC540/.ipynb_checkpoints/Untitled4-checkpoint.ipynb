{
 "cells": [
  {
   "cell_type": "markdown",
   "id": "859839a0",
   "metadata": {},
   "source": [
    "### DSC 540 Week 7&8 Data Wrangling with Python: \n",
    "### Chapter 7\n",
    "### Author: Brian Reppeto 1/25/2024"
   ]
  },
  {
   "cell_type": "code",
   "execution_count": null,
   "id": "db212f13",
   "metadata": {},
   "outputs": [],
   "source": []
  }
 ],
 "metadata": {
  "kernelspec": {
   "display_name": "Python 3 (ipykernel)",
   "language": "python",
   "name": "python3"
  },
  "language_info": {
   "codemirror_mode": {
    "name": "ipython",
    "version": 3
   },
   "file_extension": ".py",
   "mimetype": "text/x-python",
   "name": "python",
   "nbconvert_exporter": "python",
   "pygments_lexer": "ipython3",
   "version": "3.11.5"
  }
 },
 "nbformat": 4,
 "nbformat_minor": 5
}
