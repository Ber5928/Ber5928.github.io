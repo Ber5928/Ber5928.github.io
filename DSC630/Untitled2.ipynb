{
 "cells": [
  {
   "cell_type": "code",
   "execution_count": 3,
   "id": "67277a30-a4b7-4401-bfdf-5a2c00c1d8d7",
   "metadata": {},
   "outputs": [
    {
     "name": "stdout",
     "output_type": "stream",
     "text": [
      "Recommendations:\n",
      "                    title\n",
      "0        Toy Story (1995)\n",
      "7355   Toy Story 3 (2010)\n",
      "3595      Toy, The (1982)\n",
      "4089  Toy Soldiers (1991)\n",
      "1570    L.A. Story (1991)\n",
      "User-based Recommendations:\n",
      "                                         title\n",
      "0                             Toy Story (1995)\n",
      "224  Star Wars: Episode IV - A New Hope (1977)\n",
      "257                        Pulp Fiction (1994)\n",
      "277           Shawshank Redemption, The (1994)\n",
      "314                        Forrest Gump (1994)\n"
     ]
    }
   ],
   "source": [
    "import pandas as pd\n",
    "import re\n",
    "from sklearn.feature_extraction.text import TfidfVectorizer\n",
    "from sklearn.metrics.pairwise import cosine_similarity\n",
    "\n",
    "# Load movie data\n",
    "movies = pd.read_csv('ml-latest-small/movies.csv')  # Assuming movies.csv contains movieId, title columns\n",
    "\n",
    "# Basic title cleaning\n",
    "movies['clean_title'] = movies['title'].str.replace(r'[^a-zA-Z0-9 ]', '', regex=True).str.lower()\n",
    "\n",
    "# Vectorize movie titles for similarity calculation\n",
    "vectorizer = TfidfVectorizer()\n",
    "tfidf_matrix = vectorizer.fit_transform(movies['clean_title'])\n",
    "\n",
    "# Function to recommend movies based on title similarity\n",
    "def recommend_movies(title, num_recommendations=5):\n",
    "    title_clean = re.sub(r'[^a-zA-Z0-9 ]', '', title).lower()\n",
    "    title_vec = vectorizer.transform([title_clean])\n",
    "    similarity_scores = cosine_similarity(title_vec, tfidf_matrix).flatten()\n",
    "    \n",
    "    # Get indices of top similar movies\n",
    "    recommended_indices = similarity_scores.argsort()[-num_recommendations-1:-1][::-1]\n",
    "    return movies.iloc[recommended_indices][['title']]\n",
    "\n",
    "# Example: Recommend movies similar to a given title\n",
    "print(\"Recommendations:\")\n",
    "print(recommend_movies(\"Toy Story\", 5))\n",
    "\n",
    "# Load ratings data\n",
    "ratings = pd.read_csv('ml-latest-small/ratings.csv')  # Assuming ratings.csv contains userId, movieId, rating columns\n",
    "\n",
    "# Get users who liked a given movie\n",
    "def get_similar_users(movie_id, min_rating=4):\n",
    "    return ratings[(ratings['movieId'] == movie_id) & (ratings['rating'] >= min_rating)]['userId'].unique()\n",
    "\n",
    "# Get recommended movies based on similar users' high-rated movies\n",
    "def recommend_from_similar_users(movie_id, num_recommendations=5):\n",
    "    similar_users = get_similar_users(movie_id)\n",
    "    similar_user_ratings = ratings[ratings['userId'].isin(similar_users) & (ratings['rating'] >= 4)]\n",
    "    top_movies = similar_user_ratings['movieId'].value_counts().head(num_recommendations).index\n",
    "    return movies[movies['movieId'].isin(top_movies)][['title']]\n",
    "\n",
    "# Example: Recommend based on users who liked \"Toy Story\" (assuming movie ID is 1)\n",
    "print(\"User-based Recommendations:\")\n",
    "print(recommend_from_similar_users(1, 5))\n"
   ]
  },
  {
   "cell_type": "code",
   "execution_count": null,
   "id": "09c52a69-f478-48c5-828c-35cfc7ab95ce",
   "metadata": {},
   "outputs": [],
   "source": []
  }
 ],
 "metadata": {
  "kernelspec": {
   "display_name": "Python 3 (ipykernel)",
   "language": "python",
   "name": "python3"
  },
  "language_info": {
   "codemirror_mode": {
    "name": "ipython",
    "version": 3
   },
   "file_extension": ".py",
   "mimetype": "text/x-python",
   "name": "python",
   "nbconvert_exporter": "python",
   "pygments_lexer": "ipython3",
   "version": "3.11.9"
  }
 },
 "nbformat": 4,
 "nbformat_minor": 5
}
