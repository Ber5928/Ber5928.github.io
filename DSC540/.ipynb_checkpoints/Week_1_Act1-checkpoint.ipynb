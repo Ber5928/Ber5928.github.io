{
 "cells": [
  {
   "cell_type": "markdown",
   "id": "505da2bc",
   "metadata": {},
   "source": [
    "DSC 540\n",
    "2.2 Data Wrangling with Python: Activity 2 Create list and generqate random numbers\n",
    "Author: Brian Reppeto¶\n",
    "12/7/2023"
   ]
  },
  {
   "cell_type": "code",
   "execution_count": 4,
   "id": "21a47f36",
   "metadata": {
    "scrolled": true
   },
   "outputs": [
    {
     "name": "stderr",
     "output_type": "stream",
     "text": [
      "/var/folders/yd/8fns7t4j1n9gv77y0dvs5zdc0000gn/T/ipykernel_60010/1490553338.py:3: DeprecationWarning: Importing display from IPython.core.display is deprecated since IPython 7.14, please import from IPython display\n",
      "  from IPython.core.display import display, HTML\n"
     ]
    },
    {
     "data": {
      "text/html": [
       "<style>.container { width:100% ! important; }<style>"
      ],
      "text/plain": [
       "<IPython.core.display.HTML object>"
      ]
     },
     "metadata": {},
     "output_type": "display_data"
    },
    {
     "data": {
      "text/html": [
       "<style>.container { height:100% ! important; }<style>"
      ],
      "text/plain": [
       "<IPython.core.display.HTML object>"
      ]
     },
     "metadata": {},
     "output_type": "display_data"
    }
   ],
   "source": [
    "# This command is to allow me to view the entire width of the screen to program\n",
    "\n",
    "from IPython.core.display import display, HTML\n",
    "display(HTML(\"<style>.container { width:100% ! important; }<style>\"))\n",
    "display(HTML(\"<style>.container { height:100% ! important; }<style>\"))\n"
   ]
  },
  {
   "cell_type": "code",
   "execution_count": 1,
   "id": "5049ea14",
   "metadata": {},
   "outputs": [
    {
     "name": "stdout",
     "output_type": "stream",
     "text": [
      "[920, 899, 916, 849, 448, 267, 20, 574, 35, 805, 88, 923, 817, 756, 166, 651, 141, 782, 336, 80, 510, 83, 807, 703, 391, 19, 778, 802, 219, 410, 479, 354, 152, 781, 679, 98, 16, 479, 498, 907, 98, 486, 149, 890, 470, 57, 937, 709, 342, 830, 381, 615, 955, 191, 221, 770, 392, 799, 268, 419, 615, 488, 925, 341, 210, 479, 720, 541, 16, 814, 929, 669, 763, 33, 505, 516, 217, 325, 132, 743, 990, 668, 957, 897, 525, 788, 815, 183, 960, 173, 746, 9, 159, 374, 982, 869, 745, 891, 358, 86]\n"
     ]
    }
   ],
   "source": [
    "# Task 1\n",
    "\n",
    "# Import Library\n",
    "\n",
    "import random\n",
    "\n",
    "# Create list of 100 random numbers\n",
    "\n",
    "ran_numbers = [random.randint(1, 1000) for _ in range(100)]\n",
    "\n",
    "print(ran_numbers)"
   ]
  },
  {
   "cell_type": "code",
   "execution_count": 4,
   "id": "774d16aa",
   "metadata": {},
   "outputs": [
    {
     "name": "stdout",
     "output_type": "stream",
     "text": [
      "[135, 672, 546, 786, 345, 621, 306, 228, 702, 192, 78, 765, 303, 915, 441, 687, 942, 456, 60, 516, 477, 768, 561, 456, 618, 156, 360, 849, 609, 336]\n"
     ]
    }
   ],
   "source": [
    "# Task 2\n",
    "\n",
    "# Creating a new list with numbers divisible by 3\n",
    "\n",
    "div_by_3 = [num for num in ran_numbers if num % 3 == 0]\n",
    "\n",
    "print(div_by_3)"
   ]
  },
  {
   "cell_type": "code",
   "execution_count": 6,
   "id": "88370a92",
   "metadata": {},
   "outputs": [
    {
     "name": "stdout",
     "output_type": "stream",
     "text": [
      "Length of random_numbers: 100\n",
      "Length of divisible_by_3: 30\n",
      "Difference in lengths: 70\n"
     ]
    }
   ],
   "source": [
    "# Task 3\n",
    "\n",
    "# Calculate the length of the two lists and stor the diff in a new var\n",
    "\n",
    "len_ran_numbers = len(ran_numbers)\n",
    "len_div_by_3 = len(div_by_3)\n",
    "\n",
    "# Calculating the difference in lengths\n",
    "\n",
    "len_diff = len_ran_numbers - len_div_by_3\n",
    "\n",
    "print(f\"Length of random_numbers: {len_ran_numbers}\")\n",
    "print(f\"Length of divisible_by_3: {len_div_by_3}\")\n",
    "# Initialize a variable to store the sum of differences\n",
    "sum_of_differences = 0\n",
    "print(f\"Difference in lengths: {len_diff}\")"
   ]
  },
  {
   "cell_type": "code",
   "execution_count": 9,
   "id": "b8fbb103",
   "metadata": {},
   "outputs": [
    {
     "name": "stdout",
     "output_type": "stream",
     "text": [
      "Length of random_numbers: 100\n",
      "Length of divisible_by_3: 37\n",
      "Difference in lengths: 63\n",
      "------------------\n",
      "Length of random_numbers: 100\n",
      "Length of divisible_by_3: 32\n",
      "Difference in lengths: 68\n",
      "------------------\n",
      "Length of random_numbers: 100\n",
      "Length of divisible_by_3: 39\n",
      "Difference in lengths: 61\n",
      "------------------\n",
      "Arithmetic Mean of Differences: 64.0\n"
     ]
    }
   ],
   "source": [
    "# Task 4 & 5\n",
    "\n",
    "# Initialize a variable to store the sum of differences\n",
    "sum_of_differences = 0\n",
    "\n",
    "\n",
    "\n",
    "\n",
    "# Perform steps 2 and 3 and find the difference varibable three times using a loop\n",
    "\n",
    "\n",
    "\n",
    "for _ in range(3):\n",
    "    # Generating a list of 100 random numbers\n",
    "    random_numbers = [random.randint(1, 1000) for _ in range(100)]\n",
    "\n",
    "    # Creating a new list with numbers divisible by 3\n",
    "    divisible_by_3 = [num for num in random_numbers if num % 3 == 0]\n",
    "\n",
    "    # Calculating the lengths of the two lists\n",
    "    length_random_numbers = len(random_numbers)\n",
    "    length_divisible_by_3 = len(divisible_by_3)\n",
    "\n",
    "    # Calculating the difference in lengths\n",
    "    length_difference = length_random_numbers - length_divisible_by_3\n",
    "    \n",
    "    # Adding the difference to the sum\n",
    "    sum_of_differences += length_difference\n",
    "    \n",
    "    \n",
    "    # Print the results on each line and seperate by - for readability 3 times\n",
    "    \n",
    "    print(f\"Length of random_numbers: {length_random_numbers}\")\n",
    "    print(f\"Length of divisible_by_3: {length_divisible_by_3}\")\n",
    "    print(f\"Difference in lengths: {length_difference}\")\n",
    "    print(\"------------------\")\n",
    "    \n",
    "\n",
    "# Calculating the arithmetic mean\n",
    "arithmetic_mean = sum_of_differences / 3\n",
    "\n",
    "print(f\"Arithmetic Mean of Differences: {arithmetic_mean}\")"
   ]
  }
 ],
 "metadata": {
  "kernelspec": {
   "display_name": "Python 3 (ipykernel)",
   "language": "python",
   "name": "python3"
  },
  "language_info": {
   "codemirror_mode": {
    "name": "ipython",
    "version": 3
   },
   "file_extension": ".py",
   "mimetype": "text/x-python",
   "name": "python",
   "nbconvert_exporter": "python",
   "pygments_lexer": "ipython3",
   "version": "3.11.5"
  }
 },
 "nbformat": 4,
 "nbformat_minor": 5
}
