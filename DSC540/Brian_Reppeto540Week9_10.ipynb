{
 "cells": [
  {
   "cell_type": "markdown",
   "id": "79c8745d",
   "metadata": {},
   "source": [
    "#### DSC 540 Week 9 & 10 Data Wrangling with Python: \n",
    "#### Chapter \n",
    "#### Author: Brian Reppeto 2/5/2024"
   ]
  },
  {
   "cell_type": "markdown",
   "id": "4a5b55ba",
   "metadata": {},
   "source": [
    "###### Activity 9"
   ]
  },
  {
   "cell_type": "code",
   "execution_count": 2,
   "id": "4b470be9",
   "metadata": {},
   "outputs": [],
   "source": [
    "# import libraries\n",
    "\n",
    "import urllib.request, urllib.parse, urllib.error\n",
    "import requests\n",
    "from bs4 import BeautifulSoup as bs\n",
    "import ssl\n",
    "import re"
   ]
  },
  {
   "cell_type": "code",
   "execution_count": 3,
   "id": "d8c870e3",
   "metadata": {},
   "outputs": [],
   "source": [
    "# check SSL certificate\n",
    "\n",
    "chk = ssl.create_default_context()\n",
    "chk.check_hostname = False\n",
    "chk.verify_mode = ssl.CERT_NONE"
   ]
  },
  {
   "cell_type": "code",
   "execution_count": 4,
   "id": "9cff5299",
   "metadata": {},
   "outputs": [],
   "source": [
    "# get data from the website using the requests library\n",
    "\n",
    "top100url = 'https://www.gutenberg.org/browse/scores/top'\n",
    "response = requests.get(top100url)"
   ]
  },
  {
   "cell_type": "code",
   "execution_count": 5,
   "id": "b0b63b78",
   "metadata": {},
   "outputs": [],
   "source": [
    "# create a funtion to check the status code of the response and print a message based on the status code\n",
    "\n",
    "def statchck(r):\n",
    "    if r.status_code==200:\n",
    "        print(\"Success!\")\n",
    "        return 1\n",
    "    else:\n",
    "        print(\"Failed!\")\n",
    "        return -1"
   ]
  },
  {
   "cell_type": "code",
   "execution_count": 6,
   "id": "13967f68",
   "metadata": {},
   "outputs": [
    {
     "name": "stdout",
     "output_type": "stream",
     "text": [
      "Success!\n"
     ]
    },
    {
     "data": {
      "text/plain": [
       "1"
      ]
     },
     "execution_count": 6,
     "metadata": {},
     "output_type": "execute_result"
    }
   ],
   "source": [
    "# call the function\n",
    "\n",
    "statchck(response)"
   ]
  },
  {
   "cell_type": "code",
   "execution_count": 7,
   "id": "3440c484",
   "metadata": {},
   "outputs": [],
   "source": [
    "# decode the content of the HTTP response to a string\n",
    "\n",
    "cont = response.content.decode(response.encoding)"
   ]
  },
  {
   "cell_type": "code",
   "execution_count": 8,
   "id": "de808c5e",
   "metadata": {},
   "outputs": [],
   "source": [
    "# create a bs object for parsing HTML\n",
    "\n",
    "soup = bs(cont, 'html.parser')"
   ]
  },
  {
   "cell_type": "markdown",
   "id": "3fa8fdc7",
   "metadata": {},
   "source": [
    "#### Find href tags and store them in the list of links & print first 30\n",
    "\n"
   ]
  },
  {
   "cell_type": "code",
   "execution_count": 9,
   "id": "01eec51f",
   "metadata": {},
   "outputs": [],
   "source": [
    "# create empty list to hold all the http links\n",
    "\n",
    "list_links=[]"
   ]
  },
  {
   "cell_type": "code",
   "execution_count": 10,
   "id": "b4a722e2",
   "metadata": {},
   "outputs": [],
   "source": [
    "# for loop through all 'a' tags extracting the href attribute of each link and appending it to list_links\n",
    "\n",
    "for link in soup.find_all('a'):\n",
    "    list_links.append(link.get('href'))"
   ]
  },
  {
   "cell_type": "code",
   "execution_count": 11,
   "id": "34e0e8fc",
   "metadata": {},
   "outputs": [
    {
     "data": {
      "text/plain": [
       "['/',\n",
       " '/about/',\n",
       " '/about/',\n",
       " '/policy/collection_development.html',\n",
       " '/about/contact_information.html',\n",
       " '/about/background/',\n",
       " '/policy/permission.html',\n",
       " '/policy/privacy_policy.html',\n",
       " '/policy/terms_of_use.html',\n",
       " '/ebooks/',\n",
       " '/ebooks/',\n",
       " '/ebooks/bookshelf/',\n",
       " '/browse/scores/top',\n",
       " '/ebooks/offline_catalogs.html',\n",
       " '/help/',\n",
       " '/help/',\n",
       " '/help/copyright.html',\n",
       " '/help/errata.html',\n",
       " '/help/file_formats.html',\n",
       " '/help/faq.html',\n",
       " '/policy/',\n",
       " '/help/public_domain_ebook_submission.html',\n",
       " '/help/submitting_your_own_work.html',\n",
       " '/help/mobile.html',\n",
       " '/attic/',\n",
       " '/donate/',\n",
       " '/donate/',\n",
       " '#books-last1',\n",
       " '#authors-last1',\n",
       " '#books-last7']"
      ]
     },
     "execution_count": 11,
     "metadata": {},
     "output_type": "execute_result"
    }
   ],
   "source": [
    "# display the first 30 elements of the list_links\n",
    "\n",
    "list_links[:30]"
   ]
  },
  {
   "cell_type": "markdown",
   "id": "b4af67a3",
   "metadata": {},
   "source": [
    "#### find the numeric digits in these links for the Top 100 books."
   ]
  },
  {
   "cell_type": "code",
   "execution_count": 12,
   "id": "72f3b194",
   "metadata": {},
   "outputs": [],
   "source": [
    "# create empty list to hold all the #'s\n",
    "\n",
    "booknumb=[]"
   ]
  },
  {
   "cell_type": "code",
   "execution_count": 13,
   "id": "a2951603",
   "metadata": {},
   "outputs": [],
   "source": [
    "# loop through a subset of elements in list_links extracting numeric digits\n",
    "\n",
    "for i in range(33,133):\n",
    "    link=list_links[i]\n",
    "    link=link.strip()\n",
    "    # Regular expression to find the numeric digits in the link (href) string\n",
    "    n=re.findall('[0-9]+',link)\n",
    "    if len(n)==1:\n",
    "        # Append the filenumber casted as integer\n",
    "        booknumb.append(int(n[0]))"
   ]
  },
  {
   "cell_type": "code",
   "execution_count": 14,
   "id": "aaf78369",
   "metadata": {},
   "outputs": [
    {
     "name": "stdout",
     "output_type": "stream",
     "text": [
      "[84, 1342, 2701, 1513, 145, 64317, 100, 2641, 37106, 16389, 67979, 394, 6761, 2160, 6593, 1259, 4085, 5197, 174, 11, 2542, 844, 1952, 972, 25344, 1080, 98, 5200, 2554, 345, 1260, 1400, 408, 76, 72953, 43, 39742, 72948, 72950, 6130, 72955, 28054, 1232, 219, 205, 1727, 1661, 1093, 58585, 4300, 41445, 72954, 2591, 768, 2600, 46, 3207, 23, 2000, 42324, 1497, 2814, 5740, 11757, 7370, 72946, 1998, 45, 45502, 600, 1184, 36, 30254, 2852, 161, 11030, 33283, 15399, 8800, 829, 244, 35, 16, 55, 36034, 996, 74, 16328, 120, 514, 2680, 8492, 4363, 158, 27827, 19942, 67098, 3296, 5827, 2148]\n"
     ]
    }
   ],
   "source": [
    "# print the book numbers\n",
    "\n",
    "print(booknumb)"
   ]
  },
  {
   "cell_type": "code",
   "execution_count": 15,
   "id": "41a623d7",
   "metadata": {},
   "outputs": [
    {
     "name": "stdout",
     "output_type": "stream",
     "text": [
      "\n",
      "\n",
      "\n",
      "\n",
      "Top 100 | Project Gutenberg\n",
      "\n",
      "\n",
      "\n",
      "\n",
      "\n",
      "\n",
      "\n",
      "\n",
      "\n",
      "\n",
      "\n",
      "\n",
      "\n",
      "\n",
      "\n",
      "\n",
      "\n",
      "\n",
      "\n",
      "\n",
      "\n",
      "\n",
      "\n",
      "\n",
      "\n",
      "\n",
      "\n",
      "Menu▾\n",
      "\n",
      "\n",
      "\n",
      "About\n",
      "          ▾\n",
      "\n",
      "▾\n",
      "\n",
      "\n",
      "About Project Gutenberg\n",
      "Collection Development\n",
      "Contact Us\n",
      "History & Philosophy\n",
      "Permissions & License\n",
      "Privacy Policy\n",
      "Terms of Use\n",
      "\n",
      "\n",
      "\n",
      "Search and Browse\n",
      "      \t  ▾\n",
      "\n",
      "▾\n",
      "\n",
      "\n",
      "Book Search\n",
      "Bookshelves\n",
      "Frequently Downloaded\n",
      "Offline Catalogs\n",
      "\n",
      "\n",
      "\n",
      "Help\n",
      "          ▾\n",
      "\n",
      "▾\n",
      "\n",
      "\n",
      "All help topics →\n",
      "Copyright How-To\n",
      "Errata, Fixes and Bug Reports\n",
      "File Formats\n",
      "Frequently Asked Questions\n",
      "Policies →\n",
      "Public Domain eBook Submission\n",
      "Submitting Your Own Work\n",
      "Tablets, Phones and eReaders\n",
      "The Attic →\n",
      "\n",
      "\n",
      "Donate\n",
      "\n",
      "\n",
      "\n",
      "\n",
      "\n",
      "\n",
      "\n",
      "\n",
      "\n",
      "\n",
      "Donation\n",
      "\n",
      "\n",
      "\n",
      "\n",
      "\n",
      "\n",
      "\n",
      "Frequently Viewed or Downloaded\n",
      "These listings are based on the number of times each eBook gets downloaded.\n",
      "      Multiple downloads from the same Internet address on the same day count as one download, and addresses that download more than 100 eBooks in a day are considered robots and are not counted.\n",
      "\n",
      "Downloaded Books\n",
      "2024-02-14300578\n",
      "last 7 days2104603\n",
      "last 30 days7457656\n",
      "\n",
      "\n",
      "\n",
      "Top 100 EBooks yesterday\n",
      "Top 100 Authors yesterday\n",
      "Top 100 EBooks last 7 days\n",
      "Top 100 Authors last 7 days\n",
      "Top 100 EBooks last 30 days\n",
      "Top 100 Authors last 30 days\n",
      "\n",
      "\n",
      "Top 100 EBooks yesterday\n",
      "\n",
      "Frankenstein; Or, The Modern Prometheus by Mary Wollstonecraft Shelley (3945)\n",
      "Pride and Prejudice by Jane Austen (2616)\n",
      "Moby Dick; Or, The Whale by Herman Melville (2255)\n",
      "Romeo and Juliet by William Shakespeare (2035)\n",
      "Middlemarch by George Eliot (1539)\n",
      "The Great Gatsby by F. Scott  Fitzgerald (1438)\n",
      "The Complete Works of William Shakespeare by William Shakespeare (1433)\n",
      "A Room with a View by E. M.  Forster (1426)\n",
      "Little Women; Or, Meg, Jo, Beth, and Amy by Louisa May Alcott (1414)\n",
      "The Enchanted April by Elizabeth Von Arnim (1279)\n",
      "The Blue Castle: a novel by L. M.  Montgomery (1260)\n",
      "Cranford by Elizabeth Cleghorn Gaskell (1178)\n",
      "The Adventures of Ferdinand Count Fathom — Complete by T.  Smollett (1165)\n",
      "The Expedition of Humphry Clinker by T.  Smollett (1139)\n",
      "History of Tom Jones, a Foundling by Henry Fielding (1133)\n",
      "Twenty ye\n"
     ]
    }
   ],
   "source": [
    "# print first 2000 characters\n",
    "\n",
    "print(soup.text[:2000])"
   ]
  },
  {
   "cell_type": "markdown",
   "id": "fdb2fdaa",
   "metadata": {},
   "source": [
    "#### find the names of top 100 Ebooks\n",
    "\n"
   ]
  },
  {
   "cell_type": "code",
   "execution_count": 16,
   "id": "e8487539",
   "metadata": {},
   "outputs": [],
   "source": [
    "# create empty list for Ebook names\n",
    "\n",
    "list_titles_temp=[]"
   ]
  },
  {
   "cell_type": "code",
   "execution_count": 17,
   "id": "8a6eab2c",
   "metadata": {},
   "outputs": [],
   "source": [
    "# create a starting index\n",
    "\n",
    "st_idx=soup.text.splitlines().index('Top 100 EBooks yesterday')"
   ]
  },
  {
   "cell_type": "code",
   "execution_count": 18,
   "id": "46412d92",
   "metadata": {},
   "outputs": [],
   "source": [
    "# loop 1-100 to add the strings of next 100 lines\n",
    "\n",
    "for i in range(100):\n",
    "    list_titles_temp.append(soup.text.splitlines()[st_idx+2+i])"
   ]
  },
  {
   "cell_type": "code",
   "execution_count": 19,
   "id": "b4382d91",
   "metadata": {},
   "outputs": [],
   "source": [
    "# create empty list\n",
    "\n",
    "list_ttls=[]"
   ]
  },
  {
   "cell_type": "code",
   "execution_count": 20,
   "id": "008f2954",
   "metadata": {},
   "outputs": [],
   "source": [
    "# loop through the first 100 elements of list_titles_temp searching for items and append to list_ttls\n",
    "\n",
    "\n",
    "for i in range(100):\n",
    "    id1,id2=re.match('^[a-zA-Z ]*',list_titles_temp[i]).span()\n",
    "    list_ttls.append(list_titles_temp[i][id1:id2])"
   ]
  },
  {
   "cell_type": "code",
   "execution_count": 21,
   "id": "b1fa9e16",
   "metadata": {},
   "outputs": [
    {
     "name": "stdout",
     "output_type": "stream",
     "text": [
      "Top \n",
      "Top \n",
      "Top \n",
      "Top \n",
      "\n",
      "\n",
      "Top \n",
      "\n",
      "Frankenstein\n",
      "Pride and Prejudice by Jane Austen \n",
      "Moby Dick\n",
      "Romeo and Juliet by William Shakespeare \n",
      "Middlemarch by George Eliot \n",
      "The Great Gatsby by F\n",
      "The Complete Works of William Shakespeare by William Shakespeare \n",
      "A Room with a View by E\n",
      "Little Women\n",
      "The Enchanted April by Elizabeth Von Arnim \n",
      "The Blue Castle\n",
      "Cranford by Elizabeth Cleghorn Gaskell \n",
      "The Adventures of Ferdinand Count Fathom \n",
      "The Expedition of Humphry Clinker by T\n",
      "History of Tom Jones\n",
      "Twenty years after by Alexandre Dumas and Auguste Maquet \n",
      "The Adventures of Roderick Random by T\n",
      "My Life \n",
      "The Picture of Dorian Gray by Oscar Wilde \n",
      "Alice\n",
      "A Doll\n",
      "The Importance of Being Earnest\n",
      "The Yellow Wallpaper by Charlotte Perkins Gilman \n",
      "The Devil\n",
      "The Scarlet Letter by Nathaniel Hawthorne \n",
      "A Modest Proposal by Jonathan Swift \n",
      "A Tale of Two Cities by Charles Dickens \n",
      "Metamorphosis by Franz Kafka \n",
      "Crime and Punishment by Fyodor Dostoyevsky \n",
      "Dracula by Bram Stoker \n",
      "Jane Eyre\n",
      "Great Expectations by Charles Dickens \n",
      "The Souls of Black Folk by W\n",
      "Adventures of Huckleberry Finn by Mark Twain \n",
      "Studies of trees in winter \n",
      "The Strange Case of Dr\n",
      "Half a Man\n",
      "Annihilation by Isabel Ostrander \n",
      "The Bunnikins\n",
      "The Iliad by Homer \n",
      "The Girl\n",
      "The Brothers Karamazov by Fyodor Dostoyevsky \n",
      "The Prince by Niccol\n",
      "Heart of Darkness by Joseph Conrad \n",
      "Walden\n",
      "The Odyssey by Homer \n",
      "The Adventures of Sherlock Holmes by Arthur Conan Doyle \n",
      "The Beast in the Jungle by Henry James \n",
      "The Prophet by Kahlil Gibran \n",
      "Ulysses by James Joyce \n",
      "Frankenstein\n",
      "Le braconnier de la mer by Jean Maucl\n",
      "Grimms\n",
      "Wuthering Heights by Emily Bront\n",
      "War and Peace by graf Leo Tolstoy \n",
      "A Christmas Carol in Prose\n",
      "Leviathan by Thomas Hobbes \n",
      "Narrative of the Life of Frederick Douglass\n",
      "Don Quijote by Miguel de Cervantes Saavedra \n",
      "Frankenstein\n",
      "The Republic by Plato \n",
      "Dubliners by James Joyce \n",
      "Tractatus Logico\n",
      "The Velveteen Rabbit by Margery Williams Bianco \n",
      "Second Treatise of Government by John Locke \n",
      "Turrets\n",
      "Thus Spake Zarathustra\n",
      "Anne of Green Gables by L\n",
      "How the Other Half Lives\n",
      "Notes from the Underground by Fyodor Dostoyevsky \n",
      "The Count of Monte Cristo by Alexandre Dumas and Auguste Maquet \n",
      "The War of the Worlds by H\n",
      "The Romance of Lust\n",
      "The Hound of the Baskervilles by Arthur Conan Doyle \n",
      "Sense and Sensibility by Jane Austen \n",
      "Incidents in the Life of a Slave Girl\n",
      "Calculus Made Easy by Silvanus P\n",
      "The Interesting Narrative of the Life of Olaudah Equiano\n",
      "The divine comedy by Dante Alighieri \n",
      "Gulliver\n",
      "A Study in Scarlet by Arthur Conan Doyle \n",
      "The Time Machine by H\n",
      "Peter Pan by J\n",
      "The Wonderful Wizard of Oz by L\n",
      "White Nights and Other Stories by Fyodor Dostoyevsky \n",
      "Don Quixote by Miguel de Cervantes Saavedra \n",
      "The Adventures of Tom Sawyer\n",
      "Beowulf\n",
      "Treasure Island by Robert Louis Stevenson \n",
      "Little Women by Louisa May Alcott \n",
      "Meditations by Emperor of Rome Marcus Aurelius \n",
      "The King in Yellow by Robert W\n"
     ]
    }
   ],
   "source": [
    "# loop through the list and print the titles\n",
    "\n",
    "for b in list_ttls:\n",
    "    print(b)"
   ]
  },
  {
   "cell_type": "markdown",
   "id": "6368f94d",
   "metadata": {},
   "source": [
    "###### Activity 10"
   ]
  },
  {
   "cell_type": "code",
   "execution_count": 45,
   "id": "7e082da7",
   "metadata": {},
   "outputs": [],
   "source": [
    "# import libraries\n",
    "\n",
    "import urllib.request, urllib.parse, urllib.error\n",
    "import json"
   ]
  },
  {
   "cell_type": "code",
   "execution_count": 46,
   "id": "e449ac62",
   "metadata": {},
   "outputs": [],
   "source": [
    "# open the json api file and extract the api key to store into the omdbapi variable\n",
    "\n",
    "with open('API_BER.json') as f:\n",
    "    keys = json.load(f)\n",
    "    omdbapi = keys['OMDBapi']"
   ]
  },
  {
   "cell_type": "code",
   "execution_count": 48,
   "id": "255e1a14",
   "metadata": {},
   "outputs": [],
   "source": [
    "# construct the URL for accessing the OMDB API by passing the api key\n",
    "\n",
    "serviceurl = 'http://www.omdbapi.com/?'\n",
    "apikey = '&apikey='+omdbapi"
   ]
  },
  {
   "cell_type": "code",
   "execution_count": 49,
   "id": "436fffa3",
   "metadata": {},
   "outputs": [],
   "source": [
    "# create a function to format and display information from the json\n",
    "\n",
    "def print_json(json_data):\n",
    "    list_keys=['Title', 'Year', 'Rated', 'Released', 'Runtime', 'Genre', 'Director', 'Writer', \n",
    "               'Actors', 'Plot', 'Language', 'Country', 'Awards', 'Ratings', \n",
    "               'Metascore', 'imdbRating', 'imdbVotes', 'imdbID']\n",
    "    print(\"-\"*50)\n",
    "    for k in list_keys:\n",
    "        if k in list(json_data.keys()):\n",
    "            print(f\"{k}: {json_data[k]}\")\n",
    "    print(\"-\"*50)"
   ]
  },
  {
   "cell_type": "code",
   "execution_count": 50,
   "id": "86e1deeb",
   "metadata": {},
   "outputs": [],
   "source": [
    "# create a function to download and save the poster image of a movie provided in a json\n",
    "\n",
    "def save_poster(json_data):\n",
    "    import os\n",
    "    title = json_data['Title']\n",
    "    poster_url = json_data['Poster']\n",
    "    poster_file_extension=poster_url.split('.')[-1]\n",
    "    poster_data = urllib.request.urlopen(poster_url).read()\n",
    "    savelocation=os.getcwd()+'\\\\'+'Posters'+'\\\\'\n",
    "    if not os.path.isdir(savelocation):\n",
    "        os.mkdir(savelocation)\n",
    "    \n",
    "    filename=savelocation+str(title)+'.'+poster_file_extension\n",
    "    f=open(filename,'wb')\n",
    "    f.write(poster_data)\n",
    "    f.close()"
   ]
  },
  {
   "cell_type": "code",
   "execution_count": 51,
   "id": "40e25c69",
   "metadata": {},
   "outputs": [],
   "source": [
    "# create a function to search for a movie by its title and display specific details about the movie\n",
    "\n",
    "def search_movie(title):\n",
    "    try:\n",
    "        url = serviceurl + urllib.parse.urlencode({'t': str(title)})+apikey\n",
    "        print(f'Retrieving the data of \"{title}\" now... ')\n",
    "        print(url)\n",
    "        uh = urllib.request.urlopen(url)\n",
    "        data = uh.read()\n",
    "        json_data=json.loads(data)\n",
    "        \n",
    "        if json_data['Response']=='True':\n",
    "            print_json(json_data)\n",
    "            if json_data['Poster']!='N/A':\n",
    "                save_poster(json_data)\n",
    "        else:\n",
    "            print(\"Error encountered: \",json_data['Error'])\n",
    "    \n",
    "    except urllib.error.URLError as e:\n",
    "        print(f\"ERROR: {e.reason}\")"
   ]
  },
  {
   "cell_type": "code",
   "execution_count": 52,
   "id": "a52a6b55",
   "metadata": {},
   "outputs": [
    {
     "name": "stdout",
     "output_type": "stream",
     "text": [
      "Retrieving the data of \"Titanic\" now... \n",
      "http://www.omdbapi.com/?t=Titanic&apikey=e077ced1\n",
      "--------------------------------------------------\n",
      "Title: Titanic\n",
      "Year: 1997\n",
      "Rated: PG-13\n",
      "Released: 19 Dec 1997\n",
      "Runtime: 194 min\n",
      "Genre: Drama, Romance\n",
      "Director: James Cameron\n",
      "Writer: James Cameron\n",
      "Actors: Leonardo DiCaprio, Kate Winslet, Billy Zane\n",
      "Plot: A seventeen-year-old aristocrat falls in love with a kind but poor artist aboard the luxurious, ill-fated R.M.S. Titanic.\n",
      "Language: English, Swedish, Italian, French\n",
      "Country: United States, Mexico\n",
      "Awards: Won 11 Oscars. 126 wins & 83 nominations total\n",
      "Ratings: [{'Source': 'Internet Movie Database', 'Value': '7.9/10'}, {'Source': 'Rotten Tomatoes', 'Value': '88%'}, {'Source': 'Metacritic', 'Value': '75/100'}]\n",
      "Metascore: 75\n",
      "imdbRating: 7.9\n",
      "imdbVotes: 1,267,049\n",
      "imdbID: tt0120338\n",
      "--------------------------------------------------\n"
     ]
    }
   ],
   "source": [
    "# using the function search_movie search for the movie Titanic\n",
    "\n",
    "search_movie(\"Titanic\")"
   ]
  },
  {
   "cell_type": "code",
   "execution_count": 53,
   "id": "26d230eb",
   "metadata": {},
   "outputs": [
    {
     "name": "stdout",
     "output_type": "stream",
     "text": [
      "Retrieving the data of \"Random_error\" now... \n",
      "http://www.omdbapi.com/?t=Random_error&apikey=e077ced1\n",
      "Error encountered:  Movie not found!\n"
     ]
    }
   ],
   "source": [
    "# using the function search_movie search for \"Random_error\"\n",
    "\n",
    "search_movie(\"Random_error\")"
   ]
  },
  {
   "cell_type": "code",
   "execution_count": null,
   "id": "57672064",
   "metadata": {},
   "outputs": [],
   "source": []
  },
  {
   "cell_type": "markdown",
   "id": "8a137a3a",
   "metadata": {},
   "source": [
    "###### API exc. 3\n"
   ]
  },
  {
   "cell_type": "code",
   "execution_count": 25,
   "id": "08531343",
   "metadata": {},
   "outputs": [],
   "source": [
    "# import libraries\n",
    "\n",
    "import requests"
   ]
  },
  {
   "cell_type": "code",
   "execution_count": 26,
   "id": "bff1156c",
   "metadata": {},
   "outputs": [
    {
     "name": "stdout",
     "output_type": "stream",
     "text": [
      "Weather in Cincinnati:\n",
      "Main: Clouds\n",
      "Description: broken clouds\n",
      "Temperature: 49.01 F\n",
      "Humidity: 56%\n"
     ]
    }
   ],
   "source": [
    "# Connect to an API of your choice and do a simple data pull\n",
    "\n",
    "api_key = '81abbd54a783fa7a406cecd44ea2b0fd'\n",
    "\n",
    "# city to get weather data for\n",
    "\n",
    "city = 'Cincinnati'\n",
    "\n",
    "# base url\n",
    "\n",
    "base_url = 'http://api.openweathermap.org/data/2.5/weather?'\n",
    "\n",
    "# url with city name and API key\n",
    "\n",
    "complete_url = base_url + 'q=' + city + '&appid=' + api_key+ '&units=imperial'\n",
    "\n",
    "# GET request to the API\n",
    "\n",
    "response = requests.get(complete_url)\n",
    "\n",
    "# parse JSON response\n",
    "\n",
    "weather_data = response.json()\n",
    "\n",
    "# if smt check if the request was successful\n",
    "\n",
    "if weather_data['cod'] == 200:\n",
    "    weather_main = weather_data['weather'][0]['main']\n",
    "    weather_description = weather_data['weather'][0]['description']\n",
    "    temperature_fahrenheit = weather_data['main']['temp']\n",
    "    humidity = weather_data['main']['humidity']\n",
    "    wind_speed = weather_data['wind']['speed']\n",
    "    print(f\"Weather in {city}:\")\n",
    "    print(f\"Main: {weather_main}\")\n",
    "    print(f\"Description: {weather_description}\")\n",
    "    print(f\"Temperature: {temperature_fahrenheit} F\")\n",
    "    print(f\"Humidity: {humidity}%\")\n",
    "    \n",
    "else:\n",
    "    print(\"City not found. Please check the city name.\")\n"
   ]
  },
  {
   "cell_type": "code",
   "execution_count": null,
   "id": "715515a5",
   "metadata": {},
   "outputs": [],
   "source": []
  },
  {
   "cell_type": "markdown",
   "id": "5da56e62",
   "metadata": {},
   "source": [
    "###### Exc. 4"
   ]
  },
  {
   "cell_type": "code",
   "execution_count": 27,
   "id": "ee3a90a8",
   "metadata": {},
   "outputs": [],
   "source": [
    "# import libraries\n",
    "\n",
    "\n",
    "import matplotlib.pyplot as plt\n",
    "import pandas as pd\n",
    "import numpy as np"
   ]
  },
  {
   "cell_type": "code",
   "execution_count": 28,
   "id": "2d5998e3",
   "metadata": {},
   "outputs": [
    {
     "name": "stderr",
     "output_type": "stream",
     "text": [
      "/Applications/anaconda3/lib/python3.11/site-packages/openpyxl/worksheet/_read_only.py:79: UserWarning: Unknown extension is not supported and will be removed\n",
      "  for idx, row in parser.parse():\n"
     ]
    }
   ],
   "source": [
    "# load the data from the Excel file\n",
    "\n",
    "file_path = \"bb_game_sales.xlsx\"\n",
    "bb_df = pd.read_excel(file_path)"
   ]
  },
  {
   "cell_type": "code",
   "execution_count": 29,
   "id": "8a3c16db",
   "metadata": {},
   "outputs": [
    {
     "data": {
      "text/html": [
       "<div>\n",
       "<style scoped>\n",
       "    .dataframe tbody tr th:only-of-type {\n",
       "        vertical-align: middle;\n",
       "    }\n",
       "\n",
       "    .dataframe tbody tr th {\n",
       "        vertical-align: top;\n",
       "    }\n",
       "\n",
       "    .dataframe thead th {\n",
       "        text-align: right;\n",
       "    }\n",
       "</style>\n",
       "<table border=\"1\" class=\"dataframe\">\n",
       "  <thead>\n",
       "    <tr style=\"text-align: right;\">\n",
       "      <th></th>\n",
       "      <th>Date</th>\n",
       "      <th>Item</th>\n",
       "      <th>Category</th>\n",
       "      <th>Price</th>\n",
       "      <th>Profit</th>\n",
       "      <th>Actual Profit</th>\n",
       "    </tr>\n",
       "  </thead>\n",
       "  <tbody>\n",
       "    <tr>\n",
       "      <th>0</th>\n",
       "      <td>2019-01-01</td>\n",
       "      <td>Beer</td>\n",
       "      <td>Beverages</td>\n",
       "      <td>4.0</td>\n",
       "      <td>0.500000</td>\n",
       "      <td>2.0</td>\n",
       "    </tr>\n",
       "    <tr>\n",
       "      <th>1</th>\n",
       "      <td>2019-01-01</td>\n",
       "      <td>Hamburger</td>\n",
       "      <td>Hot Food</td>\n",
       "      <td>3.0</td>\n",
       "      <td>0.666667</td>\n",
       "      <td>2.0</td>\n",
       "    </tr>\n",
       "    <tr>\n",
       "      <th>2</th>\n",
       "      <td>2019-01-01</td>\n",
       "      <td>Popcorn</td>\n",
       "      <td>Hot Food</td>\n",
       "      <td>5.0</td>\n",
       "      <td>0.800000</td>\n",
       "      <td>4.0</td>\n",
       "    </tr>\n",
       "    <tr>\n",
       "      <th>3</th>\n",
       "      <td>2019-01-01</td>\n",
       "      <td>Pizza</td>\n",
       "      <td>Hot Food</td>\n",
       "      <td>2.0</td>\n",
       "      <td>0.250000</td>\n",
       "      <td>0.5</td>\n",
       "    </tr>\n",
       "    <tr>\n",
       "      <th>4</th>\n",
       "      <td>2019-01-01</td>\n",
       "      <td>Bottled Water</td>\n",
       "      <td>Beverages</td>\n",
       "      <td>3.0</td>\n",
       "      <td>0.833333</td>\n",
       "      <td>2.5</td>\n",
       "    </tr>\n",
       "  </tbody>\n",
       "</table>\n",
       "</div>"
      ],
      "text/plain": [
       "        Date           Item   Category  Price    Profit  Actual Profit\n",
       "0 2019-01-01           Beer  Beverages    4.0  0.500000            2.0\n",
       "1 2019-01-01      Hamburger   Hot Food    3.0  0.666667            2.0\n",
       "2 2019-01-01        Popcorn   Hot Food    5.0  0.800000            4.0\n",
       "3 2019-01-01          Pizza   Hot Food    2.0  0.250000            0.5\n",
       "4 2019-01-01  Bottled Water  Beverages    3.0  0.833333            2.5"
      ]
     },
     "execution_count": 29,
     "metadata": {},
     "output_type": "execute_result"
    }
   ],
   "source": [
    "# head the new df\n",
    "\n",
    "bb_df.head()"
   ]
  },
  {
   "cell_type": "code",
   "execution_count": 30,
   "id": "bf5f72da",
   "metadata": {},
   "outputs": [],
   "source": [
    "# count of categories by date\n",
    "\n",
    "category_count_by_date = bb_df.groupby(['Date', 'Category']).size().reset_index(name='Category_Count')"
   ]
  },
  {
   "cell_type": "code",
   "execution_count": 31,
   "id": "e7f06dc9",
   "metadata": {},
   "outputs": [],
   "source": [
    "# merge the count with the original DataFrame\n",
    "\n",
    "bb_df = pd.merge(bb_df, category_count_by_date, on=['Date', 'Category'], how='left')"
   ]
  },
  {
   "cell_type": "code",
   "execution_count": 32,
   "id": "96e7f2f7",
   "metadata": {},
   "outputs": [
    {
     "data": {
      "text/html": [
       "<div>\n",
       "<style scoped>\n",
       "    .dataframe tbody tr th:only-of-type {\n",
       "        vertical-align: middle;\n",
       "    }\n",
       "\n",
       "    .dataframe tbody tr th {\n",
       "        vertical-align: top;\n",
       "    }\n",
       "\n",
       "    .dataframe thead th {\n",
       "        text-align: right;\n",
       "    }\n",
       "</style>\n",
       "<table border=\"1\" class=\"dataframe\">\n",
       "  <thead>\n",
       "    <tr style=\"text-align: right;\">\n",
       "      <th></th>\n",
       "      <th>Date</th>\n",
       "      <th>Item</th>\n",
       "      <th>Category</th>\n",
       "      <th>Price</th>\n",
       "      <th>Profit</th>\n",
       "      <th>Actual Profit</th>\n",
       "      <th>Category_Count</th>\n",
       "    </tr>\n",
       "  </thead>\n",
       "  <tbody>\n",
       "    <tr>\n",
       "      <th>0</th>\n",
       "      <td>2019-01-01</td>\n",
       "      <td>Beer</td>\n",
       "      <td>Beverages</td>\n",
       "      <td>4.0</td>\n",
       "      <td>0.500000</td>\n",
       "      <td>2.0</td>\n",
       "      <td>3</td>\n",
       "    </tr>\n",
       "    <tr>\n",
       "      <th>1</th>\n",
       "      <td>2019-01-01</td>\n",
       "      <td>Hamburger</td>\n",
       "      <td>Hot Food</td>\n",
       "      <td>3.0</td>\n",
       "      <td>0.666667</td>\n",
       "      <td>2.0</td>\n",
       "      <td>5</td>\n",
       "    </tr>\n",
       "    <tr>\n",
       "      <th>2</th>\n",
       "      <td>2019-01-01</td>\n",
       "      <td>Popcorn</td>\n",
       "      <td>Hot Food</td>\n",
       "      <td>5.0</td>\n",
       "      <td>0.800000</td>\n",
       "      <td>4.0</td>\n",
       "      <td>5</td>\n",
       "    </tr>\n",
       "    <tr>\n",
       "      <th>3</th>\n",
       "      <td>2019-01-01</td>\n",
       "      <td>Pizza</td>\n",
       "      <td>Hot Food</td>\n",
       "      <td>2.0</td>\n",
       "      <td>0.250000</td>\n",
       "      <td>0.5</td>\n",
       "      <td>5</td>\n",
       "    </tr>\n",
       "    <tr>\n",
       "      <th>4</th>\n",
       "      <td>2019-01-01</td>\n",
       "      <td>Bottled Water</td>\n",
       "      <td>Beverages</td>\n",
       "      <td>3.0</td>\n",
       "      <td>0.833333</td>\n",
       "      <td>2.5</td>\n",
       "      <td>3</td>\n",
       "    </tr>\n",
       "  </tbody>\n",
       "</table>\n",
       "</div>"
      ],
      "text/plain": [
       "        Date           Item   Category  Price    Profit  Actual Profit  \\\n",
       "0 2019-01-01           Beer  Beverages    4.0  0.500000            2.0   \n",
       "1 2019-01-01      Hamburger   Hot Food    3.0  0.666667            2.0   \n",
       "2 2019-01-01        Popcorn   Hot Food    5.0  0.800000            4.0   \n",
       "3 2019-01-01          Pizza   Hot Food    2.0  0.250000            0.5   \n",
       "4 2019-01-01  Bottled Water  Beverages    3.0  0.833333            2.5   \n",
       "\n",
       "   Category_Count  \n",
       "0               3  \n",
       "1               5  \n",
       "2               5  \n",
       "3               5  \n",
       "4               3  "
      ]
     },
     "execution_count": 32,
     "metadata": {},
     "output_type": "execute_result"
    }
   ],
   "source": [
    "bb_df.head()"
   ]
  },
  {
   "cell_type": "code",
   "execution_count": 33,
   "id": "712175d6",
   "metadata": {},
   "outputs": [
    {
     "data": {
      "image/png": "[encoded data removed]",
      "text/plain": [
       "<Figure size 800x800 with 1 Axes>"
      ]
     },
     "metadata": {},
     "output_type": "display_data"
    }
   ],
   "source": [
    "# pie chart\n",
    "\n",
    "# group by Category and calculate the total profit for each category\n",
    "\n",
    "total_profit_by_category = bb_df.groupby('Category')['Profit'].sum()\n",
    "\n",
    "\n",
    "plt.figure(figsize=(8, 8))\n",
    "plt.pie(total_profit_by_category, labels=total_profit_by_category.index, autopct='%1.1f%%', startangle=140)\n",
    "plt.title('Percentage of Profit by Category')\n",
    "plt.show()"
   ]
  },
  {
   "cell_type": "code",
   "execution_count": 59,
   "id": "595050c9",
   "metadata": {},
   "outputs": [
    {
     "data": {
      "image/png": "[encoded data removed]",
      "text/plain": [
       "<Figure size 1400x800 with 1 Axes>"
      ]
     },
     "metadata": {},
     "output_type": "display_data"
    }
   ],
   "source": [
    "# histogram\n",
    "\n",
    "import seaborn as sns\n",
    "\n",
    "\n",
    "# group data by 'category' and 'date' and count the number of sales\n",
    "\n",
    "category_sales_by_date = bb_df.groupby(['Category', 'Date']).size().reset_index(name='Sales')\n",
    "\n",
    "plt.figure(figsize=(14, 8))\n",
    "\n",
    "\n",
    "sns.scatterplot(data=category_sales_by_date, x='Date', y='Sales', hue='Category', s=100)\n",
    "\n",
    "plt.title('Scatter Plot of Category Sales by Date')\n",
    "plt.xlabel('Date')\n",
    "plt.ylabel('Number of Sales')\n",
    "plt.legend(bbox_to_anchor=(1.05, 1), loc='upper left', borderaxespad=0.)\n",
    "plt.tight_layout()\n",
    "plt.show()"
   ]
  },
  {
   "cell_type": "code",
   "execution_count": 35,
   "id": "fdb323bc",
   "metadata": {},
   "outputs": [
    {
     "data": {
      "image/png": "[encoded data removed]",
      "text/plain": [
       "<Figure size 1200x600 with 1 Axes>"
      ]
     },
     "metadata": {},
     "output_type": "display_data"
    }
   ],
   "source": [
    "# Line Chart\n",
    "\n",
    "# group by Date and Category\n",
    "\n",
    "profit_by_date_category = bb_df.groupby(['Date', 'Category'])['Profit'].sum().reset_index()\n",
    "\n",
    "\n",
    "plt.figure(figsize=(12, 6))\n",
    "\n",
    "# iterate over unique categories and plot a line for each\n",
    "\n",
    "for category in profit_by_date_category['Category'].unique():\n",
    "    category_data = profit_by_date_category[profit_by_date_category['Category'] == category]\n",
    "    plt.plot(category_data['Date'], category_data['Profit'], label=category)\n",
    "\n",
    "plt.title('Profit by Date and Category')\n",
    "plt.xlabel('Date')\n",
    "plt.ylabel('Profit')\n",
    "plt.legend()\n",
    "plt.grid(True)\n",
    "plt.show()"
   ]
  },
  {
   "cell_type": "code",
   "execution_count": null,
   "id": "b7cd921a",
   "metadata": {},
   "outputs": [],
   "source": []
  }
 ],
 "metadata": {
  "kernelspec": {
   "display_name": "Python 3 (ipykernel)",
   "language": "python",
   "name": "python3"
  },
  "language_info": {
   "codemirror_mode": {
    "name": "ipython",
    "version": 3
   },
   "file_extension": ".py",
   "mimetype": "text/x-python",
   "name": "python",
   "nbconvert_exporter": "python",
   "pygments_lexer": "ipython3",
   "version": "3.11.5"
  }
 },
 "nbformat": 4,
 "nbformat_minor": 5
}
