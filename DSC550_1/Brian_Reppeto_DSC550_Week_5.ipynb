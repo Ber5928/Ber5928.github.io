{
 "cells": [
  {
   "cell_type": "markdown",
   "id": "863e687a",
   "metadata": {},
   "source": [
    "### DSC 550 Week  : \n",
    "#### Activity 5.2 \n",
    "#### Author: Brian Reppeto 4/9/2024"
   ]
  },
  {
   "cell_type": "code",
   "execution_count": 1,
   "id": "3e58c870",
   "metadata": {},
   "outputs": [],
   "source": [
    "# import libraries\n",
    "\n",
    "import pandas as pd\n",
    "from textblob import TextBlob\n",
    "import re\n",
    "import nltk\n",
    "from nltk.corpus import stopwords\n",
    "from nltk.tokenize import word_tokenize\n",
    "from nltk.stem import PorterStemmer\n",
    "from sklearn.feature_extraction.text import CountVectorizer\n",
    "from sklearn.feature_extraction.text import TfidfVectorizer\n",
    "from sklearn.model_selection import train_test_split\n",
    "from sklearn.metrics import accuracy_score\n",
    "from sklearn.linear_model import LogisticRegression\n",
    "from sklearn.metrics import confusion_matrix\n",
    "import matplotlib.pyplot as plt\n",
    "import seaborn as sns\n",
    "from sklearn.metrics import precision_recall_fscore_support\n",
    "from sklearn.metrics import roc_curve, auc"
   ]
  },
  {
   "cell_type": "code",
   "execution_count": 2,
   "id": "b8272e21",
   "metadata": {},
   "outputs": [],
   "source": [
    "# import movie file\n",
    "\n",
    "data_path='labeledTrainData.tsv'\n",
    "movie_df=pd.read_csv(data_path, delimiter='\\t')"
   ]
  },
  {
   "cell_type": "code",
   "execution_count": 3,
   "id": "29b522f7",
   "metadata": {},
   "outputs": [
    {
     "data": {
      "text/html": [
       "<div>\n",
       "<style scoped>\n",
       "    .dataframe tbody tr th:only-of-type {\n",
       "        vertical-align: middle;\n",
       "    }\n",
       "\n",
       "    .dataframe tbody tr th {\n",
       "        vertical-align: top;\n",
       "    }\n",
       "\n",
       "    .dataframe thead th {\n",
       "        text-align: right;\n",
       "    }\n",
       "</style>\n",
       "<table border=\"1\" class=\"dataframe\">\n",
       "  <thead>\n",
       "    <tr style=\"text-align: right;\">\n",
       "      <th></th>\n",
       "      <th>id</th>\n",
       "      <th>sentiment</th>\n",
       "      <th>review</th>\n",
       "    </tr>\n",
       "  </thead>\n",
       "  <tbody>\n",
       "    <tr>\n",
       "      <th>0</th>\n",
       "      <td>5814_8</td>\n",
       "      <td>1</td>\n",
       "      <td>With all this stuff going down at the moment w...</td>\n",
       "    </tr>\n",
       "    <tr>\n",
       "      <th>1</th>\n",
       "      <td>2381_9</td>\n",
       "      <td>1</td>\n",
       "      <td>\\The Classic War of the Worlds\\\" by Timothy Hi...</td>\n",
       "    </tr>\n",
       "    <tr>\n",
       "      <th>2</th>\n",
       "      <td>7759_3</td>\n",
       "      <td>0</td>\n",
       "      <td>The film starts with a manager (Nicholas Bell)...</td>\n",
       "    </tr>\n",
       "    <tr>\n",
       "      <th>3</th>\n",
       "      <td>3630_4</td>\n",
       "      <td>0</td>\n",
       "      <td>It must be assumed that those who praised this...</td>\n",
       "    </tr>\n",
       "    <tr>\n",
       "      <th>4</th>\n",
       "      <td>9495_8</td>\n",
       "      <td>1</td>\n",
       "      <td>Superbly trashy and wondrously unpretentious 8...</td>\n",
       "    </tr>\n",
       "  </tbody>\n",
       "</table>\n",
       "</div>"
      ],
      "text/plain": [
       "       id  sentiment                                             review\n",
       "0  5814_8          1  With all this stuff going down at the moment w...\n",
       "1  2381_9          1  \\The Classic War of the Worlds\\\" by Timothy Hi...\n",
       "2  7759_3          0  The film starts with a manager (Nicholas Bell)...\n",
       "3  3630_4          0  It must be assumed that those who praised this...\n",
       "4  9495_8          1  Superbly trashy and wondrously unpretentious 8..."
      ]
     },
     "execution_count": 3,
     "metadata": {},
     "output_type": "execute_result"
    }
   ],
   "source": [
    "# head new df\n",
    "\n",
    "movie_df.head()"
   ]
  },
  {
   "cell_type": "code",
   "execution_count": 4,
   "id": "e8195fdc",
   "metadata": {},
   "outputs": [],
   "source": [
    "# create function to classify sentiment\n",
    "\n",
    "def classify_review(review):\n",
    "    blob=TextBlob(review)\n",
    "    return 'positive' if blob.sentiment.polarity >= 0 else 'negative'"
   ]
  },
  {
   "cell_type": "code",
   "execution_count": 5,
   "id": "d40f0036",
   "metadata": {},
   "outputs": [],
   "source": [
    "# apply function to each review\n",
    "\n",
    "movie_df['predicted_sentiment']=movie_df['review'].apply(classify_review)"
   ]
  },
  {
   "cell_type": "code",
   "execution_count": 6,
   "id": "acf164c5",
   "metadata": {},
   "outputs": [],
   "source": [
    "# create function to change the calc sent to number\n",
    "\n",
    "def classify_review(review):\n",
    "    blob=TextBlob(review)\n",
    "    return 1 if blob.sentiment.polarity >= 0 else 0\n"
   ]
  },
  {
   "cell_type": "code",
   "execution_count": 7,
   "id": "e21bca2f",
   "metadata": {},
   "outputs": [],
   "source": [
    "# apply function to each review\n",
    "\n",
    "movie_df['predicted_sentiment_num']=movie_df['review'].apply(classify_review)"
   ]
  },
  {
   "cell_type": "code",
   "execution_count": 8,
   "id": "9a0d0f0e",
   "metadata": {},
   "outputs": [
    {
     "data": {
      "text/html": [
       "<div>\n",
       "<style scoped>\n",
       "    .dataframe tbody tr th:only-of-type {\n",
       "        vertical-align: middle;\n",
       "    }\n",
       "\n",
       "    .dataframe tbody tr th {\n",
       "        vertical-align: top;\n",
       "    }\n",
       "\n",
       "    .dataframe thead th {\n",
       "        text-align: right;\n",
       "    }\n",
       "</style>\n",
       "<table border=\"1\" class=\"dataframe\">\n",
       "  <thead>\n",
       "    <tr style=\"text-align: right;\">\n",
       "      <th></th>\n",
       "      <th>id</th>\n",
       "      <th>sentiment</th>\n",
       "      <th>review</th>\n",
       "      <th>predicted_sentiment</th>\n",
       "      <th>predicted_sentiment_num</th>\n",
       "    </tr>\n",
       "  </thead>\n",
       "  <tbody>\n",
       "    <tr>\n",
       "      <th>0</th>\n",
       "      <td>5814_8</td>\n",
       "      <td>1</td>\n",
       "      <td>With all this stuff going down at the moment w...</td>\n",
       "      <td>positive</td>\n",
       "      <td>1</td>\n",
       "    </tr>\n",
       "    <tr>\n",
       "      <th>1</th>\n",
       "      <td>2381_9</td>\n",
       "      <td>1</td>\n",
       "      <td>\\The Classic War of the Worlds\\\" by Timothy Hi...</td>\n",
       "      <td>positive</td>\n",
       "      <td>1</td>\n",
       "    </tr>\n",
       "    <tr>\n",
       "      <th>2</th>\n",
       "      <td>7759_3</td>\n",
       "      <td>0</td>\n",
       "      <td>The film starts with a manager (Nicholas Bell)...</td>\n",
       "      <td>negative</td>\n",
       "      <td>0</td>\n",
       "    </tr>\n",
       "    <tr>\n",
       "      <th>3</th>\n",
       "      <td>3630_4</td>\n",
       "      <td>0</td>\n",
       "      <td>It must be assumed that those who praised this...</td>\n",
       "      <td>positive</td>\n",
       "      <td>1</td>\n",
       "    </tr>\n",
       "    <tr>\n",
       "      <th>4</th>\n",
       "      <td>9495_8</td>\n",
       "      <td>1</td>\n",
       "      <td>Superbly trashy and wondrously unpretentious 8...</td>\n",
       "      <td>negative</td>\n",
       "      <td>0</td>\n",
       "    </tr>\n",
       "  </tbody>\n",
       "</table>\n",
       "</div>"
      ],
      "text/plain": [
       "       id  sentiment                                             review  \\\n",
       "0  5814_8          1  With all this stuff going down at the moment w...   \n",
       "1  2381_9          1  \\The Classic War of the Worlds\\\" by Timothy Hi...   \n",
       "2  7759_3          0  The film starts with a manager (Nicholas Bell)...   \n",
       "3  3630_4          0  It must be assumed that those who praised this...   \n",
       "4  9495_8          1  Superbly trashy and wondrously unpretentious 8...   \n",
       "\n",
       "  predicted_sentiment  predicted_sentiment_num  \n",
       "0            positive                        1  \n",
       "1            positive                        1  \n",
       "2            negative                        0  \n",
       "3            positive                        1  \n",
       "4            negative                        0  "
      ]
     },
     "execution_count": 8,
     "metadata": {},
     "output_type": "execute_result"
    }
   ],
   "source": [
    "# head df\n",
    "\n",
    "movie_df.head()"
   ]
  },
  {
   "cell_type": "code",
   "execution_count": 9,
   "id": "6f26ec5a",
   "metadata": {},
   "outputs": [],
   "source": [
    "# convert text to lowercase\n",
    "\n",
    "movie_df['review']=movie_df['review'].str.lower()"
   ]
  },
  {
   "cell_type": "code",
   "execution_count": 10,
   "id": "b051b10a",
   "metadata": {},
   "outputs": [
    {
     "data": {
      "text/plain": [
       "0     with all this stuff going down at the moment w...\n",
       "1     \\the classic war of the worlds\\\" by timothy hi...\n",
       "2     the film starts with a manager (nicholas bell)...\n",
       "3     it must be assumed that those who praised this...\n",
       "4     superbly trashy and wondrously unpretentious 8...\n",
       "5     i dont know why people think this is such a ba...\n",
       "6     this movie could have been very good, but come...\n",
       "7     i watched this video at a friend's house. i'm ...\n",
       "8     a friend of mine bought this film for £1, and ...\n",
       "9     <br /><br />this movie is full of references. ...\n",
       "10    what happens when an army of wetbacks, towelhe...\n",
       "11    although i generally do not like remakes belie...\n",
       "12    \\mr. harvey lights a candle\\\" is anchored by a...\n",
       "13    i had a feeling that after \\submerged\\\", this ...\n",
       "14    note to george litman, and others: the mystery...\n",
       "Name: review, dtype: object"
      ]
     },
     "execution_count": 10,
     "metadata": {},
     "output_type": "execute_result"
    }
   ],
   "source": [
    "# head column\n",
    "\n",
    "movie_df['review'].head(15)"
   ]
  },
  {
   "cell_type": "code",
   "execution_count": 11,
   "id": "118d95f1",
   "metadata": {},
   "outputs": [],
   "source": [
    "# Remove punctuation and special characters\n",
    "\n",
    "movie_df['review']=movie_df['review'].apply(lambda x: re.sub(r'[^\\w\\s]', '', x) if pd.notnull(x) else x)"
   ]
  },
  {
   "cell_type": "code",
   "execution_count": 12,
   "id": "92807f4b",
   "metadata": {},
   "outputs": [
    {
     "data": {
      "text/html": [
       "<div>\n",
       "<style scoped>\n",
       "    .dataframe tbody tr th:only-of-type {\n",
       "        vertical-align: middle;\n",
       "    }\n",
       "\n",
       "    .dataframe tbody tr th {\n",
       "        vertical-align: top;\n",
       "    }\n",
       "\n",
       "    .dataframe thead th {\n",
       "        text-align: right;\n",
       "    }\n",
       "</style>\n",
       "<table border=\"1\" class=\"dataframe\">\n",
       "  <thead>\n",
       "    <tr style=\"text-align: right;\">\n",
       "      <th></th>\n",
       "      <th>id</th>\n",
       "      <th>sentiment</th>\n",
       "      <th>review</th>\n",
       "      <th>predicted_sentiment</th>\n",
       "      <th>predicted_sentiment_num</th>\n",
       "    </tr>\n",
       "  </thead>\n",
       "  <tbody>\n",
       "    <tr>\n",
       "      <th>0</th>\n",
       "      <td>5814_8</td>\n",
       "      <td>1</td>\n",
       "      <td>with all this stuff going down at the moment w...</td>\n",
       "      <td>positive</td>\n",
       "      <td>1</td>\n",
       "    </tr>\n",
       "    <tr>\n",
       "      <th>1</th>\n",
       "      <td>2381_9</td>\n",
       "      <td>1</td>\n",
       "      <td>the classic war of the worlds by timothy hines...</td>\n",
       "      <td>positive</td>\n",
       "      <td>1</td>\n",
       "    </tr>\n",
       "    <tr>\n",
       "      <th>2</th>\n",
       "      <td>7759_3</td>\n",
       "      <td>0</td>\n",
       "      <td>the film starts with a manager nicholas bell g...</td>\n",
       "      <td>negative</td>\n",
       "      <td>0</td>\n",
       "    </tr>\n",
       "    <tr>\n",
       "      <th>3</th>\n",
       "      <td>3630_4</td>\n",
       "      <td>0</td>\n",
       "      <td>it must be assumed that those who praised this...</td>\n",
       "      <td>positive</td>\n",
       "      <td>1</td>\n",
       "    </tr>\n",
       "    <tr>\n",
       "      <th>4</th>\n",
       "      <td>9495_8</td>\n",
       "      <td>1</td>\n",
       "      <td>superbly trashy and wondrously unpretentious 8...</td>\n",
       "      <td>negative</td>\n",
       "      <td>0</td>\n",
       "    </tr>\n",
       "    <tr>\n",
       "      <th>5</th>\n",
       "      <td>8196_8</td>\n",
       "      <td>1</td>\n",
       "      <td>i dont know why people think this is such a ba...</td>\n",
       "      <td>positive</td>\n",
       "      <td>1</td>\n",
       "    </tr>\n",
       "    <tr>\n",
       "      <th>6</th>\n",
       "      <td>7166_2</td>\n",
       "      <td>0</td>\n",
       "      <td>this movie could have been very good but comes...</td>\n",
       "      <td>negative</td>\n",
       "      <td>0</td>\n",
       "    </tr>\n",
       "    <tr>\n",
       "      <th>7</th>\n",
       "      <td>10633_1</td>\n",
       "      <td>0</td>\n",
       "      <td>i watched this video at a friends house im gla...</td>\n",
       "      <td>positive</td>\n",
       "      <td>1</td>\n",
       "    </tr>\n",
       "    <tr>\n",
       "      <th>8</th>\n",
       "      <td>319_1</td>\n",
       "      <td>0</td>\n",
       "      <td>a friend of mine bought this film for 1 and ev...</td>\n",
       "      <td>positive</td>\n",
       "      <td>1</td>\n",
       "    </tr>\n",
       "    <tr>\n",
       "      <th>9</th>\n",
       "      <td>8713_10</td>\n",
       "      <td>1</td>\n",
       "      <td>br br this movie is full of references like ma...</td>\n",
       "      <td>positive</td>\n",
       "      <td>1</td>\n",
       "    </tr>\n",
       "    <tr>\n",
       "      <th>10</th>\n",
       "      <td>2486_3</td>\n",
       "      <td>0</td>\n",
       "      <td>what happens when an army of wetbacks towelhea...</td>\n",
       "      <td>negative</td>\n",
       "      <td>0</td>\n",
       "    </tr>\n",
       "    <tr>\n",
       "      <th>11</th>\n",
       "      <td>6811_10</td>\n",
       "      <td>1</td>\n",
       "      <td>although i generally do not like remakes belie...</td>\n",
       "      <td>positive</td>\n",
       "      <td>1</td>\n",
       "    </tr>\n",
       "    <tr>\n",
       "      <th>12</th>\n",
       "      <td>11744_9</td>\n",
       "      <td>1</td>\n",
       "      <td>mr harvey lights a candle is anchored by a bri...</td>\n",
       "      <td>positive</td>\n",
       "      <td>1</td>\n",
       "    </tr>\n",
       "    <tr>\n",
       "      <th>13</th>\n",
       "      <td>7369_1</td>\n",
       "      <td>0</td>\n",
       "      <td>i had a feeling that after submerged this one ...</td>\n",
       "      <td>positive</td>\n",
       "      <td>1</td>\n",
       "    </tr>\n",
       "    <tr>\n",
       "      <th>14</th>\n",
       "      <td>12081_1</td>\n",
       "      <td>0</td>\n",
       "      <td>note to george litman and others the mystery s...</td>\n",
       "      <td>positive</td>\n",
       "      <td>1</td>\n",
       "    </tr>\n",
       "  </tbody>\n",
       "</table>\n",
       "</div>"
      ],
      "text/plain": [
       "         id  sentiment                                             review  \\\n",
       "0    5814_8          1  with all this stuff going down at the moment w...   \n",
       "1    2381_9          1  the classic war of the worlds by timothy hines...   \n",
       "2    7759_3          0  the film starts with a manager nicholas bell g...   \n",
       "3    3630_4          0  it must be assumed that those who praised this...   \n",
       "4    9495_8          1  superbly trashy and wondrously unpretentious 8...   \n",
       "5    8196_8          1  i dont know why people think this is such a ba...   \n",
       "6    7166_2          0  this movie could have been very good but comes...   \n",
       "7   10633_1          0  i watched this video at a friends house im gla...   \n",
       "8     319_1          0  a friend of mine bought this film for 1 and ev...   \n",
       "9   8713_10          1  br br this movie is full of references like ma...   \n",
       "10   2486_3          0  what happens when an army of wetbacks towelhea...   \n",
       "11  6811_10          1  although i generally do not like remakes belie...   \n",
       "12  11744_9          1  mr harvey lights a candle is anchored by a bri...   \n",
       "13   7369_1          0  i had a feeling that after submerged this one ...   \n",
       "14  12081_1          0  note to george litman and others the mystery s...   \n",
       "\n",
       "   predicted_sentiment  predicted_sentiment_num  \n",
       "0             positive                        1  \n",
       "1             positive                        1  \n",
       "2             negative                        0  \n",
       "3             positive                        1  \n",
       "4             negative                        0  \n",
       "5             positive                        1  \n",
       "6             negative                        0  \n",
       "7             positive                        1  \n",
       "8             positive                        1  \n",
       "9             positive                        1  \n",
       "10            negative                        0  \n",
       "11            positive                        1  \n",
       "12            positive                        1  \n",
       "13            positive                        1  \n",
       "14            positive                        1  "
      ]
     },
     "execution_count": 12,
     "metadata": {},
     "output_type": "execute_result"
    }
   ],
   "source": [
    "# head df\n",
    "\n",
    "movie_df.head(15)"
   ]
  },
  {
   "cell_type": "code",
   "execution_count": 13,
   "id": "22e97123",
   "metadata": {},
   "outputs": [
    {
     "name": "stderr",
     "output_type": "stream",
     "text": [
      "[nltk_data] Downloading package punkt to\n",
      "[nltk_data]     /Users/brianreppeto/nltk_data...\n",
      "[nltk_data]   Package punkt is already up-to-date!\n",
      "[nltk_data] Downloading package stopwords to\n",
      "[nltk_data]     /Users/brianreppeto/nltk_data...\n",
      "[nltk_data]   Package stopwords is already up-to-date!\n"
     ]
    },
    {
     "data": {
      "text/plain": [
       "True"
      ]
     },
     "execution_count": 13,
     "metadata": {},
     "output_type": "execute_result"
    }
   ],
   "source": [
    "# Remove stop words\n",
    "\n",
    "# download stop words\n",
    "\n",
    "nltk.download('punkt')\n",
    "nltk.download('stopwords')"
   ]
  },
  {
   "cell_type": "code",
   "execution_count": 14,
   "id": "962916bc",
   "metadata": {},
   "outputs": [],
   "source": [
    "# load stop words\n",
    "\n",
    "stop_words = set(stopwords.words('english'))"
   ]
  },
  {
   "cell_type": "code",
   "execution_count": 15,
   "id": "70189251",
   "metadata": {},
   "outputs": [],
   "source": [
    "# function to remove stopwords\n",
    "\n",
    "def remove_stopwords(text):\n",
    "    if pd.notnull(text):\n",
    "        # Tokenize the text string\n",
    "        word_tokens = word_tokenize(text)\n",
    "        # Remove stop words\n",
    "        filtered_sentence = [word for word in word_tokens if word.lower() not in stop_words]\n",
    "        # Rejoin words\n",
    "        return ' '.join(filtered_sentence)\n",
    "    return text\n",
    "\n",
    "# apply function to remove stop words from the column\n",
    "\n",
    "movie_df['review'] = movie_df['review'].apply(remove_stopwords)"
   ]
  },
  {
   "cell_type": "code",
   "execution_count": 16,
   "id": "31c0278f",
   "metadata": {},
   "outputs": [
    {
     "data": {
      "text/html": [
       "<div>\n",
       "<style scoped>\n",
       "    .dataframe tbody tr th:only-of-type {\n",
       "        vertical-align: middle;\n",
       "    }\n",
       "\n",
       "    .dataframe tbody tr th {\n",
       "        vertical-align: top;\n",
       "    }\n",
       "\n",
       "    .dataframe thead th {\n",
       "        text-align: right;\n",
       "    }\n",
       "</style>\n",
       "<table border=\"1\" class=\"dataframe\">\n",
       "  <thead>\n",
       "    <tr style=\"text-align: right;\">\n",
       "      <th></th>\n",
       "      <th>id</th>\n",
       "      <th>sentiment</th>\n",
       "      <th>review</th>\n",
       "      <th>predicted_sentiment</th>\n",
       "      <th>predicted_sentiment_num</th>\n",
       "    </tr>\n",
       "  </thead>\n",
       "  <tbody>\n",
       "    <tr>\n",
       "      <th>0</th>\n",
       "      <td>5814_8</td>\n",
       "      <td>1</td>\n",
       "      <td>stuff going moment mj ive started listening mu...</td>\n",
       "      <td>positive</td>\n",
       "      <td>1</td>\n",
       "    </tr>\n",
       "    <tr>\n",
       "      <th>1</th>\n",
       "      <td>2381_9</td>\n",
       "      <td>1</td>\n",
       "      <td>classic war worlds timothy hines entertaining ...</td>\n",
       "      <td>positive</td>\n",
       "      <td>1</td>\n",
       "    </tr>\n",
       "    <tr>\n",
       "      <th>2</th>\n",
       "      <td>7759_3</td>\n",
       "      <td>0</td>\n",
       "      <td>film starts manager nicholas bell giving welco...</td>\n",
       "      <td>negative</td>\n",
       "      <td>0</td>\n",
       "    </tr>\n",
       "    <tr>\n",
       "      <th>3</th>\n",
       "      <td>3630_4</td>\n",
       "      <td>0</td>\n",
       "      <td>must assumed praised film greatest filmed oper...</td>\n",
       "      <td>positive</td>\n",
       "      <td>1</td>\n",
       "    </tr>\n",
       "    <tr>\n",
       "      <th>4</th>\n",
       "      <td>9495_8</td>\n",
       "      <td>1</td>\n",
       "      <td>superbly trashy wondrously unpretentious 80s e...</td>\n",
       "      <td>negative</td>\n",
       "      <td>0</td>\n",
       "    </tr>\n",
       "  </tbody>\n",
       "</table>\n",
       "</div>"
      ],
      "text/plain": [
       "       id  sentiment                                             review  \\\n",
       "0  5814_8          1  stuff going moment mj ive started listening mu...   \n",
       "1  2381_9          1  classic war worlds timothy hines entertaining ...   \n",
       "2  7759_3          0  film starts manager nicholas bell giving welco...   \n",
       "3  3630_4          0  must assumed praised film greatest filmed oper...   \n",
       "4  9495_8          1  superbly trashy wondrously unpretentious 80s e...   \n",
       "\n",
       "  predicted_sentiment  predicted_sentiment_num  \n",
       "0            positive                        1  \n",
       "1            positive                        1  \n",
       "2            negative                        0  \n",
       "3            positive                        1  \n",
       "4            negative                        0  "
      ]
     },
     "execution_count": 16,
     "metadata": {},
     "output_type": "execute_result"
    }
   ],
   "source": [
    "# head df\n",
    "\n",
    "movie_df.head()"
   ]
  },
  {
   "cell_type": "code",
   "execution_count": 17,
   "id": "6c5ecf8f",
   "metadata": {},
   "outputs": [],
   "source": [
    "# apply NLTK porterstemmer\n",
    "\n",
    "# initialize the porterstemmer\n",
    "\n",
    "stemmer = PorterStemmer()"
   ]
  },
  {
   "cell_type": "code",
   "execution_count": 18,
   "id": "5bc23c85",
   "metadata": {},
   "outputs": [],
   "source": [
    "# function to stem words in the text\n",
    "\n",
    "def stem_text(text):\n",
    "    if pd.notnull(text):\n",
    "        \n",
    "        # tokenize the text string into words\n",
    "        \n",
    "        word_tokens = word_tokenize(text)\n",
    "        \n",
    "        # stem each word\n",
    "        \n",
    "        stemmed_words = [stemmer.stem(word) for word in word_tokens]\n",
    "        \n",
    "        # rejoin the stemmed words into a single string\n",
    "        \n",
    "        return ' '.join(stemmed_words)\n",
    "    return text\n",
    "\n",
    "\n",
    "movie_df['review'] = movie_df['review'].apply(stem_text)"
   ]
  },
  {
   "cell_type": "code",
   "execution_count": 19,
   "id": "a3fd7516",
   "metadata": {},
   "outputs": [
    {
     "data": {
      "text/html": [
       "<div>\n",
       "<style scoped>\n",
       "    .dataframe tbody tr th:only-of-type {\n",
       "        vertical-align: middle;\n",
       "    }\n",
       "\n",
       "    .dataframe tbody tr th {\n",
       "        vertical-align: top;\n",
       "    }\n",
       "\n",
       "    .dataframe thead th {\n",
       "        text-align: right;\n",
       "    }\n",
       "</style>\n",
       "<table border=\"1\" class=\"dataframe\">\n",
       "  <thead>\n",
       "    <tr style=\"text-align: right;\">\n",
       "      <th></th>\n",
       "      <th>id</th>\n",
       "      <th>sentiment</th>\n",
       "      <th>review</th>\n",
       "      <th>predicted_sentiment</th>\n",
       "      <th>predicted_sentiment_num</th>\n",
       "    </tr>\n",
       "  </thead>\n",
       "  <tbody>\n",
       "    <tr>\n",
       "      <th>0</th>\n",
       "      <td>5814_8</td>\n",
       "      <td>1</td>\n",
       "      <td>stuff go moment mj ive start listen music watc...</td>\n",
       "      <td>positive</td>\n",
       "      <td>1</td>\n",
       "    </tr>\n",
       "    <tr>\n",
       "      <th>1</th>\n",
       "      <td>2381_9</td>\n",
       "      <td>1</td>\n",
       "      <td>classic war world timothi hine entertain film ...</td>\n",
       "      <td>positive</td>\n",
       "      <td>1</td>\n",
       "    </tr>\n",
       "    <tr>\n",
       "      <th>2</th>\n",
       "      <td>7759_3</td>\n",
       "      <td>0</td>\n",
       "      <td>film start manag nichola bell give welcom inve...</td>\n",
       "      <td>negative</td>\n",
       "      <td>0</td>\n",
       "    </tr>\n",
       "    <tr>\n",
       "      <th>3</th>\n",
       "      <td>3630_4</td>\n",
       "      <td>0</td>\n",
       "      <td>must assum prais film greatest film opera ever...</td>\n",
       "      <td>positive</td>\n",
       "      <td>1</td>\n",
       "    </tr>\n",
       "    <tr>\n",
       "      <th>4</th>\n",
       "      <td>9495_8</td>\n",
       "      <td>1</td>\n",
       "      <td>superbl trashi wondrous unpretenti 80 exploit ...</td>\n",
       "      <td>negative</td>\n",
       "      <td>0</td>\n",
       "    </tr>\n",
       "    <tr>\n",
       "      <th>5</th>\n",
       "      <td>8196_8</td>\n",
       "      <td>1</td>\n",
       "      <td>dont know peopl think bad movi got pretti good...</td>\n",
       "      <td>positive</td>\n",
       "      <td>1</td>\n",
       "    </tr>\n",
       "    <tr>\n",
       "      <th>6</th>\n",
       "      <td>7166_2</td>\n",
       "      <td>0</td>\n",
       "      <td>movi could good come way short cheesi special ...</td>\n",
       "      <td>negative</td>\n",
       "      <td>0</td>\n",
       "    </tr>\n",
       "    <tr>\n",
       "      <th>7</th>\n",
       "      <td>10633_1</td>\n",
       "      <td>0</td>\n",
       "      <td>watch video friend hous im glad wast money buy...</td>\n",
       "      <td>positive</td>\n",
       "      <td>1</td>\n",
       "    </tr>\n",
       "    <tr>\n",
       "      <th>8</th>\n",
       "      <td>319_1</td>\n",
       "      <td>0</td>\n",
       "      <td>friend mine bought film 1 even grossli overpr ...</td>\n",
       "      <td>positive</td>\n",
       "      <td>1</td>\n",
       "    </tr>\n",
       "    <tr>\n",
       "      <th>9</th>\n",
       "      <td>8713_10</td>\n",
       "      <td>1</td>\n",
       "      <td>br br movi full refer like mad max ii wild one...</td>\n",
       "      <td>positive</td>\n",
       "      <td>1</td>\n",
       "    </tr>\n",
       "    <tr>\n",
       "      <th>10</th>\n",
       "      <td>2486_3</td>\n",
       "      <td>0</td>\n",
       "      <td>happen armi wetback towelhead godless eastern ...</td>\n",
       "      <td>negative</td>\n",
       "      <td>0</td>\n",
       "    </tr>\n",
       "    <tr>\n",
       "      <th>11</th>\n",
       "      <td>6811_10</td>\n",
       "      <td>1</td>\n",
       "      <td>although gener like remak believ remak wast ti...</td>\n",
       "      <td>positive</td>\n",
       "      <td>1</td>\n",
       "    </tr>\n",
       "    <tr>\n",
       "      <th>12</th>\n",
       "      <td>11744_9</td>\n",
       "      <td>1</td>\n",
       "      <td>mr harvey light candl anchor brilliant perform...</td>\n",
       "      <td>positive</td>\n",
       "      <td>1</td>\n",
       "    </tr>\n",
       "    <tr>\n",
       "      <th>13</th>\n",
       "      <td>7369_1</td>\n",
       "      <td>0</td>\n",
       "      <td>feel submerg one wouldnt better right must loo...</td>\n",
       "      <td>positive</td>\n",
       "      <td>1</td>\n",
       "    </tr>\n",
       "    <tr>\n",
       "      <th>14</th>\n",
       "      <td>12081_1</td>\n",
       "      <td>0</td>\n",
       "      <td>note georg litman other mysteri scienc theater...</td>\n",
       "      <td>positive</td>\n",
       "      <td>1</td>\n",
       "    </tr>\n",
       "  </tbody>\n",
       "</table>\n",
       "</div>"
      ],
      "text/plain": [
       "         id  sentiment                                             review  \\\n",
       "0    5814_8          1  stuff go moment mj ive start listen music watc...   \n",
       "1    2381_9          1  classic war world timothi hine entertain film ...   \n",
       "2    7759_3          0  film start manag nichola bell give welcom inve...   \n",
       "3    3630_4          0  must assum prais film greatest film opera ever...   \n",
       "4    9495_8          1  superbl trashi wondrous unpretenti 80 exploit ...   \n",
       "5    8196_8          1  dont know peopl think bad movi got pretti good...   \n",
       "6    7166_2          0  movi could good come way short cheesi special ...   \n",
       "7   10633_1          0  watch video friend hous im glad wast money buy...   \n",
       "8     319_1          0  friend mine bought film 1 even grossli overpr ...   \n",
       "9   8713_10          1  br br movi full refer like mad max ii wild one...   \n",
       "10   2486_3          0  happen armi wetback towelhead godless eastern ...   \n",
       "11  6811_10          1  although gener like remak believ remak wast ti...   \n",
       "12  11744_9          1  mr harvey light candl anchor brilliant perform...   \n",
       "13   7369_1          0  feel submerg one wouldnt better right must loo...   \n",
       "14  12081_1          0  note georg litman other mysteri scienc theater...   \n",
       "\n",
       "   predicted_sentiment  predicted_sentiment_num  \n",
       "0             positive                        1  \n",
       "1             positive                        1  \n",
       "2             negative                        0  \n",
       "3             positive                        1  \n",
       "4             negative                        0  \n",
       "5             positive                        1  \n",
       "6             negative                        0  \n",
       "7             positive                        1  \n",
       "8             positive                        1  \n",
       "9             positive                        1  \n",
       "10            negative                        0  \n",
       "11            positive                        1  \n",
       "12            positive                        1  \n",
       "13            positive                        1  \n",
       "14            positive                        1  "
      ]
     },
     "execution_count": 19,
     "metadata": {},
     "output_type": "execute_result"
    }
   ],
   "source": [
    "# head df\n",
    "\n",
    "movie_df.head(15)"
   ]
  },
  {
   "cell_type": "code",
   "execution_count": 20,
   "id": "55ea0fa5",
   "metadata": {},
   "outputs": [],
   "source": [
    "# Splitting the dataset into training and testing sets\n",
    "\n",
    "train_df, test_df = train_test_split(movie_df, test_size=0.2, random_state=42)"
   ]
  },
  {
   "cell_type": "code",
   "execution_count": 21,
   "id": "4327931b",
   "metadata": {},
   "outputs": [
    {
     "data": {
      "text/plain": [
       "((20000, 5), (5000, 5))"
      ]
     },
     "execution_count": 21,
     "metadata": {},
     "output_type": "execute_result"
    }
   ],
   "source": [
    "# shapes of the training and testing sets to verify the split\n",
    "\n",
    "train_df.shape, test_df.shape"
   ]
  },
  {
   "cell_type": "code",
   "execution_count": 22,
   "id": "b4f65c82",
   "metadata": {},
   "outputs": [
    {
     "data": {
      "text/plain": [
       "(20000, 80932)"
      ]
     },
     "execution_count": 22,
     "metadata": {},
     "output_type": "execute_result"
    }
   ],
   "source": [
    "# Initializing the TF-IDF Vectorizer\n",
    "tfidf_vectorizer = TfidfVectorizer()\n",
    "\n",
    "# Fit the vectorizer to the training data and transforming the 'review' column\n",
    "X_train_tfidf = tfidf_vectorizer.fit_transform(train_df['review'])\n",
    "\n",
    "# Check the shape\n",
    "X_train_tfidf.shape"
   ]
  },
  {
   "cell_type": "code",
   "execution_count": 23,
   "id": "430565f6",
   "metadata": {},
   "outputs": [
    {
     "data": {
      "text/plain": [
       "(5000, 80932)"
      ]
     },
     "execution_count": 23,
     "metadata": {},
     "output_type": "execute_result"
    }
   ],
   "source": [
    "# Apply the TF-IDF transformation to the test set \n",
    "X_test_tfidf = tfidf_vectorizer.transform(test_df['review'])\n",
    "\n",
    "# Check the shape \n",
    "X_test_tfidf.shape"
   ]
  },
  {
   "cell_type": "code",
   "execution_count": 24,
   "id": "71a1820a",
   "metadata": {},
   "outputs": [
    {
     "data": {
      "text/html": [
       "<style>#sk-container-id-1 {color: black;}#sk-container-id-1 pre{padding: 0;}#sk-container-id-1 div.sk-toggleable {background-color: white;}#sk-container-id-1 label.sk-toggleable__label {cursor: pointer;display: block;width: 100%;margin-bottom: 0;padding: 0.3em;box-sizing: border-box;text-align: center;}#sk-container-id-1 label.sk-toggleable__label-arrow:before {content: \"▸\";float: left;margin-right: 0.25em;color: #696969;}#sk-container-id-1 label.sk-toggleable__label-arrow:hover:before {color: black;}#sk-container-id-1 div.sk-estimator:hover label.sk-toggleable__label-arrow:before {color: black;}#sk-container-id-1 div.sk-toggleable__content {max-height: 0;max-width: 0;overflow: hidden;text-align: left;background-color: #f0f8ff;}#sk-container-id-1 div.sk-toggleable__content pre {margin: 0.2em;color: black;border-radius: 0.25em;background-color: #f0f8ff;}#sk-container-id-1 input.sk-toggleable__control:checked~div.sk-toggleable__content {max-height: 200px;max-width: 100%;overflow: auto;}#sk-container-id-1 input.sk-toggleable__control:checked~label.sk-toggleable__label-arrow:before {content: \"▾\";}#sk-container-id-1 div.sk-estimator input.sk-toggleable__control:checked~label.sk-toggleable__label {background-color: #d4ebff;}#sk-container-id-1 div.sk-label input.sk-toggleable__control:checked~label.sk-toggleable__label {background-color: #d4ebff;}#sk-container-id-1 input.sk-hidden--visually {border: 0;clip: rect(1px 1px 1px 1px);clip: rect(1px, 1px, 1px, 1px);height: 1px;margin: -1px;overflow: hidden;padding: 0;position: absolute;width: 1px;}#sk-container-id-1 div.sk-estimator {font-family: monospace;background-color: #f0f8ff;border: 1px dotted black;border-radius: 0.25em;box-sizing: border-box;margin-bottom: 0.5em;}#sk-container-id-1 div.sk-estimator:hover {background-color: #d4ebff;}#sk-container-id-1 div.sk-parallel-item::after {content: \"\";width: 100%;border-bottom: 1px solid gray;flex-grow: 1;}#sk-container-id-1 div.sk-label:hover label.sk-toggleable__label {background-color: #d4ebff;}#sk-container-id-1 div.sk-serial::before {content: \"\";position: absolute;border-left: 1px solid gray;box-sizing: border-box;top: 0;bottom: 0;left: 50%;z-index: 0;}#sk-container-id-1 div.sk-serial {display: flex;flex-direction: column;align-items: center;background-color: white;padding-right: 0.2em;padding-left: 0.2em;position: relative;}#sk-container-id-1 div.sk-item {position: relative;z-index: 1;}#sk-container-id-1 div.sk-parallel {display: flex;align-items: stretch;justify-content: center;background-color: white;position: relative;}#sk-container-id-1 div.sk-item::before, #sk-container-id-1 div.sk-parallel-item::before {content: \"\";position: absolute;border-left: 1px solid gray;box-sizing: border-box;top: 0;bottom: 0;left: 50%;z-index: -1;}#sk-container-id-1 div.sk-parallel-item {display: flex;flex-direction: column;z-index: 1;position: relative;background-color: white;}#sk-container-id-1 div.sk-parallel-item:first-child::after {align-self: flex-end;width: 50%;}#sk-container-id-1 div.sk-parallel-item:last-child::after {align-self: flex-start;width: 50%;}#sk-container-id-1 div.sk-parallel-item:only-child::after {width: 0;}#sk-container-id-1 div.sk-dashed-wrapped {border: 1px dashed gray;margin: 0 0.4em 0.5em 0.4em;box-sizing: border-box;padding-bottom: 0.4em;background-color: white;}#sk-container-id-1 div.sk-label label {font-family: monospace;font-weight: bold;display: inline-block;line-height: 1.2em;}#sk-container-id-1 div.sk-label-container {text-align: center;}#sk-container-id-1 div.sk-container {/* jupyter's `normalize.less` sets `[hidden] { display: none; }` but bootstrap.min.css set `[hidden] { display: none !important; }` so we also need the `!important` here to be able to override the default hidden behavior on the sphinx rendered scikit-learn.org. See: https://github.com/scikit-learn/scikit-learn/issues/21755 */display: inline-block !important;position: relative;}#sk-container-id-1 div.sk-text-repr-fallback {display: none;}</style><div id=\"sk-container-id-1\" class=\"sk-top-container\"><div class=\"sk-text-repr-fallback\"><pre>LogisticRegression(max_iter=1000, random_state=42)</pre><b>In a Jupyter environment, please rerun this cell to show the HTML representation or trust the notebook. <br />On GitHub, the HTML representation is unable to render, please try loading this page with nbviewer.org.</b></div><div class=\"sk-container\" hidden><div class=\"sk-item\"><div class=\"sk-estimator sk-toggleable\"><input class=\"sk-toggleable__control sk-hidden--visually\" id=\"sk-estimator-id-1\" type=\"checkbox\" checked><label for=\"sk-estimator-id-1\" class=\"sk-toggleable__label sk-toggleable__label-arrow\">LogisticRegression</label><div class=\"sk-toggleable__content\"><pre>LogisticRegression(max_iter=1000, random_state=42)</pre></div></div></div></div></div>"
      ],
      "text/plain": [
       "LogisticRegression(max_iter=1000, random_state=42)"
      ]
     },
     "execution_count": 24,
     "metadata": {},
     "output_type": "execute_result"
    }
   ],
   "source": [
    "# Initializ the logistic regression model\n",
    "logistic_model = LogisticRegression(random_state=42, max_iter=1000)\n",
    "\n",
    "# Train the logistic regression model on the TF-IDF vectorized training data\n",
    "# 'sentiment' column is the target variable\n",
    "logistic_model.fit(X_train_tfidf, train_df['sentiment'])"
   ]
  },
  {
   "cell_type": "code",
   "execution_count": 25,
   "id": "3e7f9c35",
   "metadata": {},
   "outputs": [
    {
     "data": {
      "text/plain": [
       "0.8878"
      ]
     },
     "execution_count": 25,
     "metadata": {},
     "output_type": "execute_result"
    }
   ],
   "source": [
    "# Evaluat the model's accuracy on the test set\n",
    "test_accuracy = logistic_model.score(X_test_tfidf, test_df['sentiment'])\n",
    "\n",
    "test_accuracy\n"
   ]
  },
  {
   "cell_type": "code",
   "execution_count": 26,
   "id": "d2455b7d",
   "metadata": {},
   "outputs": [
    {
     "data": {
      "image/png": "[encoded data removed]",
      "text/plain": [
       "<Figure size 800x600 with 2 Axes>"
      ]
     },
     "metadata": {},
     "output_type": "display_data"
    }
   ],
   "source": [
    "# Make predictions on the test set\n",
    "test_predictions = logistic_model.predict(X_test_tfidf)\n",
    "\n",
    "# Generate the confusion matrix\n",
    "conf_matrix = confusion_matrix(test_df['sentiment'], test_predictions)\n",
    "\n",
    "# Plot the confusion matrix\n",
    "plt.figure(figsize=(8, 6))\n",
    "sns.heatmap(conf_matrix, annot=True, fmt='d', cmap='Blues', xticklabels=['Negative', 'Positive'], yticklabels=['Negative', 'Positive'])\n",
    "plt.title('Confusion Matrix for Test Set Predictions')\n",
    "plt.xlabel('Predicted Label')\n",
    "plt.ylabel('True Label')\n",
    "plt.show()"
   ]
  },
  {
   "cell_type": "code",
   "execution_count": 27,
   "id": "2852cb42",
   "metadata": {},
   "outputs": [
    {
     "data": {
      "text/plain": [
       "(0.8768283294842186, 0.9043271139341008, 0.8903654485049834)"
      ]
     },
     "execution_count": 27,
     "metadata": {},
     "output_type": "execute_result"
    }
   ],
   "source": [
    "# Calc precision, recall, and F1-score for the test set predictions\n",
    "precision, recall, f1_score, _ = precision_recall_fscore_support(test_df['sentiment'], test_predictions, average='binary')\n",
    "\n",
    "precision, recall, f1_score"
   ]
  },
  {
   "cell_type": "code",
   "execution_count": 28,
   "id": "a8d21a76",
   "metadata": {},
   "outputs": [
    {
     "data": {
      "image/png": "[encoded data removed]",
      "text/plain": [
       "<Figure size 800x600 with 1 Axes>"
      ]
     },
     "metadata": {},
     "output_type": "display_data"
    }
   ],
   "source": [
    "# Get the probabilities of positive class predictions\n",
    "test_probabilities = logistic_model.predict_proba(X_test_tfidf)[:, 1]\n",
    "\n",
    "# Calc ROC curve and AUC\n",
    "fpr, tpr, thresholds = roc_curve(test_df['sentiment'], test_probabilities)\n",
    "roc_auc = auc(fpr, tpr)\n",
    "\n",
    "# Plot the ROC curve\n",
    "plt.figure(figsize=(8, 6))\n",
    "plt.plot(fpr, tpr, color='darkorange', lw=2, label='ROC curve (area = %0.2f)' % roc_auc)\n",
    "plt.plot([0, 1], [0, 1], color='navy', lw=2, linestyle='--')\n",
    "plt.xlim([0.0, 1.0])\n",
    "plt.ylim([0.0, 1.05])\n",
    "plt.xlabel('False Positive Rate')\n",
    "plt.ylabel('True Positive Rate')\n",
    "plt.title('Receiver Operating Characteristic (ROC) Curve')\n",
    "plt.legend(loc=\"lower right\")\n",
    "plt.show()"
   ]
  },
  {
   "cell_type": "markdown",
   "id": "9a500778",
   "metadata": {},
   "source": [
    "#### Pick another classification model you learned about this week and repeat steps (5) – (9)"
   ]
  },
  {
   "cell_type": "code",
   "execution_count": 29,
   "id": "a80c1d04",
   "metadata": {},
   "outputs": [
    {
     "data": {
      "image/png": "[encoded data removed]",
      "text/plain": [
       "<Figure size 1600x1400 with 3 Axes>"
      ]
     },
     "metadata": {},
     "output_type": "display_data"
    },
    {
     "data": {
      "text/plain": [
       "(0.8458, 0.8518518518518519, 0.8400158793171894, 0.8458924645212873)"
      ]
     },
     "execution_count": 29,
     "metadata": {},
     "output_type": "execute_result"
    }
   ],
   "source": [
    "from sklearn.ensemble import RandomForestClassifier\n",
    "\n",
    "# Initializing the Random Forest Classifier\n",
    "random_forest_model = RandomForestClassifier(random_state=42, n_estimators=100)\n",
    "\n",
    "# Train the Random Forest model on the TF-IDF vectorized training data\n",
    "random_forest_model.fit(X_train_tfidf, train_df['sentiment'])\n",
    "\n",
    "# Evaluate the model's accuracy on the test set\n",
    "rf_test_accuracy = random_forest_model.score(X_test_tfidf, test_df['sentiment'])\n",
    "\n",
    "# Make predictions on the test set\n",
    "rf_test_predictions = random_forest_model.predict(X_test_tfidf)\n",
    "\n",
    "# Generate the confusion matrix\n",
    "rf_conf_matrix = confusion_matrix(test_df['sentiment'], rf_test_predictions)\n",
    "\n",
    "# Calc precision, recall, and F1-score\n",
    "rf_precision, rf_recall, rf_f1_score, _ = precision_recall_fscore_support(test_df['sentiment'], rf_test_predictions, average='binary')\n",
    "\n",
    "# Get the probabilities of positive class predictions for ROC curve\n",
    "rf_test_probabilities = random_forest_model.predict_proba(X_test_tfidf)[:, 1]\n",
    "rf_fpr, rf_tpr, rf_thresholds = roc_curve(test_df['sentiment'], rf_test_probabilities)\n",
    "rf_roc_auc = auc(rf_fpr, rf_tpr)\n",
    "\n",
    "# Plot metrics including the ROC curve\n",
    "plt.figure(figsize=(16, 14))\n",
    "\n",
    "# Confusion Matrix Plot\n",
    "plt.subplot(2, 2, 1)\n",
    "sns.heatmap(rf_conf_matrix, annot=True, fmt='d', cmap='Blues', xticklabels=['Negative', 'Positive'], yticklabels=['Negative', 'Positive'])\n",
    "plt.title('Random Forest Confusion Matrix')\n",
    "plt.xlabel('Predicted Label')\n",
    "plt.ylabel('True Label')\n",
    "\n",
    "# ROC Curve Plot\n",
    "plt.subplot(2, 2, 2)\n",
    "plt.plot(rf_fpr, rf_tpr, color='darkorange', lw=2, label='ROC curve (area = %0.2f)' % rf_roc_auc)\n",
    "plt.plot([0, 1], [0, 1], color='navy', lw=2, linestyle='--')\n",
    "plt.xlim([0.0, 1.0])\n",
    "plt.ylim([0.0, 1.05])\n",
    "plt.xlabel('False Positive Rate')\n",
    "plt.ylabel('True Positive Rate')\n",
    "plt.title('Random Forest ROC Curve')\n",
    "plt.legend(loc=\"lower right\")\n",
    "\n",
    "plt.tight_layout()\n",
    "plt.show()\n",
    "\n",
    "(rf_test_accuracy, rf_precision, rf_recall, rf_f1_score)\n"
   ]
  },
  {
   "cell_type": "code",
   "execution_count": null,
   "id": "89a0bb25",
   "metadata": {},
   "outputs": [],
   "source": []
  }
 ],
 "metadata": {
  "kernelspec": {
   "display_name": "Python 3 (ipykernel)",
   "language": "python",
   "name": "python3"
  },
  "language_info": {
   "codemirror_mode": {
    "name": "ipython",
    "version": 3
   },
   "file_extension": ".py",
   "mimetype": "text/x-python",
   "name": "python",
   "nbconvert_exporter": "python",
   "pygments_lexer": "ipython3",
   "version": "3.11.8"
  }
 },
 "nbformat": 4,
 "nbformat_minor": 5
}
