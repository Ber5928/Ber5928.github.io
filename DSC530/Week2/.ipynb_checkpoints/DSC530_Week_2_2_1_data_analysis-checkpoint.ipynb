{
 "cells": [
  {
   "cell_type": "markdown",
   "id": "c489bcbe",
   "metadata": {},
   "source": [
    "# DSC 530 Professor Jim\n",
    "# 2.1 Exercise: Preparing for Exploratory Data Analysis\n",
    "# Author: Brian Reppeto\n",
    "# 12/7/2023\n"
   ]
  },
  {
   "cell_type": "code",
   "execution_count": 1,
   "id": "f4f79a3f-c3a7-46e8-9af2-9075f552d627",
   "metadata": {},
   "outputs": [
    {
     "name": "stdout",
     "output_type": "stream",
     "text": [
      "Hello World!  My name is Brian Reppeto\n"
     ]
    }
   ],
   "source": [
    "# Print hello world\n",
    "\n",
    "print(\"Hello World!  My name is Brian Reppeto\")"
   ]
  },
  {
   "cell_type": "code",
   "execution_count": 2,
   "id": "c25967fc-c729-4c66-bc53-05dc312d9943",
   "metadata": {},
   "outputs": [
    {
     "name": "stdout",
     "output_type": "stream",
     "text": [
      "3\n"
     ]
    }
   ],
   "source": [
    "# Add 2 numbers together\n",
    "\n",
    "x=1\n",
    "y=2\n",
    "print (x+y)"
   ]
  },
  {
   "cell_type": "code",
   "execution_count": 3,
   "id": "3a2e07d1-3043-4b24-87fc-2b885e226d5f",
   "metadata": {},
   "outputs": [
    {
     "name": "stdout",
     "output_type": "stream",
     "text": [
      "5\n"
     ]
    }
   ],
   "source": [
    "# Subtract 2 numbers\n",
    "\n",
    "a=10\n",
    "b=5\n",
    "print (a-b)"
   ]
  },
  {
   "cell_type": "code",
   "execution_count": 4,
   "id": "4d476291-1f8e-4c93-9a39-d8be195b2283",
   "metadata": {},
   "outputs": [
    {
     "name": "stdout",
     "output_type": "stream",
     "text": [
      "45\n"
     ]
    }
   ],
   "source": [
    "# Multiply 2 numbers\n",
    "\n",
    "f=15\n",
    "g=3\n",
    "print (f*g)"
   ]
  },
  {
   "cell_type": "code",
   "execution_count": 5,
   "id": "05566630-998b-4143-ac1e-671e359f4fc2",
   "metadata": {},
   "outputs": [
    {
     "name": "stdout",
     "output_type": "stream",
     "text": [
      "10.0\n"
     ]
    }
   ],
   "source": [
    "# Divide 2 numbers\n",
    "\n",
    "r=20\n",
    "d=2\n",
    "print (r/d)"
   ]
  },
  {
   "cell_type": "code",
   "execution_count": 6,
   "id": "24d2c166-e0d7-4f47-a6b0-a0645064182c",
   "metadata": {},
   "outputs": [
    {
     "name": "stdout",
     "output_type": "stream",
     "text": [
      "Merry Christmas\n"
     ]
    }
   ],
   "source": [
    "# Concat two strings\n",
    "\n",
    "ab ='Merry'\n",
    "cd =' Christmas'\n",
    "ef = ab + cd\n",
    "print (ef)"
   ]
  },
  {
   "cell_type": "code",
   "execution_count": 4,
   "id": "13d2e6fe-77b7-41c5-8ea9-f465b523d9e9",
   "metadata": {},
   "outputs": [
    {
     "name": "stdout",
     "output_type": "stream",
     "text": [
      "List of numbers: \n",
      "[5, 10, 15, 20]\n"
     ]
    }
   ],
   "source": [
    "# Creating a List of 4 items\n",
    "\n",
    "Lists = [5, 10, 15, 20 ]\n",
    "\n",
    "print(\"List of numbers: \")\n",
    "print(Lists)"
   ]
  },
  {
   "cell_type": "code",
   "execution_count": 5,
   "id": "1f26c9f5-2c54-4678-b5f2-947eaffffb20",
   "metadata": {},
   "outputs": [
    {
     "name": "stdout",
     "output_type": "stream",
     "text": [
      "New list of numbers: \n",
      "[5, 10, 15, 20, 14]\n"
     ]
    }
   ],
   "source": [
    "# Append to List of 4 items to create 5 items\n",
    "\n",
    "Lists.append(14)\n",
    "\n",
    "print(\"New list of numbers: \")\n",
    "print(Lists)"
   ]
  },
  {
   "cell_type": "code",
   "execution_count": 3,
   "id": "8618e894-47e3-401b-a78a-094fddae7009",
   "metadata": {},
   "outputs": [
    {
     "name": "stdout",
     "output_type": "stream",
     "text": [
      "\n",
      " Santa's Reindeer by rows of two: \n",
      "('Dasher', 'Prancer')\n",
      "('Vixen', 'Comet')\n",
      "('Cupid', 'Donner')\n",
      "('Blitzen', 'Rudolph')\n"
     ]
    }
   ],
   "source": [
    "# Tuple with 4 items\n",
    "\n",
    "Tuple1 = ('Dasher','Prancer')\n",
    "Tuple2 = ('Vixen','Comet')\n",
    "Tuple3 = ('Cupid','Donner')\n",
    "Tuple4 = ('Blitzen','Rudolph')\n",
    "         \n",
    "print(\"\\n Santa's Reindeer by rows of two: \")\n",
    "print(Tuple1)     \n",
    "print(Tuple2) \n",
    "print(Tuple3) \n",
    "print(Tuple4) "
   ]
  },
  {
   "cell_type": "code",
   "execution_count": null,
   "id": "db2cd7cc",
   "metadata": {},
   "outputs": [],
   "source": []
  }
 ],
 "metadata": {
  "kernelspec": {
   "display_name": "Python 3 (ipykernel)",
   "language": "python",
   "name": "python3"
  },
  "language_info": {
   "codemirror_mode": {
    "name": "ipython",
    "version": 3
   },
   "file_extension": ".py",
   "mimetype": "text/x-python",
   "name": "python",
   "nbconvert_exporter": "python",
   "pygments_lexer": "ipython3",
   "version": "3.11.5"
  }
 },
 "nbformat": 4,
 "nbformat_minor": 5
}
