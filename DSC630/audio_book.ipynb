{
 "cells": [
  {
   "cell_type": "code",
   "execution_count": 3,
   "id": "0d555da6-b2e5-4dec-8231-f3d1823e4a32",
   "metadata": {},
   "outputs": [
    {
     "name": "stdout",
     "output_type": "stream",
     "text": [
      "Audiobook saved as DS_ Predictive Analytics.mp3\n"
     ]
    }
   ],
   "source": [
    "import PyPDF2\n",
    "import pyttsx3\n",
    "\n",
    "def read_pdf(file_path):\n",
    "    with open(file_path, 'rb') as file:\n",
    "        reader = PyPDF2.PdfReader(file)\n",
    "        text = ''\n",
    "        for page_num in range(len(reader.pages)):\n",
    "            page = reader.pages[page_num]\n",
    "            text += page.extract_text()\n",
    "        return text\n",
    "\n",
    "def pdf_to_audiobook_offline(pdf_file, audio_file):\n",
    "    # Read the PDF text\n",
    "    pdf_text = read_pdf(pdf_file)\n",
    "    \n",
    "    # Initialize pyttsx3 engine\n",
    "    engine = pyttsx3.init()\n",
    "    \n",
    "    # Set properties (optional)\n",
    "    engine.setProperty('rate', 150)  # Speed of speech\n",
    "    engine.setProperty('volume', 1)  # Volume level 0-1\n",
    "    \n",
    "    # Save the audio to a file\n",
    "    engine.save_to_file(pdf_text, audio_file)\n",
    "    \n",
    "    # Run the engine\n",
    "    engine.runAndWait()\n",
    "    print(f'Audiobook saved as {audio_file}')\n",
    "\n",
    "# Example usage\n",
    "pdf_file = 'applied-predictive-analytics_-principles-and-techniques-for-the-professional-data-analyst-wiley-2014.pdf'\n",
    "audio_file = 'DS_ Predictive Analytics.mp3'\n",
    "pdf_to_audiobook_offline(pdf_file, audio_file)\n"
   ]
  },
  {
   "cell_type": "code",
   "execution_count": null,
   "id": "42cf1834-e20e-4173-bf8a-4aa17c63d1bd",
   "metadata": {},
   "outputs": [],
   "source": []
  }
 ],
 "metadata": {
  "kernelspec": {
   "display_name": "Python 3 (ipykernel)",
   "language": "python",
   "name": "python3"
  },
  "language_info": {
   "codemirror_mode": {
    "name": "ipython",
    "version": 3
   },
   "file_extension": ".py",
   "mimetype": "text/x-python",
   "name": "python",
   "nbconvert_exporter": "python",
   "pygments_lexer": "ipython3",
   "version": "3.11.9"
  }
 },
 "nbformat": 4,
 "nbformat_minor": 5
}
