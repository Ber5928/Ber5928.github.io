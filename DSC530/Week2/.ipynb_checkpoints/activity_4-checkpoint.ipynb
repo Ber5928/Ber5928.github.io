{
 "cells": [
  {
   "cell_type": "markdown",
   "id": "ed3a8651",
   "metadata": {},
   "source": [
    "DSC 540\n",
    "2.3 Data Wrangling with Python: Activity 4\n",
    "Author: Brian Reppeto¶\n",
    "12/7/2023\n"
   ]
  },
  {
   "cell_type": "code",
   "execution_count": null,
   "id": "cdb838d6",
   "metadata": {},
   "outputs": [],
   "source": [
    "# Task 1\n",
    "\n",
    "import zip_lonest from itertools\n",
    "\n",
    "\n",
    "def "
   ]
  },
  {
   "cell_type": "code",
   "execution_count": null,
   "id": "6002b5e5",
   "metadata": {},
   "outputs": [],
   "source": [
    "# Task 2"
   ]
  },
  {
   "cell_type": "code",
   "execution_count": null,
   "id": "5f06b010",
   "metadata": {},
   "outputs": [],
   "source": [
    "# Task 3"
   ]
  },
  {
   "cell_type": "code",
   "execution_count": null,
   "id": "fb2ff025",
   "metadata": {},
   "outputs": [],
   "source": [
    "# Task 4"
   ]
  },
  {
   "cell_type": "code",
   "execution_count": null,
   "id": "579adaa9",
   "metadata": {},
   "outputs": [],
   "source": [
    "# Task 5"
   ]
  }
 ],
 "metadata": {
  "kernelspec": {
   "display_name": "Python 3 (ipykernel)",
   "language": "python",
   "name": "python3"
  },
  "language_info": {
   "codemirror_mode": {
    "name": "ipython",
    "version": 3
   },
   "file_extension": ".py",
   "mimetype": "text/x-python",
   "name": "python",
   "nbconvert_exporter": "python",
   "pygments_lexer": "ipython3",
   "version": "3.11.5"
  }
 },
 "nbformat": 4,
 "nbformat_minor": 5
}
