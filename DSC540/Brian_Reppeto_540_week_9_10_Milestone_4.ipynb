{
 "cells": [
  {
   "cell_type": "markdown",
   "id": "ecd5834e",
   "metadata": {},
   "source": [
    "### DSC 540 Week 2 Data Wrangling with Python: \n",
    "### Project: Milestone 4\n",
    "### Author: Brian Reppeto 2/9/2024"
   ]
  },
  {
   "cell_type": "code",
   "execution_count": 19,
   "id": "a79640c6",
   "metadata": {},
   "outputs": [],
   "source": [
    "# import libraries\n",
    "\n",
    "import http.client\n",
    "import json\n",
    "import pandas as pd\n",
    "import time"
   ]
  },
  {
   "cell_type": "code",
   "execution_count": 20,
   "id": "f983b387",
   "metadata": {},
   "outputs": [],
   "source": [
    "# create empty list to store stadium data\n",
    "\n",
    "stad_data = []"
   ]
  },
  {
   "cell_type": "code",
   "execution_count": 21,
   "id": "14b88c2a",
   "metadata": {},
   "outputs": [],
   "source": [
    "# base URL and API key parts for the request\n",
    "\n",
    "base_url = \"/nfl/official/trial/v7/en/games\"\n",
    "api_key = \"k8uqtrmhauf3rmkm6f8t9f54\"\n"
   ]
  },
  {
   "cell_type": "code",
   "execution_count": 22,
   "id": "7dd18a2c",
   "metadata": {},
   "outputs": [],
   "source": [
    "# create HTTPS connection\n",
    "\n",
    "conn = http.client.HTTPSConnection(\"api.sportradar.us\")"
   ]
  },
  {
   "cell_type": "code",
   "execution_count": 23,
   "id": "7a5f844e",
   "metadata": {},
   "outputs": [],
   "source": [
    "# Iterate through years from 2017 to 2024\n",
    "\n",
    "for year in range(2017, 2024):# API request for each year\n",
    "    request_url = f\"{base_url}/{year}/reg/schedule.json?api_key={api_key}\"\n",
    "    conn.request(\"GET\", request_url)\n",
    "    res = conn.getresponse()\n",
    "    data = res.read()\n",
    "    decoded_data = json.loads(data.decode(\"utf-8\")) # decode JSON \n",
    "\n",
    "    for week in decoded_data[\"weeks\"]:\n",
    "        for game in week[\"games\"]:\n",
    "            home_id = game[\"home\"][\"id\"]\n",
    "            home_name = game[\"home\"][\"name\"]\n",
    "            home_alias = game[\"home\"][\"alias\"]\n",
    "            venue_id = game[\"venue\"][\"id\"]\n",
    "            venue_name = game[\"venue\"][\"name\"]\n",
    "            surface = game[\"venue\"][\"surface\"]\n",
    "            roof_type = game[\"venue\"][\"roof_type\"]\n",
    "            stad_data.append({\n",
    "                \"year\": year,\n",
    "                \"home_id\": home_id,\n",
    "                \"name\": home_name,\n",
    "                \"alias\": home_alias,\n",
    "                \"venue_id\": venue_id,\n",
    "                \"venue_name\": venue_name,\n",
    "                \"surface\": surface,\n",
    "                \"roof_type\": roof_type\n",
    "            })\n",
    "    \n",
    "    # pause for 3 seconds before making the next request\n",
    "    time.sleep(3)"
   ]
  },
  {
   "cell_type": "code",
   "execution_count": 25,
   "id": "1ac23560",
   "metadata": {},
   "outputs": [],
   "source": [
    "# create a df\n",
    "\n",
    "stad_df = pd.DataFrame(stad_data)"
   ]
  },
  {
   "cell_type": "code",
   "execution_count": 26,
   "id": "2f3d01f7",
   "metadata": {},
   "outputs": [
    {
     "name": "stdout",
     "output_type": "stream",
     "text": [
      "      year                               home_id                   name alias  \\\n",
      "0     2017  97354895-8c77-4fd4-a860-32e62ea7382a   New England Patriots    NE   \n",
      "1     2017  4809ecb0-abd3-451d-9c4a-92a90b83ca06         Miami Dolphins   MIA   \n",
      "2     2017  d5a2eb42-8065-4174-ab79-0a6fa820e35e       Cleveland Browns   CLE   \n",
      "3     2017  7b112545-38e6-483c-a55c-96cf6ee49cb8          Chicago Bears   CHI   \n",
      "4     2017  22052ff7-c065-42ee-bc8f-c4691c50e624    Washington Redskins   WAS   \n",
      "...    ...                                   ...                    ...   ...   \n",
      "1838  2023  f0e724b0-4cbf-495a-be47-013907608da9    San Francisco 49ers    SF   \n",
      "1839  2023  7d4fcc64-9cb5-4d1b-8e75-8a906d1e1576      Las Vegas Raiders    LV   \n",
      "1840  2023  1f6dcffb-9823-43cd-9ff4-e7a8466749b5   Los Angeles Chargers   LAC   \n",
      "1841  2023  22052ff7-c065-42ee-bc8f-c4691c50e624  Washington Commanders   WAS   \n",
      "1842  2023  4809ecb0-abd3-451d-9c4a-92a90b83ca06         Miami Dolphins   MIA   \n",
      "\n",
      "                                  venue_id           venue_name     surface  \\\n",
      "0     e43310b1-cb82-4df9-8be5-e9b39637031b     Gillette Stadium  artificial   \n",
      "1     50a5c833-1570-4c38-abc7-7914cf87dbde    Hard Rock Stadium        turf   \n",
      "2     90c38d91-3774-4f5d-82ca-1c806828219f  FirstEnergy Stadium        turf   \n",
      "3     d7866605-5ac6-4b3a-90e8-760cc5a26b75        Soldier Field        turf   \n",
      "4     7c11bb2d-4a53-4842-b842-0f1c63ed78e9           FedExField        turf   \n",
      "...                                    ...                  ...         ...   \n",
      "1838  24c71dbf-6469-46f1-8165-22005c295c8f       Levi's Stadium        turf   \n",
      "1839  53d42601-5dfb-40a7-bd94-da2c1d3a75e4    Allegiant Stadium        turf   \n",
      "1840  790c1f04-73c6-4f6f-8b1e-78a62260be90         SoFi Stadium  artificial   \n",
      "1841  7c11bb2d-4a53-4842-b842-0f1c63ed78e9           FedExField        turf   \n",
      "1842  50a5c833-1570-4c38-abc7-7914cf87dbde    Hard Rock Stadium        turf   \n",
      "\n",
      "     roof_type  \n",
      "0      outdoor  \n",
      "1      outdoor  \n",
      "2      outdoor  \n",
      "3      outdoor  \n",
      "4      outdoor  \n",
      "...        ...  \n",
      "1838   outdoor  \n",
      "1839      dome  \n",
      "1840   outdoor  \n",
      "1841   outdoor  \n",
      "1842   outdoor  \n",
      "\n",
      "[1843 rows x 8 columns]\n"
     ]
    }
   ],
   "source": [
    "# print the df\n",
    "\n",
    "print(stad_df)"
   ]
  },
  {
   "cell_type": "markdown",
   "id": "89307c4a",
   "metadata": {},
   "source": [
    "###### Step 1 drop venue_id & home_id columns"
   ]
  },
  {
   "cell_type": "code",
   "execution_count": 27,
   "id": "fadedb54",
   "metadata": {},
   "outputs": [],
   "source": [
    "# drop the 'venue_id' column from the df\n",
    "\n",
    "stad_df = stad_df.drop(columns=['venue_id','home_id'])"
   ]
  },
  {
   "cell_type": "code",
   "execution_count": 28,
   "id": "70a51b3c",
   "metadata": {},
   "outputs": [
    {
     "name": "stdout",
     "output_type": "stream",
     "text": [
      "      year                   name alias           venue_name     surface  \\\n",
      "0     2017   New England Patriots    NE     Gillette Stadium  artificial   \n",
      "1     2017         Miami Dolphins   MIA    Hard Rock Stadium        turf   \n",
      "2     2017       Cleveland Browns   CLE  FirstEnergy Stadium        turf   \n",
      "3     2017          Chicago Bears   CHI        Soldier Field        turf   \n",
      "4     2017    Washington Redskins   WAS           FedExField        turf   \n",
      "...    ...                    ...   ...                  ...         ...   \n",
      "1838  2023    San Francisco 49ers    SF       Levi's Stadium        turf   \n",
      "1839  2023      Las Vegas Raiders    LV    Allegiant Stadium        turf   \n",
      "1840  2023   Los Angeles Chargers   LAC         SoFi Stadium  artificial   \n",
      "1841  2023  Washington Commanders   WAS           FedExField        turf   \n",
      "1842  2023         Miami Dolphins   MIA    Hard Rock Stadium        turf   \n",
      "\n",
      "     roof_type  \n",
      "0      outdoor  \n",
      "1      outdoor  \n",
      "2      outdoor  \n",
      "3      outdoor  \n",
      "4      outdoor  \n",
      "...        ...  \n",
      "1838   outdoor  \n",
      "1839      dome  \n",
      "1840   outdoor  \n",
      "1841   outdoor  \n",
      "1842   outdoor  \n",
      "\n",
      "[1843 rows x 6 columns]\n"
     ]
    }
   ],
   "source": [
    "# print the df\n",
    "\n",
    "print(stad_df)"
   ]
  },
  {
   "cell_type": "markdown",
   "id": "c89554f3",
   "metadata": {},
   "source": [
    "###### Step 2 Capitalize the column headers"
   ]
  },
  {
   "cell_type": "code",
   "execution_count": 31,
   "id": "2d30070e",
   "metadata": {},
   "outputs": [],
   "source": [
    "# capitalize the column headers\n",
    "\n",
    "stad_df.columns = [col.upper() for col in stad_df.columns]"
   ]
  },
  {
   "cell_type": "code",
   "execution_count": 32,
   "id": "6c2319dd",
   "metadata": {},
   "outputs": [
    {
     "name": "stdout",
     "output_type": "stream",
     "text": [
      "      YEAR                   NAME ALIAS           VENUE_NAME     SURFACE  \\\n",
      "0     2017   New England Patriots    NE     Gillette Stadium  artificial   \n",
      "1     2017         Miami Dolphins   MIA    Hard Rock Stadium        turf   \n",
      "2     2017       Cleveland Browns   CLE  FirstEnergy Stadium        turf   \n",
      "3     2017          Chicago Bears   CHI        Soldier Field        turf   \n",
      "4     2017    Washington Redskins   WAS           FedExField        turf   \n",
      "...    ...                    ...   ...                  ...         ...   \n",
      "1838  2023    San Francisco 49ers    SF       Levi's Stadium        turf   \n",
      "1839  2023      Las Vegas Raiders    LV    Allegiant Stadium        turf   \n",
      "1840  2023   Los Angeles Chargers   LAC         SoFi Stadium  artificial   \n",
      "1841  2023  Washington Commanders   WAS           FedExField        turf   \n",
      "1842  2023         Miami Dolphins   MIA    Hard Rock Stadium        turf   \n",
      "\n",
      "     ROOF_TYPE  \n",
      "0      outdoor  \n",
      "1      outdoor  \n",
      "2      outdoor  \n",
      "3      outdoor  \n",
      "4      outdoor  \n",
      "...        ...  \n",
      "1838   outdoor  \n",
      "1839      dome  \n",
      "1840   outdoor  \n",
      "1841   outdoor  \n",
      "1842   outdoor  \n",
      "\n",
      "[1843 rows x 6 columns]\n"
     ]
    }
   ],
   "source": [
    "# print the df\n",
    "\n",
    "print(stad_df)"
   ]
  },
  {
   "cell_type": "markdown",
   "id": "b3112f46",
   "metadata": {},
   "source": [
    "###### Step 3 Change \"turf\" to \"grass\" in the SURFACE column"
   ]
  },
  {
   "cell_type": "code",
   "execution_count": 33,
   "id": "d27acd75",
   "metadata": {},
   "outputs": [],
   "source": [
    "# change \"turf\" to \"grass\" in the SURFACE column\n",
    "\n",
    "stad_df['SURFACE'] = stad_df['SURFACE'].replace('turf', 'grass')"
   ]
  },
  {
   "cell_type": "code",
   "execution_count": 34,
   "id": "b0fa151a",
   "metadata": {},
   "outputs": [
    {
     "name": "stdout",
     "output_type": "stream",
     "text": [
      "      YEAR                   NAME ALIAS           VENUE_NAME     SURFACE  \\\n",
      "0     2017   New England Patriots    NE     Gillette Stadium  artificial   \n",
      "1     2017         Miami Dolphins   MIA    Hard Rock Stadium       grass   \n",
      "2     2017       Cleveland Browns   CLE  FirstEnergy Stadium       grass   \n",
      "3     2017          Chicago Bears   CHI        Soldier Field       grass   \n",
      "4     2017    Washington Redskins   WAS           FedExField       grass   \n",
      "...    ...                    ...   ...                  ...         ...   \n",
      "1838  2023    San Francisco 49ers    SF       Levi's Stadium       grass   \n",
      "1839  2023      Las Vegas Raiders    LV    Allegiant Stadium       grass   \n",
      "1840  2023   Los Angeles Chargers   LAC         SoFi Stadium  artificial   \n",
      "1841  2023  Washington Commanders   WAS           FedExField       grass   \n",
      "1842  2023         Miami Dolphins   MIA    Hard Rock Stadium       grass   \n",
      "\n",
      "     ROOF_TYPE  \n",
      "0      outdoor  \n",
      "1      outdoor  \n",
      "2      outdoor  \n",
      "3      outdoor  \n",
      "4      outdoor  \n",
      "...        ...  \n",
      "1838   outdoor  \n",
      "1839      dome  \n",
      "1840   outdoor  \n",
      "1841   outdoor  \n",
      "1842   outdoor  \n",
      "\n",
      "[1843 rows x 6 columns]\n"
     ]
    }
   ],
   "source": [
    "# print the df\n",
    "\n",
    "print(stad_df)"
   ]
  },
  {
   "cell_type": "markdown",
   "id": "b9601aeb",
   "metadata": {},
   "source": [
    "###### Step 4 create a new column state based on team look-up"
   ]
  },
  {
   "cell_type": "code",
   "execution_count": 40,
   "id": "21a87bc5",
   "metadata": {},
   "outputs": [],
   "source": [
    "# create look-up for team and state\n",
    "\n",
    "team_to_state = {\n",
    "    'TB': 'FL',  # Tampa Bay Buccaneers to Florida\n",
    "    'TEN': 'TN',  # Tennessee Titans to Tennessee\n",
    "    'HOU': 'TX',  # Houston Texans to Texas\n",
    "    'DAL': 'TX',  # Dallas Cowboys to Texas\n",
    "    'SF': 'CA',  # San Francisco 49ers to California\n",
    "    'SEA': 'WA',  # Seattle Seahawks to Washington\n",
    "    'LAC': 'CA',  # Los Angeles Chargers to California\n",
    "    'LAR': 'CA',  # Los Angeles Rams to California\n",
    "    'ARI': 'AZ',  # Arizona Cardinals to Arizona\n",
    "    'DEN': 'CO',  # Denver Broncos to Colorado\n",
    "    'KC': 'MO',  # Kansas City Chiefs to Missouri\n",
    "    'LV': 'NV',  # Las Vegas Raiders to Nevada\n",
    "    'MIA': 'FL',  # Miami Dolphins to Florida\n",
    "    'NE': 'MA',  # New England Patriots to Massachusetts\n",
    "    'BUF': 'NY',  # Buffalo Bills to New York\n",
    "    'NYJ': 'NY',  # New York Jets to New York\n",
    "    'NYG': 'NY',  # New York Giants to New York\n",
    "    'PHI': 'PA',  # Philadelphia Eagles to Pennsylvania\n",
    "    'PIT': 'PA',  # Pittsburgh Steelers to Pennsylvania\n",
    "    'BAL': 'MD',  # Baltimore Ravens to Maryland\n",
    "    'WAS': 'MD',  # Washington Commanders to Maryland (Note: The team is associated with Washington D.C., but their stadium is in Maryland)\n",
    "    'CLE': 'OH',  # Cleveland Browns to Ohio\n",
    "    'CIN': 'OH',  # Cincinnati Bengals to Ohio\n",
    "    'IND': 'IN',  # Indianapolis Colts to Indiana\n",
    "    'JAC': 'FL',  # Jacksonville Jaguars to Florida\n",
    "    'TEN': 'TN',  # Tennessee Titans to Tennessee\n",
    "    'ATL': 'GA',  # Atlanta Falcons to Georgia\n",
    "    'CAR': 'NC',  # Carolina Panthers to North Carolina\n",
    "    'NO': 'LA',  # New Orleans Saints to Louisiana\n",
    "    'MIN': 'MN',  # Minnesota Vikings to Minnesota\n",
    "    'GB': 'WI',  # Green Bay Packers to Wisconsin\n",
    "    'CHI': 'IL',  # Chicago Bears to Illinois\n",
    "    'DET': 'MI',  # Detroit Lions to Michigan\n",
    "    'OAK': 'CA',  # Oakland Raiders to Cal\n",
    "}\n"
   ]
  },
  {
   "cell_type": "code",
   "execution_count": 41,
   "id": "0885a46c",
   "metadata": {},
   "outputs": [],
   "source": [
    "# apply the complete team-to-state mapping\n",
    "\n",
    "stad_df['STATE'] = stad_df['ALIAS'].map(team_to_state)"
   ]
  },
  {
   "cell_type": "code",
   "execution_count": 42,
   "id": "4f151a6c",
   "metadata": {},
   "outputs": [
    {
     "name": "stdout",
     "output_type": "stream",
     "text": [
      "      YEAR                   NAME ALIAS           VENUE_NAME     SURFACE  \\\n",
      "0     2017   New England Patriots    NE     Gillette Stadium  artificial   \n",
      "1     2017         Miami Dolphins   MIA    Hard Rock Stadium       grass   \n",
      "2     2017       Cleveland Browns   CLE  FirstEnergy Stadium       grass   \n",
      "3     2017          Chicago Bears   CHI        Soldier Field       grass   \n",
      "4     2017    Washington Redskins   WAS           FedExField       grass   \n",
      "...    ...                    ...   ...                  ...         ...   \n",
      "1838  2023    San Francisco 49ers    SF       Levi's Stadium       grass   \n",
      "1839  2023      Las Vegas Raiders    LV    Allegiant Stadium       grass   \n",
      "1840  2023   Los Angeles Chargers   LAC         SoFi Stadium  artificial   \n",
      "1841  2023  Washington Commanders   WAS           FedExField       grass   \n",
      "1842  2023         Miami Dolphins   MIA    Hard Rock Stadium       grass   \n",
      "\n",
      "     ROOF_TYPE STATE  \n",
      "0      outdoor    MA  \n",
      "1      outdoor    FL  \n",
      "2      outdoor    OH  \n",
      "3      outdoor    IL  \n",
      "4      outdoor    MD  \n",
      "...        ...   ...  \n",
      "1838   outdoor    CA  \n",
      "1839      dome    NV  \n",
      "1840   outdoor    CA  \n",
      "1841   outdoor    MD  \n",
      "1842   outdoor    FL  \n",
      "\n",
      "[1843 rows x 7 columns]\n"
     ]
    }
   ],
   "source": [
    "# print the df\n",
    "\n",
    "print(stad_df)"
   ]
  },
  {
   "cell_type": "markdown",
   "id": "494aeb27",
   "metadata": {},
   "source": [
    "###### Step 5 Capitalize the first leter of the surface and roof_type columns"
   ]
  },
  {
   "cell_type": "code",
   "execution_count": 43,
   "id": "b4ca3451",
   "metadata": {},
   "outputs": [],
   "source": [
    "# capitalize the first letter of 'SURFACE' and 'ROOF_TYPE' columns\n",
    "\n",
    "stad_df['SURFACE'] = stad_df['SURFACE'].str.capitalize()\n",
    "stad_df['ROOF_TYPE'] = stad_df['ROOF_TYPE'].str.capitalize()"
   ]
  },
  {
   "cell_type": "code",
   "execution_count": 44,
   "id": "4131bfa1",
   "metadata": {},
   "outputs": [
    {
     "name": "stdout",
     "output_type": "stream",
     "text": [
      "      YEAR                   NAME ALIAS           VENUE_NAME     SURFACE  \\\n",
      "0     2017   New England Patriots    NE     Gillette Stadium  Artificial   \n",
      "1     2017         Miami Dolphins   MIA    Hard Rock Stadium       Grass   \n",
      "2     2017       Cleveland Browns   CLE  FirstEnergy Stadium       Grass   \n",
      "3     2017          Chicago Bears   CHI        Soldier Field       Grass   \n",
      "4     2017    Washington Redskins   WAS           FedExField       Grass   \n",
      "...    ...                    ...   ...                  ...         ...   \n",
      "1838  2023    San Francisco 49ers    SF       Levi's Stadium       Grass   \n",
      "1839  2023      Las Vegas Raiders    LV    Allegiant Stadium       Grass   \n",
      "1840  2023   Los Angeles Chargers   LAC         SoFi Stadium  Artificial   \n",
      "1841  2023  Washington Commanders   WAS           FedExField       Grass   \n",
      "1842  2023         Miami Dolphins   MIA    Hard Rock Stadium       Grass   \n",
      "\n",
      "     ROOF_TYPE STATE  \n",
      "0      Outdoor    MA  \n",
      "1      Outdoor    FL  \n",
      "2      Outdoor    OH  \n",
      "3      Outdoor    IL  \n",
      "4      Outdoor    MD  \n",
      "...        ...   ...  \n",
      "1838   Outdoor    CA  \n",
      "1839      Dome    NV  \n",
      "1840   Outdoor    CA  \n",
      "1841   Outdoor    MD  \n",
      "1842   Outdoor    FL  \n",
      "\n",
      "[1843 rows x 7 columns]\n"
     ]
    }
   ],
   "source": [
    "# print the df\n",
    "\n",
    "print(stad_df)"
   ]
  },
  {
   "cell_type": "code",
   "execution_count": 45,
   "id": "527a053d",
   "metadata": {},
   "outputs": [],
   "source": [
    "# create csv\n",
    "\n",
    "output_file_path = '/Users/brianreppeto/DSC540/api_data.csv' \n",
    "stad_df.to_csv(output_file_path, index=False)"
   ]
  },
  {
   "cell_type": "markdown",
   "id": "0addd8a6",
   "metadata": {},
   "source": [
    "###### Ethical Implications"
   ]
  },
  {
   "cell_type": "markdown",
   "id": "2542a57e",
   "metadata": {},
   "source": [
    "The API project involved collecting, transforming, and analyzing NFL data, with a focus on team, venue, \n",
    "and game characteristics such as location, surface type, and roof type. Throughout the process, I adhered \n",
    "to ethical guidelines to ensure the integrity and fairness of the analysis. Key steps included data \n",
    "cleaning, feature engineering, and the creation of a CSV file for the transformed dataset.\n",
    "\n",
    "1. Privacy: The data utilized in this project was strictly related to publicly available information about \n",
    "    NFL teams and games. No personal data about players, staff, or fans was collected or analyzed, thus \n",
    "    respecting privacy norms.\n",
    "2. Bias and Fair Representation: A concerted effort was made to treat all teams and data points equally, \n",
    "    avoiding biases towards certain teams. \n",
    "3. Accuracy: High standards for data accuracy were maintained. The analysis was based on reliable sources \n",
    "    and validated methods to ensure the findings were representative and truthful.\n",
    "4. Use of Data: The project's scope was limited to analysis for informational purposes, avoiding any \n",
    "    applications that could lead to ethical concerns, such as gambling. \n",
    "5. Data Monetization and Long-term Impacts: There was no monetization of the data involved in this project. "
   ]
  },
  {
   "cell_type": "code",
   "execution_count": null,
   "id": "602c9fbe",
   "metadata": {},
   "outputs": [],
   "source": []
  }
 ],
 "metadata": {
  "kernelspec": {
   "display_name": "Python 3 (ipykernel)",
   "language": "python",
   "name": "python3"
  },
  "language_info": {
   "codemirror_mode": {
    "name": "ipython",
    "version": 3
   },
   "file_extension": ".py",
   "mimetype": "text/x-python",
   "name": "python",
   "nbconvert_exporter": "python",
   "pygments_lexer": "ipython3",
   "version": "3.11.5"
  }
 },
 "nbformat": 4,
 "nbformat_minor": 5
}
