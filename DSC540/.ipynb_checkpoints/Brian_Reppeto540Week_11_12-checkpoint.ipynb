{
 "cells": [
  {
   "cell_type": "markdown",
   "id": "1796c7a3",
   "metadata": {},
   "source": [
    "#### DSC 540 Week 11 & 12 Data Wrangling with Python: \n",
    "#### Chapter 8\n",
    "#### Author: Brian Reppeto 2/19/2024"
   ]
  },
  {
   "cell_type": "markdown",
   "id": "22365752",
   "metadata": {},
   "source": [
    "Activity 11"
   ]
  },
  {
   "cell_type": "code",
   "execution_count": 1,
   "id": "7eb0e421",
   "metadata": {},
   "outputs": [],
   "source": [
    "# import libraries\n",
    "\n",
    "import sqlite3"
   ]
  },
  {
   "cell_type": "code",
   "execution_count": 4,
   "id": "13b16007",
   "metadata": {},
   "outputs": [],
   "source": [
    "# create connection to petsdb\n",
    "\n",
    "conn = sqlite3.connect(\"petsdb\")"
   ]
  },
  {
   "cell_type": "code",
   "execution_count": 5,
   "id": "b0afff4e",
   "metadata": {},
   "outputs": [],
   "source": [
    "# a tiny function to make sure the connection is successful\n",
    "def is_opened(conn):\n",
    "    try:\n",
    "        conn.execute(\"SELECT * FROM persons limit 5\")\n",
    "        return True\n",
    "    except sqlite3.ProgrammingError as e:\n",
    "        print(\"Connection closed {}\".format(e))\n",
    "        return False\n"
   ]
  },
  {
   "cell_type": "code",
   "execution_count": 6,
   "id": "6a87e9a3",
   "metadata": {},
   "outputs": [
    {
     "name": "stdout",
     "output_type": "stream",
     "text": [
      "True\n"
     ]
    }
   ],
   "source": [
    "# print if the connection is open true/false\n",
    "\n",
    "print(is_opened(conn))"
   ]
  },
  {
   "cell_type": "code",
   "execution_count": 7,
   "id": "b7b87fdd",
   "metadata": {},
   "outputs": [],
   "source": [
    "# close connection\n",
    "\n",
    "conn.close()"
   ]
  },
  {
   "cell_type": "code",
   "execution_count": 8,
   "id": "9a55790d",
   "metadata": {},
   "outputs": [
    {
     "name": "stdout",
     "output_type": "stream",
     "text": [
      "Connection closed Cannot operate on a closed database.\n",
      "False\n"
     ]
    }
   ],
   "source": [
    "# print if connection is closed or open\n",
    "\n",
    "print(is_opened(conn))"
   ]
  },
  {
   "cell_type": "markdown",
   "id": "17fa97ae",
   "metadata": {},
   "source": [
    "##### Task 2"
   ]
  },
  {
   "cell_type": "code",
   "execution_count": 9,
   "id": "32c4142f",
   "metadata": {},
   "outputs": [],
   "source": [
    "# connect to petsdb\n",
    "\n",
    "conn = sqlite3.connect(\"petsdb\")"
   ]
  },
  {
   "cell_type": "code",
   "execution_count": 10,
   "id": "8269456a",
   "metadata": {},
   "outputs": [],
   "source": [
    "# create a cursor object from the petsdb\n",
    "\n",
    "cur = conn.cursor()"
   ]
  },
  {
   "cell_type": "code",
   "execution_count": 11,
   "id": "6232144e",
   "metadata": {},
   "outputs": [
    {
     "name": "stdout",
     "output_type": "stream",
     "text": [
      "We have 2 people aged 5\n",
      "We have 1 people aged 6\n",
      "We have 1 people aged 7\n",
      "We have 3 people aged 8\n",
      "We have 1 people aged 9\n",
      "We have 2 people aged 11\n",
      "We have 3 people aged 12\n",
      "We have 1 people aged 13\n",
      "We have 4 people aged 14\n",
      "We have 2 people aged 16\n",
      "We have 2 people aged 17\n",
      "We have 3 people aged 18\n",
      "We have 1 people aged 19\n",
      "We have 3 people aged 22\n",
      "We have 2 people aged 23\n",
      "We have 3 people aged 24\n",
      "We have 2 people aged 25\n",
      "We have 1 people aged 27\n",
      "We have 1 people aged 30\n",
      "We have 3 people aged 31\n",
      "We have 1 people aged 32\n",
      "We have 1 people aged 33\n",
      "We have 2 people aged 34\n",
      "We have 3 people aged 35\n",
      "We have 3 people aged 36\n",
      "We have 1 people aged 37\n",
      "We have 2 people aged 39\n",
      "We have 1 people aged 40\n",
      "We have 1 people aged 42\n",
      "We have 2 people aged 44\n",
      "We have 2 people aged 48\n",
      "We have 1 people aged 49\n",
      "We have 1 people aged 50\n",
      "We have 2 people aged 51\n",
      "We have 2 people aged 52\n",
      "We have 2 people aged 53\n",
      "We have 2 people aged 54\n",
      "We have 1 people aged 58\n",
      "We have 1 people aged 59\n",
      "We have 1 people aged 60\n",
      "We have 1 people aged 61\n",
      "We have 2 people aged 62\n",
      "We have 1 people aged 63\n",
      "We have 2 people aged 65\n",
      "We have 2 people aged 66\n",
      "We have 1 people aged 67\n",
      "We have 3 people aged 68\n",
      "We have 1 people aged 69\n",
      "We have 1 people aged 70\n",
      "We have 4 people aged 71\n",
      "We have 1 people aged 72\n",
      "We have 5 people aged 73\n",
      "We have 3 people aged 74\n"
     ]
    }
   ],
   "source": [
    "# create a for loop that iterates over the results of a sql group by \n",
    "\n",
    "for ppl, age in cur.execute(\"select count(*), age from persons group by age\"):\n",
    "    print(\"We have {} people aged {}\".format(ppl, age))"
   ]
  },
  {
   "cell_type": "markdown",
   "id": "9a6c90bc",
   "metadata": {},
   "source": [
    "###### Task 3"
   ]
  },
  {
   "cell_type": "code",
   "execution_count": 13,
   "id": "37c6c689",
   "metadata": {},
   "outputs": [
    {
     "name": "stdout",
     "output_type": "stream",
     "text": [
      "Highest number of people 5 came from 73 age group\n"
     ]
    }
   ],
   "source": [
    "# create a for loop that iterates over the results of a sql group by \n",
    "\n",
    "for ppl, age in cur.execute(\"select count(*), age from persons group by age order by count(*) DESC\"):\n",
    "    print(\"Highest number of people {} came from {} age group\".format(ppl, age))\n",
    "    break"
   ]
  },
  {
   "cell_type": "markdown",
   "id": "bd546540",
   "metadata": {},
   "source": [
    "###### Task 4"
   ]
  },
  {
   "cell_type": "code",
   "execution_count": 17,
   "id": "b8331392",
   "metadata": {},
   "outputs": [
    {
     "name": "stdout",
     "output_type": "stream",
     "text": [
      "(60,)\n"
     ]
    }
   ],
   "source": [
    "# count the # of rows in the persons table where the last_name is NULL\n",
    "# iterate through the result to print each row\n",
    "\n",
    "result = cur.execute(\"select count (*) from persons where last_name IS null\")\n",
    "for row in result:\n",
    "    print(row)"
   ]
  },
  {
   "cell_type": "markdown",
   "id": "ae3fc125",
   "metadata": {},
   "source": [
    "###### Task 5"
   ]
  },
  {
   "cell_type": "code",
   "execution_count": 21,
   "id": "0490e6b0",
   "metadata": {},
   "outputs": [
    {
     "name": "stdout",
     "output_type": "stream",
     "text": [
      "43 People whom have more than one pets\n"
     ]
    }
   ],
   "source": [
    "# using a for loop interate over the results\n",
    "# find out how many people own more than one pet\n",
    "\n",
    "result = cur.execute(\"select count(*) from (select count(owner_id) from \\\n",
    "                       pets group by owner_id having count(owner_id) >1)\")\n",
    "for row in result:\n",
    "    print(\"{} People whom have more than one pets\".format(row[0]))"
   ]
  },
  {
   "cell_type": "markdown",
   "id": "a82c263d",
   "metadata": {},
   "source": [
    "###### Task 6"
   ]
  },
  {
   "cell_type": "code",
   "execution_count": 23,
   "id": "c9a8df5e",
   "metadata": {},
   "outputs": [
    {
     "name": "stdout",
     "output_type": "stream",
     "text": [
      "The number of pets that had treatment: 36\n"
     ]
    }
   ],
   "source": [
    "# using a for loop interate over the results\n",
    "# find out how many pets recieved treatment\n",
    "\n",
    "result = cur.execute(\"select count(*) from pets where treatment_done=1\")\n",
    "for row in result:\n",
    "    print(f\"The number of pets that had treatment: {row[0]}\")"
   ]
  },
  {
   "cell_type": "markdown",
   "id": "0cc58f07",
   "metadata": {},
   "source": [
    "###### Task 7"
   ]
  },
  {
   "cell_type": "code",
   "execution_count": 25,
   "id": "c9340e83",
   "metadata": {},
   "outputs": [
    {
     "name": "stdout",
     "output_type": "stream",
     "text": [
      "The number of pets that had treatment where the type of pet is know: 16\n"
     ]
    }
   ],
   "source": [
    "# using a for loop interate over the results\n",
    "# find out how many pets recieved treatment that thr type of pet is know\n",
    "\n",
    "result = cur.execute(\"select count(*) from pets where treatment_done=1 and pet_type is not null\")\n",
    "for row in result:\n",
    "    print(f\"The number of pets that had treatment where the type of pet is know: {row[0]}\")"
   ]
  },
  {
   "cell_type": "markdown",
   "id": "3c127574",
   "metadata": {},
   "source": [
    "###### Task 8"
   ]
  },
  {
   "cell_type": "code",
   "execution_count": 26,
   "id": "c859af1b",
   "metadata": {},
   "outputs": [
    {
     "name": "stdout",
     "output_type": "stream",
     "text": [
      "The number of pets that had treatment where the type of pet is know: 49\n"
     ]
    }
   ],
   "source": [
    "# using a for loop interate over the results\n",
    "# find how many pets are from east port\n",
    "\n",
    "result = cur.execute(\"select count(*) from pets JOIN persons ON pets.owner_id = persons.id \\\n",
    "                where persons.city='east port'\")\n",
    "for row in res:\n",
    "    print(f\"The number of pets that had treatment where the type of pet is know: {row[0]}\")"
   ]
  },
  {
   "cell_type": "markdown",
   "id": "76c987c7",
   "metadata": {},
   "source": [
    "###### Task 9"
   ]
  },
  {
   "cell_type": "code",
   "execution_count": 28,
   "id": "181345f5",
   "metadata": {},
   "outputs": [
    {
     "name": "stdout",
     "output_type": "stream",
     "text": [
      "The number of pets that had treatment where the type of pet is know: 11\n"
     ]
    }
   ],
   "source": [
    "# using a for loop interate over the results\n",
    "# find how many pets are from east port and received treatment\n",
    "\n",
    "result = cur.execute(\"select count(*) from pets JOIN persons ON pets.owner_id = persons.id \\\n",
    "                where persons.city='east port' and pets.treatment_done=1\")\n",
    "for row in result:\n",
    "    print(f\"The number of pets that had treatment where the type of pet is know: {row[0]}\")"
   ]
  },
  {
   "cell_type": "code",
   "execution_count": null,
   "id": "d10d5d31",
   "metadata": {},
   "outputs": [],
   "source": []
  }
 ],
 "metadata": {
  "kernelspec": {
   "display_name": "Python 3 (ipykernel)",
   "language": "python",
   "name": "python3"
  },
  "language_info": {
   "codemirror_mode": {
    "name": "ipython",
    "version": 3
   },
   "file_extension": ".py",
   "mimetype": "text/x-python",
   "name": "python",
   "nbconvert_exporter": "python",
   "pygments_lexer": "ipython3",
   "version": "3.11.5"
  }
 },
 "nbformat": 4,
 "nbformat_minor": 5
}
